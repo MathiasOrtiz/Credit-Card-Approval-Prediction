{
 "cells": [
  {
   "cell_type": "code",
   "execution_count": 69,
   "metadata": {},
   "outputs": [],
   "source": [
    "# Credit Card Approval Prediction - Machine Learning Project\n",
    "# Author: Mathias Damian Ortiz Sanabria (https://github.com/MathiasOrtiz)\n",
    "# License: MIT (See LICENSE file for details)"
   ]
  },
  {
   "cell_type": "markdown",
   "metadata": {},
   "source": [
    "# 📌 Credit Card Approval Prediction\n",
    "This project uses Machine Learning and Deep Learning to predict whether a credit card application will be approved or not.  \n",
    "Several classification models were tested, including:\n",
    "- **K-Nearest Neighbors (KNN)**\n",
    "- **Random Forest**\n",
    "- **XGBoost**\n",
    "- **Neural Network (MLP with Keras/TensorFlow)**\n",
    "\n",
    "The best model found was **Random Forest**, due to its higher accuracy and better generalization capability.\n",
    "\n",
    "📊 **Notebook Structure:**\n",
    "1. **Data loading and exploration**\n",
    "2. **Preprocessing and outlier treatment**\n",
    "3. **Training Machine Learning models**\n",
    "4. **Model evaluation and comparison**\n",
    "5. **Implementation of a Neural Network**\n",
    "6. **Conclusions and final selected model**\n",
    "\n",
    "# 📌 Credit Card Approval Prediction\n",
    "Este proyecto utiliza Machine Learning y Deep Learning para predecir si una solicitud de tarjeta de crédito será aprobada o no.  \n",
    "Se probaron varios modelos de clasificación como:\n",
    "- **K-Nearest Neighbors (KNN)**\n",
    "- **Random Forest**\n",
    "- **XGBoost**\n",
    "- **Red Neuronal (MLP con Keras/TensorFlow)**\n",
    "\n",
    "El mejor modelo encontrado fue **Random Forest**, debido a su mayor precisión y mejor capacidad de generalización.\n",
    "\n",
    "📊 **Estructura del Notebook:**\n",
    "1. **Carga y exploración de datos**\n",
    "2. **Preprocesamiento y tratamiento de outliers**\n",
    "3. **Entrenamiento de modelos de Machine Learning**\n",
    "4. **Evaluación de modelos y comparación**\n",
    "5. **Implementación de una Red Neuronal**\n",
    "6. **Conclusiones y modelo final seleccionado**\n"
   ]
  },
  {
   "cell_type": "code",
   "execution_count": 28,
   "metadata": {},
   "outputs": [
    {
     "name": "stdout",
     "output_type": "stream",
     "text": [
      "   Gender    Age   Debt  Married  BankCustomer     Industry Ethnicity  \\\n",
      "0       1  30.83  0.000        1             1  Industrials     White   \n",
      "1       0  58.67  4.460        1             1    Materials     Black   \n",
      "2       0  24.50  0.500        1             1    Materials     Black   \n",
      "3       1  27.83  1.540        1             1  Industrials     White   \n",
      "4       1  20.17  5.625        1             1  Industrials     White   \n",
      "\n",
      "   YearsEmployed  PriorDefault  Employed  CreditScore  DriversLicense  \\\n",
      "0           1.25             1         1            1               0   \n",
      "1           3.04             1         1            6               0   \n",
      "2           1.50             1         0            0               0   \n",
      "3           3.75             1         1            5               1   \n",
      "4           1.71             1         0            0               0   \n",
      "\n",
      "        Citizen  ZipCode  Income  Approved  \n",
      "0       ByBirth      202       0         1  \n",
      "1       ByBirth       43     560         1  \n",
      "2       ByBirth      280     824         1  \n",
      "3       ByBirth      100       3         1  \n",
      "4  ByOtherMeans      120       0         1  \n"
     ]
    }
   ],
   "source": [
    "# I start by importing pandas\n",
    "import pandas as pd\n",
    "df = pd.read_csv('/Users/mathiorti/Desktop/Me/Cursos/Data Analisis and Machine Learning/Data Sets/Credit_card.csv')\n",
    "print(df.head())"
   ]
  },
  {
   "cell_type": "code",
   "execution_count": 29,
   "metadata": {},
   "outputs": [
    {
     "name": "stdout",
     "output_type": "stream",
     "text": [
      "Gender            0\n",
      "Age               0\n",
      "Debt              0\n",
      "Married           0\n",
      "BankCustomer      0\n",
      "Industry          0\n",
      "Ethnicity         0\n",
      "YearsEmployed     0\n",
      "PriorDefault      0\n",
      "Employed          0\n",
      "CreditScore       0\n",
      "DriversLicense    0\n",
      "Citizen           0\n",
      "ZipCode           0\n",
      "Income            0\n",
      "Approved          0\n",
      "dtype: int64\n"
     ]
    }
   ],
   "source": [
    "#Checking for missing values\n",
    "print(df.isnull().sum())"
   ]
  },
  {
   "cell_type": "code",
   "execution_count": 30,
   "metadata": {},
   "outputs": [
    {
     "name": "stdout",
     "output_type": "stream",
     "text": [
      "0\n"
     ]
    }
   ],
   "source": [
    "# I don't have any missing values\n",
    "# Checking for duplicates\n",
    "print(df.duplicated().sum())"
   ]
  },
  {
   "cell_type": "code",
   "execution_count": 31,
   "metadata": {},
   "outputs": [
    {
     "name": "stdout",
     "output_type": "stream",
     "text": [
      "Gender              int64\n",
      "Age               float64\n",
      "Debt              float64\n",
      "Married             int64\n",
      "BankCustomer        int64\n",
      "Industry           object\n",
      "Ethnicity          object\n",
      "YearsEmployed     float64\n",
      "PriorDefault        int64\n",
      "Employed            int64\n",
      "CreditScore         int64\n",
      "DriversLicense      int64\n",
      "Citizen            object\n",
      "ZipCode             int64\n",
      "Income              int64\n",
      "Approved            int64\n",
      "dtype: object\n"
     ]
    }
   ],
   "source": [
    "# I don't have any duplicates\n",
    "# Reviewing the data types\n",
    "print(df.dtypes)"
   ]
  },
  {
   "cell_type": "code",
   "execution_count": 32,
   "metadata": {},
   "outputs": [
    {
     "name": "stdout",
     "output_type": "stream",
     "text": [
      "['Industrials' 'Materials' 'CommunicationServices' 'Transport'\n",
      " 'InformationTechnology' 'Financials' 'Energy' 'Real Estate' 'Utilities'\n",
      " 'ConsumerDiscretionary' 'Education' 'ConsumerStaples' 'Healthcare'\n",
      " 'Research']\n"
     ]
    }
   ],
   "source": [
    "# Everything looks good\n",
    "# Checking for inconsistent data in the dataset\n",
    "print(df['Industry'].unique())"
   ]
  },
  {
   "cell_type": "code",
   "execution_count": 33,
   "metadata": {},
   "outputs": [
    {
     "name": "stdout",
     "output_type": "stream",
     "text": [
      "['White' 'Black' 'Asian' 'Latino' 'Other']\n"
     ]
    }
   ],
   "source": [
    "print(df['Ethnicity'].unique())"
   ]
  },
  {
   "cell_type": "code",
   "execution_count": 34,
   "metadata": {},
   "outputs": [
    {
     "name": "stdout",
     "output_type": "stream",
     "text": [
      "['ByBirth' 'ByOtherMeans' 'Temporary']\n"
     ]
    }
   ],
   "source": [
    "print(df['Citizen'].unique())"
   ]
  },
  {
   "cell_type": "code",
   "execution_count": 35,
   "metadata": {},
   "outputs": [],
   "source": [
    "# Everything looks good"
   ]
  },
  {
   "cell_type": "markdown",
   "metadata": {},
   "source": [
    "# Visualizing the data"
   ]
  },
  {
   "cell_type": "code",
   "execution_count": 36,
   "metadata": {},
   "outputs": [
    {
     "data": {
      "image/png": "[encoded data removed]",
      "text/plain": [
       "<Figure size 1000x800 with 2 Axes>"
      ]
     },
     "metadata": {},
     "output_type": "display_data"
    }
   ],
   "source": [
    "import matplotlib.pyplot as plt\n",
    "import seaborn as sns\n",
    "import plotly.express as px\n",
    "\n",
    "df_numeric = df.select_dtypes(include=['int64', 'float64'])\n",
    "correlation_matrix = df_numeric.corr()\n",
    "\n",
    "plt.figure(figsize=(10, 8))\n",
    "sns.heatmap(correlation_matrix, annot=True, cmap='coolwarm', center=0)\n",
    "plt.title('Correlation Matrix')\n",
    "plt.show()"
   ]
  },
  {
   "cell_type": "markdown",
   "metadata": {},
   "source": [
    "Correlation Matrix\n",
    "\n",
    "The correlation matrix displays the relationship between variables in the dataset. Correlation values range from -1 to 1:\n",
    "- Positive values close to 1: Indicate a strong positive correlation, meaning that when one variable increases, the other tends to increase as well.\n",
    "- Negative values close to -1: Indicate a strong negative correlation, meaning that when one variable increases, the other tends to decrease.\n",
    "- Values close to 0: Indicate a weak correlation, meaning that the relationship between the variables is not strong.\n",
    "\n",
    "In this case: \n",
    "1. Approved(Target variable):\n",
    "- It has a strong positive correlation with PriorDefault.\n",
    "- Moderate correlation with Employed (0.46) and CreditScore (0.41).\n",
    "- Then weak correlation with Debt (0.21) and Income (0.18), but still exhibit some impact.\n",
    "\n",
    "2. Independent variables:\n",
    "- Married and BankCustomer have a strong positive correlation (0.99).\n",
    "- CreditScore has a moderate correlation with Employed (0.57).\n",
    "\n",
    "For building a predictive model, we should prioritize variables with a strong correlation with the target variable (Approved).\n",
    "\n"
   ]
  },
  {
   "cell_type": "code",
   "execution_count": 37,
   "metadata": {},
   "outputs": [
    {
     "data": {
      "image/png": "[encoded data removed]",
      "text/plain": [
       "<Figure size 1000x800 with 1 Axes>"
      ]
     },
     "metadata": {},
     "output_type": "display_data"
    }
   ],
   "source": [
    "plt.figure(figsize=(10, 8))\n",
    "plt.hist(df['Age'], bins = 20, edgecolor = 'black', alpha = 0.7)\n",
    "plt.title('Distribution of Age')\n",
    "plt.xlabel('Age')\n",
    "plt.ylabel('Count')\n",
    "plt.show()"
   ]
  },
  {
   "cell_type": "code",
   "execution_count": 38,
   "metadata": {},
   "outputs": [
    {
     "data": {
      "image/png": "[encoded data removed]",
      "text/plain": [
       "<Figure size 1000x800 with 1 Axes>"
      ]
     },
     "metadata": {},
     "output_type": "display_data"
    }
   ],
   "source": [
    "plt.figure(figsize=(10, 8))\n",
    "plt.hist(df['Approved'], bins = 2, edgecolor = 'black', alpha = 0.7)\n",
    "plt.title('Distribution of Approved')\n",
    "plt.xlabel('Approved')\n",
    "plt.ylabel('Count')\n",
    "plt.show()"
   ]
  },
  {
   "cell_type": "code",
   "execution_count": 39,
   "metadata": {},
   "outputs": [
    {
     "data": {
      "application/vnd.plotly.v1+json": {
       "config": {
        "plotlyServerURL": "https://plot.ly"
       },
       "data": [
        {
         "hovertemplate": "Age=%{x}<br>Income=%{y}<br>Approved=%{marker.color}<extra></extra>",
         "legendgroup": "",
         "marker": {
          "color": [
           1,
           1,
           1,
           1,
           1,
           1,
           1,
           1,
           1,
           1,
           1,
           1,
           1,
           1,
           1,
           1,
           1,
           1,
           1,
           1,
           1,
           1,
           1,
           1,
           1,
           1,
           1,
           1,
           1,
           1,
           1,
           1,
           1,
           1,
           1,
           1,
           1,
           1,
           1,
           1,
           1,
           1,
           1,
           1,
           1,
           1,
           1,
           1,
           1,
           1,
           1,
           1,
           1,
           1,
           1,
           1,
           1,
           1,
           1,
           1,
           1,
           1,
           1,
           1,
           1,
           1,
           1,
           1,
           1,
           1,
           0,
           0,
           0,
           0,
           0,
           0,
           0,
           0,
           0,
           0,
           0,
           0,
           0,
           0,
           0,
           0,
           0,
           0,
           0,
           0,
           0,
           0,
           0,
           0,
           0,
           0,
           0,
           0,
           0,
           0,
           0,
           0,
           0,
           0,
           0,
           0,
           0,
           0,
           0,
           0,
           0,
           0,
           0,
           0,
           0,
           0,
           0,
           1,
           1,
           1,
           1,
           1,
           1,
           1,
           1,
           1,
           1,
           1,
           1,
           1,
           1,
           1,
           1,
           1,
           1,
           1,
           1,
           1,
           1,
           1,
           1,
           1,
           1,
           1,
           1,
           1,
           1,
           1,
           1,
           1,
           1,
           1,
           1,
           1,
           1,
           1,
           1,
           1,
           1,
           1,
           1,
           1,
           1,
           1,
           1,
           1,
           1,
           1,
           1,
           1,
           1,
           1,
           1,
           1,
           1,
           1,
           1,
           1,
           1,
           1,
           1,
           1,
           1,
           1,
           1,
           1,
           1,
           1,
           1,
           1,
           1,
           1,
           1,
           1,
           1,
           1,
           1,
           1,
           1,
           1,
           1,
           1,
           1,
           1,
           1,
           1,
           1,
           1,
           1,
           1,
           1,
           1,
           1,
           1,
           1,
           1,
           1,
           1,
           1,
           1,
           1,
           1,
           1,
           1,
           1,
           1,
           1,
           1,
           1,
           1,
           1,
           1,
           1,
           1,
           1,
           1,
           1,
           1,
           1,
           1,
           1,
           1,
           1,
           1,
           1,
           1,
           1,
           1,
           1,
           1,
           1,
           1,
           1,
           1,
           0,
           0,
           0,
           0,
           0,
           0,
           0,
           0,
           0,
           0,
           0,
           0,
           0,
           0,
           1,
           1,
           1,
           0,
           0,
           0,
           0,
           0,
           0,
           0,
           0,
           0,
           0,
           0,
           0,
           0,
           0,
           0,
           0,
           0,
           0,
           0,
           0,
           0,
           0,
           0,
           0,
           0,
           0,
           0,
           0,
           0,
           0,
           0,
           0,
           0,
           0,
           0,
           0,
           0,
           0,
           0,
           0,
           0,
           0,
           0,
           0,
           0,
           0,
           1,
           1,
           1,
           1,
           1,
           1,
           1,
           0,
           0,
           0,
           0,
           0,
           0,
           0,
           0,
           0,
           0,
           0,
           0,
           0,
           0,
           0,
           0,
           0,
           0,
           0,
           0,
           0,
           0,
           0,
           0,
           0,
           0,
           0,
           0,
           0,
           0,
           0,
           0,
           0,
           0,
           0,
           0,
           0,
           0,
           0,
           0,
           0,
           0,
           0,
           0,
           0,
           0,
           0,
           0,
           0,
           0,
           0,
           0,
           0,
           0,
           0,
           0,
           0,
           0,
           0,
           0,
           0,
           0,
           0,
           0,
           0,
           0,
           0,
           0,
           0,
           0,
           0,
           0,
           0,
           0,
           0,
           0,
           0,
           0,
           0,
           0,
           0,
           0,
           0,
           0,
           0,
           0,
           0,
           0,
           0,
           0,
           0,
           0,
           0,
           0,
           0,
           0,
           0,
           0,
           0,
           0,
           0,
           0,
           0,
           0,
           0,
           0,
           0,
           0,
           0,
           0,
           0,
           0,
           0,
           0,
           0,
           0,
           0,
           0,
           0,
           0,
           0,
           0,
           0,
           0,
           0,
           0,
           0,
           0,
           0,
           0,
           0,
           0,
           0,
           0,
           0,
           0,
           0,
           0,
           0,
           0,
           0,
           0,
           0,
           0,
           0,
           0,
           0,
           0,
           0,
           0,
           0,
           0,
           0,
           0,
           0,
           0,
           0,
           0,
           0,
           0,
           0,
           0,
           0,
           0,
           0,
           0,
           1,
           1,
           1,
           1,
           1,
           1,
           1,
           1,
           1,
           1,
           1,
           1,
           1,
           1,
           1,
           1,
           1,
           1,
           1,
           1,
           1,
           1,
           1,
           1,
           1,
           1,
           1,
           1,
           1,
           1,
           1,
           1,
           1,
           0,
           0,
           0,
           0,
           0,
           0,
           0,
           0,
           0,
           0,
           0,
           0,
           0,
           0,
           0,
           0,
           0,
           0,
           0,
           0,
           0,
           0,
           0,
           0,
           1,
           1,
           1,
           1,
           1,
           1,
           1,
           1,
           1,
           1,
           1,
           1,
           1,
           1,
           1,
           1,
           1,
           1,
           1,
           1,
           1,
           1,
           1,
           1,
           1,
           1,
           1,
           1,
           1,
           1,
           1,
           1,
           1,
           1,
           1,
           1,
           1,
           1,
           1,
           1,
           1,
           1,
           1,
           1,
           1,
           1,
           1,
           1,
           1,
           1,
           1,
           1,
           1,
           1,
           0,
           0,
           0,
           0,
           0,
           1,
           0,
           0,
           0,
           0,
           0,
           0,
           0,
           0,
           0,
           0,
           0,
           0,
           0,
           0,
           1,
           1,
           0,
           0,
           0,
           0,
           0,
           0,
           0,
           0,
           0,
           0,
           0,
           0,
           0,
           0,
           0,
           0,
           0,
           0,
           0,
           0,
           0,
           0,
           0,
           0,
           0,
           0,
           0,
           0,
           0,
           0,
           0,
           0,
           0,
           0,
           0,
           0,
           0,
           0,
           0,
           0,
           0,
           0,
           0,
           0,
           0,
           0,
           0,
           0,
           0,
           0,
           0,
           0,
           0,
           0,
           0,
           0,
           0,
           0,
           0,
           0,
           0,
           0,
           0,
           0,
           0,
           0,
           0
          ],
          "coloraxis": "coloraxis",
          "symbol": "circle"
         },
         "mode": "markers",
         "name": "",
         "orientation": "v",
         "showlegend": false,
         "type": "scatter",
         "x": [
          30.83,
          58.67,
          24.5,
          27.83,
          20.17,
          32.08,
          33.17,
          22.92,
          54.42,
          42.5,
          22.08,
          29.92,
          38.25,
          48.08,
          45.83,
          36.67,
          28.25,
          23.25,
          21.83,
          19.17,
          25,
          23.25,
          47.75,
          27.42,
          41.17,
          15.83,
          47,
          56.58,
          57.42,
          42.08,
          29.25,
          42,
          49.5,
          36.75,
          22.58,
          27.83,
          27.25,
          23,
          27.75,
          54.58,
          34.17,
          28.92,
          29.67,
          39.58,
          56.42,
          54.33,
          41,
          31.92,
          41.5,
          23.92,
          25.75,
          26,
          37.42,
          34.92,
          34.25,
          23.33,
          23.17,
          44.33,
          35.17,
          43.25,
          56.75,
          31.67,
          23.42,
          20.42,
          26.67,
          34.17,
          36,
          25.5,
          19.42,
          35.17,
          32.33,
          34.83,
          38.58,
          44.25,
          44.83,
          20.67,
          34.08,
          19.17,
          21.67,
          21.5,
          49.58,
          27.67,
          39.83,
          28.46,
          27.25,
          37.17,
          28.46,
          25.67,
          34,
          49,
          62.5,
          31.42,
          28.46,
          52.33,
          28.75,
          28.58,
          23,
          28.46,
          22.5,
          28.5,
          37.5,
          35.25,
          18.67,
          25,
          27.83,
          54.83,
          28.75,
          25,
          40.92,
          19.75,
          29.17,
          24.5,
          24.58,
          33.75,
          20.67,
          25.42,
          37.75,
          52.5,
          57.83,
          20.75,
          39.92,
          25.67,
          24.75,
          44.17,
          23.5,
          34.92,
          47.67,
          22.75,
          34.42,
          28.42,
          67.75,
          20.42,
          47.42,
          36.25,
          32.67,
          48.58,
          39.92,
          33.58,
          18.83,
          26.92,
          31.25,
          56.5,
          43,
          22.33,
          27.25,
          32.83,
          23.25,
          40.33,
          30.5,
          52.83,
          46.67,
          58.33,
          37.33,
          23.08,
          32.75,
          21.67,
          28.5,
          68.67,
          28,
          34.08,
          27.67,
          44,
          25.08,
          32,
          60.58,
          40.83,
          19.33,
          32.33,
          36.67,
          37.5,
          25.08,
          41.33,
          56,
          49.83,
          22.67,
          27,
          25,
          26.08,
          18.42,
          20.17,
          47.67,
          21.25,
          20.67,
          57.08,
          22.42,
          48.75,
          40,
          40.58,
          28.67,
          33.08,
          21.33,
          42,
          41.75,
          22.67,
          34.5,
          28.25,
          33.17,
          48.17,
          27.58,
          22.58,
          24.08,
          41.33,
          24.83,
          20.75,
          36.33,
          35.42,
          71.58,
          28.67,
          35.17,
          39.5,
          39.33,
          24.33,
          60.08,
          23.08,
          26.67,
          48.17,
          41.17,
          55.92,
          53.92,
          18.92,
          50.08,
          65.42,
          17.58,
          18.83,
          37.75,
          23.25,
          18.08,
          22.5,
          19.67,
          22.08,
          25.17,
          47.42,
          33.5,
          27.67,
          58.42,
          20.67,
          26.17,
          21.33,
          42.83,
          38.17,
          20.5,
          48.25,
          28.33,
          18.75,
          18.5,
          33.17,
          45,
          19.67,
          24.5,
          21.83,
          40.25,
          41.42,
          17.83,
          23.17,
          28.46,
          18.17,
          20,
          20,
          20.75,
          24.5,
          32.75,
          52.17,
          48.17,
          20.42,
          50.75,
          17.08,
          18.33,
          32,
          59.67,
          18,
          37.58,
          32.33,
          18.08,
          38.25,
          30.67,
          18.58,
          19.17,
          18.17,
          24.58,
          16.25,
          21.17,
          23.92,
          17.67,
          16.5,
          23.25,
          17.58,
          28.46,
          29.5,
          18.83,
          21.75,
          23,
          18.25,
          25.42,
          35.75,
          16.08,
          31.92,
          69.17,
          32.92,
          16.33,
          22.17,
          57.58,
          18.25,
          23.42,
          15.92,
          24.75,
          48.75,
          23.5,
          18.58,
          27.75,
          31.75,
          24.83,
          19,
          16.33,
          18.58,
          16.25,
          23,
          21.17,
          17.5,
          19.17,
          36.75,
          21.25,
          18.08,
          33.67,
          48.58,
          33.67,
          29.5,
          30.17,
          40.83,
          34.83,
          28.46,
          20.42,
          33.25,
          34.08,
          25.25,
          34.75,
          27.67,
          47.33,
          34.83,
          33.25,
          28,
          39.08,
          42.75,
          26.92,
          33.75,
          38.92,
          62.75,
          32.25,
          26.75,
          63.33,
          27.83,
          26.17,
          22.17,
          22.5,
          30.75,
          36.67,
          16,
          41.17,
          19.5,
          32.42,
          36.75,
          30.25,
          23.08,
          26.83,
          16.92,
          24.42,
          42.83,
          22.75,
          39.42,
          23.58,
          21.42,
          33,
          26.33,
          45,
          26.25,
          28.17,
          20.83,
          28.67,
          20.67,
          34.42,
          33.58,
          43.17,
          22.67,
          24.33,
          56.83,
          22.08,
          34,
          22.58,
          21.17,
          26.67,
          22.92,
          15.17,
          39.92,
          27.42,
          24.75,
          41.17,
          33.08,
          29.83,
          23.58,
          26.17,
          31,
          20.75,
          28.92,
          51.92,
          22.67,
          34,
          69.5,
          40.33,
          19.58,
          16,
          17.08,
          31.25,
          25.17,
          22.67,
          40.58,
          22.25,
          22.25,
          22.5,
          23.58,
          38.42,
          26.58,
          35,
          20.42,
          29.42,
          26.17,
          33.67,
          24.58,
          27.67,
          37.5,
          49.17,
          33.58,
          51.83,
          22.92,
          21.83,
          25.25,
          58.58,
          19,
          19.58,
          53.33,
          27.17,
          25.92,
          23.08,
          39.58,
          30.58,
          17.25,
          17.67,
          28.46,
          16.5,
          27.33,
          31.25,
          20,
          28.46,
          39.5,
          36.5,
          29.75,
          52.42,
          36.17,
          34.58,
          29.67,
          36.17,
          25.67,
          24.5,
          24.08,
          21.92,
          36.58,
          23,
          27.58,
          31.08,
          30.42,
          22.08,
          16.33,
          21.92,
          21.08,
          17.42,
          19.17,
          20.67,
          26.75,
          23.58,
          39.17,
          22.75,
          26.5,
          16.92,
          23.5,
          17.33,
          23.75,
          34.67,
          74.83,
          28.17,
          24.5,
          18.83,
          45.33,
          47.25,
          24.17,
          39.25,
          20.5,
          18.83,
          19.17,
          25,
          20.17,
          25.75,
          20.42,
          28.46,
          39,
          64.08,
          28.25,
          28.75,
          31.33,
          18.92,
          24.75,
          30.67,
          21,
          13.75,
          46,
          44.33,
          20.25,
          22.67,
          28.46,
          60.92,
          16.08,
          28.17,
          39.17,
          20.42,
          30,
          22.83,
          22.5,
          28.58,
          45.17,
          41.58,
          57.08,
          55.75,
          43.25,
          25.33,
          24.58,
          43.17,
          40.92,
          31.83,
          33.92,
          24.92,
          35.25,
          34.25,
          80.25,
          19.42,
          42.75,
          19.67,
          36.33,
          30.08,
          44.25,
          23.58,
          23.92,
          33.17,
          48.33,
          76.75,
          51.33,
          34.75,
          38.58,
          22.42,
          41.92,
          29.58,
          32.17,
          51.42,
          22.83,
          25,
          26.75,
          23.33,
          24.42,
          42.17,
          20.83,
          23.08,
          25.17,
          43.08,
          35.75,
          59.5,
          21,
          21.92,
          65.17,
          20.33,
          32.25,
          30.17,
          25.17,
          39.17,
          39.08,
          31.67,
          41,
          48.5,
          32.67,
          28.08,
          73.42,
          64.08,
          51.58,
          26.67,
          25.33,
          30.17,
          27,
          23.17,
          34.17,
          38.67,
          25.75,
          46.08,
          21.5,
          20.08,
          20.5,
          29.5,
          42.25,
          29.83,
          20.08,
          23.42,
          29.58,
          16.17,
          32.33,
          28.46,
          47.83,
          20,
          27.58,
          22,
          19.33,
          38.33,
          29.42,
          22.67,
          32.25,
          29.58,
          18.42,
          22.17,
          22.67,
          25.58,
          18.83,
          21.58,
          23.75,
          22,
          36.08,
          29.25,
          19.58,
          22.92,
          27.25,
          38.75,
          32.42,
          23.75,
          18.17,
          40.92,
          19.5,
          28.58,
          35.58,
          34.17,
          33.17,
          31.58,
          52.5,
          36.17,
          37.33,
          20.83,
          24.08,
          25.58,
          35.17,
          48.08,
          15.83,
          22.5,
          21.5,
          23.58,
          21.08,
          25.67,
          38.92,
          15.75,
          28.58,
          22.25,
          29.83,
          23.5,
          32.08,
          31.08,
          31.83,
          21.75,
          17.92,
          30.33,
          51.83,
          47.17,
          25.83,
          50.25,
          29.5,
          37.33,
          41.58,
          30.58,
          19.42,
          17.92,
          20.08,
          19.5,
          27.83,
          17.08,
          36.42,
          40.58,
          21.08,
          22.67,
          25.25,
          17.92,
          35
         ],
         "xaxis": "x",
         "y": [
          0,
          560,
          824,
          3,
          0,
          0,
          31285,
          1349,
          314,
          1442,
          0,
          200,
          0,
          2690,
          0,
          0,
          0,
          245,
          0,
          0,
          1208,
          0,
          1260,
          11,
          0,
          0,
          0,
          0,
          0,
          10000,
          0,
          0,
          5000,
          4000,
          560,
          35,
          713,
          551,
          500,
          300,
          221,
          2283,
          100,
          0,
          15,
          284,
          1236,
          300,
          0,
          0,
          0,
          0,
          5800,
          200,
          0,
          300,
          0,
          0,
          0,
          0,
          0,
          730,
          400,
          0,
          0,
          50000,
          456,
          15108,
          2954,
          500,
          0,
          0,
          0,
          0,
          2,
          0,
          0,
          0,
          20,
          0,
          0,
          0,
          0,
          0,
          0,
          0,
          0,
          0,
          0,
          27,
          0,
          0,
          0,
          100,
          225,
          0,
          1,
          0,
          0,
          500,
          400,
          0,
          38,
          5,
          0,
          130,
          0,
          0,
          0,
          5,
          0,
          147,
          0,
          0,
          210,
          0,
          5,
          11202,
          1332,
          50,
          300,
          258,
          567,
          0,
          0,
          1000,
          2510,
          809,
          610,
          0,
          0,
          150,
          51100,
          367,
          1000,
          0,
          1000,
          0,
          600,
          5000,
          0,
          247,
          375,
          278,
          827,
          2072,
          582,
          2300,
          3065,
          2200,
          6,
          1602,
          0,
          2184,
          0,
          0,
          0,
          3376,
          0,
          2000,
          7544,
          15,
          20,
          0,
          10561,
          837,
          400,
          11177,
          639,
          0,
          0,
          0,
          2028,
          0,
          0,
          1065,
          0,
          150,
          540,
          158,
          15000,
          0,
          6,
          3000,
          3257,
          1655,
          500,
          3065,
          1430,
          0,
          0,
          0,
          600,
          0,
          0,
          7,
          0,
          790,
          560,
          396,
          678,
          300,
          600,
          0,
          1187,
          6590,
          0,
          168,
          1270,
          1210,
          0,
          0,
          1000,
          742,
          0,
          0,
          0,
          8851,
          0,
          500,
          0,
          0,
          0,
          0,
          0,
          0,
          0,
          0,
          0,
          0,
          7059,
          1704,
          857,
          500,
          6700,
          2503,
          0,
          9800,
          0,
          196,
          0,
          14,
          0,
          26726,
          300,
          18027,
          2000,
          99,
          444,
          0,
          1200,
          0,
          3000,
          0,
          2010,
          13,
          0,
          0,
          1000,
          0,
          0,
          0,
          120,
          32,
          0,
          722,
          0,
          0,
          0,
          40,
          0,
          0,
          0,
          0,
          0,
          0,
          484,
          0,
          0,
          0,
          204,
          1,
          0,
          98,
          5552,
          1,
          105,
          2803,
          1,
          0,
          0,
          1,
          444,
          1,
          126,
          4,
          6,
          0,
          21,
          173,
          10,
          0,
          0,
          0,
          1,
          0,
          25,
          0,
          0,
          20,
          6,
          6,
          1,
          42,
          0,
          0,
          204,
          100000,
          1,
          113,
          8,
          0,
          44,
          2732,
          0,
          13,
          179,
          0,
          0,
          0,
          0,
          2,
          16,
          1062,
          0,
          251,
          228,
          0,
          0,
          67,
          0,
          100,
          4000,
          0,
          2,
          12,
          122,
          1210,
          0,
          3,
          1,
          0,
          4000,
          0,
          0,
          1,
          0,
          0,
          0,
          0,
          0,
          4208,
          0,
          0,
          1300,
          112,
          1000,
          0,
          16,
          2,
          0,
          1110,
          0,
          0,
          1004,
          0,
          286,
          0,
          4500,
          0,
          0,
          0,
          456,
          4,
          1212,
          0,
          67,
          0,
          0,
          0,
          0,
          0,
          0,
          1,
          195,
          0,
          1,
          87,
          17,
          0,
          184,
          140,
          0,
          0,
          0,
          0,
          18,
          2,
          6,
          8,
          146,
          22,
          0,
          0,
          55,
          0,
          70,
          1,
          500,
          60,
          0,
          7,
          0,
          0,
          0,
          0,
          50,
          5,
          3,
          0,
          4,
          1058,
          0,
          0,
          0,
          1,
          769,
          27,
          300,
          3,
          0,
          1,
          0,
          40,
          0,
          5200,
          0,
          1,
          19,
          0,
          1,
          316,
          50,
          0,
          350,
          3552,
          0,
          0,
          687,
          0,
          0,
          1950,
          0,
          18,
          53,
          10,
          41,
          33,
          0,
          0,
          5,
          100,
          100,
          1000,
          44,
          0,
          5,
          0,
          0,
          0,
          35,
          80,
          10,
          6,
          0,
          351,
          2100,
          475,
          1,
          0,
          892,
          2000,
          4607,
          0,
          0,
          2206,
          5860,
          28,
          0,
          1391,
          2279,
          0,
          100,
          7,
          0,
          5000,
          591,
          500,
          19,
          300,
          1000,
          960,
          0,
          0,
          0,
          0,
          99,
          690,
          0,
          0,
          234,
          500,
          800,
          990,
          0,
          0,
          0,
          2197,
          50,
          90,
          1,
          0,
          0,
          1,
          0,
          0,
          0,
          0,
          0,
          340,
          20,
          200,
          0,
          0,
          28,
          0,
          347,
          327,
          4071,
          0,
          109,
          1249,
          134,
          1344,
          321,
          948,
          0,
          2079,
          3000,
          2384,
          458,
          5298,
          200,
          0,
          0,
          0,
          284,
          0,
          162,
          1583,
          58,
          1,
          59,
          1400,
          1465,
          8000,
          540,
          0,
          4700,
          1097,
          3290,
          0,
          0,
          0,
          13212,
          0,
          1000,
          0,
          5777,
          5124,
          1200,
          150,
          0,
          6,
          0,
          23,
          4159,
          918,
          768,
          3000,
          500,
          1,
          0,
          0,
          0,
          0,
          0,
          0,
          0,
          0,
          4,
          1,
          283,
          7,
          0,
          108,
          9,
          1,
          68,
          375,
          10,
          0,
          0,
          1,
          0,
          0,
          0,
          1000,
          0,
          5,
          809,
          108,
          0,
          0,
          4,
          587,
          0,
          350,
          0,
          0,
          200,
          141,
          0,
          0,
          2,
          501,
          351,
          0,
          0,
          200,
          2,
          160,
          0,
          68,
          11,
          0,
          21,
          390,
          18,
          154,
          0,
          0,
          0,
          0,
          0,
          0,
          0,
          5,
          0,
          1,
          150,
          2,
          117,
          17,
          246,
          237,
          3,
          1,
          50,
          0,
          364,
          537,
          2,
          3,
          0,
          0,
          394,
          1,
          750,
          0
         ],
         "yaxis": "y"
        }
       ],
       "layout": {
        "coloraxis": {
         "colorbar": {
          "title": {
           "text": "Approved"
          }
         },
         "colorscale": [
          [
           0,
           "#0d0887"
          ],
          [
           0.1111111111111111,
           "#46039f"
          ],
          [
           0.2222222222222222,
           "#7201a8"
          ],
          [
           0.3333333333333333,
           "#9c179e"
          ],
          [
           0.4444444444444444,
           "#bd3786"
          ],
          [
           0.5555555555555556,
           "#d8576b"
          ],
          [
           0.6666666666666666,
           "#ed7953"
          ],
          [
           0.7777777777777778,
           "#fb9f3a"
          ],
          [
           0.8888888888888888,
           "#fdca26"
          ],
          [
           1,
           "#f0f921"
          ]
         ]
        },
        "legend": {
         "tracegroupgap": 0
        },
        "template": {
         "data": {
          "bar": [
           {
            "error_x": {
             "color": "#2a3f5f"
            },
            "error_y": {
             "color": "#2a3f5f"
            },
            "marker": {
             "line": {
              "color": "#E5ECF6",
              "width": 0.5
             },
             "pattern": {
              "fillmode": "overlay",
              "size": 10,
              "solidity": 0.2
             }
            },
            "type": "bar"
           }
          ],
          "barpolar": [
           {
            "marker": {
             "line": {
              "color": "#E5ECF6",
              "width": 0.5
             },
             "pattern": {
              "fillmode": "overlay",
              "size": 10,
              "solidity": 0.2
             }
            },
            "type": "barpolar"
           }
          ],
          "carpet": [
           {
            "aaxis": {
             "endlinecolor": "#2a3f5f",
             "gridcolor": "white",
             "linecolor": "white",
             "minorgridcolor": "white",
             "startlinecolor": "#2a3f5f"
            },
            "baxis": {
             "endlinecolor": "#2a3f5f",
             "gridcolor": "white",
             "linecolor": "white",
             "minorgridcolor": "white",
             "startlinecolor": "#2a3f5f"
            },
            "type": "carpet"
           }
          ],
          "choropleth": [
           {
            "colorbar": {
             "outlinewidth": 0,
             "ticks": ""
            },
            "type": "choropleth"
           }
          ],
          "contour": [
           {
            "colorbar": {
             "outlinewidth": 0,
             "ticks": ""
            },
            "colorscale": [
             [
              0,
              "#0d0887"
             ],
             [
              0.1111111111111111,
              "#46039f"
             ],
             [
              0.2222222222222222,
              "#7201a8"
             ],
             [
              0.3333333333333333,
              "#9c179e"
             ],
             [
              0.4444444444444444,
              "#bd3786"
             ],
             [
              0.5555555555555556,
              "#d8576b"
             ],
             [
              0.6666666666666666,
              "#ed7953"
             ],
             [
              0.7777777777777778,
              "#fb9f3a"
             ],
             [
              0.8888888888888888,
              "#fdca26"
             ],
             [
              1,
              "#f0f921"
             ]
            ],
            "type": "contour"
           }
          ],
          "contourcarpet": [
           {
            "colorbar": {
             "outlinewidth": 0,
             "ticks": ""
            },
            "type": "contourcarpet"
           }
          ],
          "heatmap": [
           {
            "colorbar": {
             "outlinewidth": 0,
             "ticks": ""
            },
            "colorscale": [
             [
              0,
              "#0d0887"
             ],
             [
              0.1111111111111111,
              "#46039f"
             ],
             [
              0.2222222222222222,
              "#7201a8"
             ],
             [
              0.3333333333333333,
              "#9c179e"
             ],
             [
              0.4444444444444444,
              "#bd3786"
             ],
             [
              0.5555555555555556,
              "#d8576b"
             ],
             [
              0.6666666666666666,
              "#ed7953"
             ],
             [
              0.7777777777777778,
              "#fb9f3a"
             ],
             [
              0.8888888888888888,
              "#fdca26"
             ],
             [
              1,
              "#f0f921"
             ]
            ],
            "type": "heatmap"
           }
          ],
          "heatmapgl": [
           {
            "colorbar": {
             "outlinewidth": 0,
             "ticks": ""
            },
            "colorscale": [
             [
              0,
              "#0d0887"
             ],
             [
              0.1111111111111111,
              "#46039f"
             ],
             [
              0.2222222222222222,
              "#7201a8"
             ],
             [
              0.3333333333333333,
              "#9c179e"
             ],
             [
              0.4444444444444444,
              "#bd3786"
             ],
             [
              0.5555555555555556,
              "#d8576b"
             ],
             [
              0.6666666666666666,
              "#ed7953"
             ],
             [
              0.7777777777777778,
              "#fb9f3a"
             ],
             [
              0.8888888888888888,
              "#fdca26"
             ],
             [
              1,
              "#f0f921"
             ]
            ],
            "type": "heatmapgl"
           }
          ],
          "histogram": [
           {
            "marker": {
             "pattern": {
              "fillmode": "overlay",
              "size": 10,
              "solidity": 0.2
             }
            },
            "type": "histogram"
           }
          ],
          "histogram2d": [
           {
            "colorbar": {
             "outlinewidth": 0,
             "ticks": ""
            },
            "colorscale": [
             [
              0,
              "#0d0887"
             ],
             [
              0.1111111111111111,
              "#46039f"
             ],
             [
              0.2222222222222222,
              "#7201a8"
             ],
             [
              0.3333333333333333,
              "#9c179e"
             ],
             [
              0.4444444444444444,
              "#bd3786"
             ],
             [
              0.5555555555555556,
              "#d8576b"
             ],
             [
              0.6666666666666666,
              "#ed7953"
             ],
             [
              0.7777777777777778,
              "#fb9f3a"
             ],
             [
              0.8888888888888888,
              "#fdca26"
             ],
             [
              1,
              "#f0f921"
             ]
            ],
            "type": "histogram2d"
           }
          ],
          "histogram2dcontour": [
           {
            "colorbar": {
             "outlinewidth": 0,
             "ticks": ""
            },
            "colorscale": [
             [
              0,
              "#0d0887"
             ],
             [
              0.1111111111111111,
              "#46039f"
             ],
             [
              0.2222222222222222,
              "#7201a8"
             ],
             [
              0.3333333333333333,
              "#9c179e"
             ],
             [
              0.4444444444444444,
              "#bd3786"
             ],
             [
              0.5555555555555556,
              "#d8576b"
             ],
             [
              0.6666666666666666,
              "#ed7953"
             ],
             [
              0.7777777777777778,
              "#fb9f3a"
             ],
             [
              0.8888888888888888,
              "#fdca26"
             ],
             [
              1,
              "#f0f921"
             ]
            ],
            "type": "histogram2dcontour"
           }
          ],
          "mesh3d": [
           {
            "colorbar": {
             "outlinewidth": 0,
             "ticks": ""
            },
            "type": "mesh3d"
           }
          ],
          "parcoords": [
           {
            "line": {
             "colorbar": {
              "outlinewidth": 0,
              "ticks": ""
             }
            },
            "type": "parcoords"
           }
          ],
          "pie": [
           {
            "automargin": true,
            "type": "pie"
           }
          ],
          "scatter": [
           {
            "fillpattern": {
             "fillmode": "overlay",
             "size": 10,
             "solidity": 0.2
            },
            "type": "scatter"
           }
          ],
          "scatter3d": [
           {
            "line": {
             "colorbar": {
              "outlinewidth": 0,
              "ticks": ""
             }
            },
            "marker": {
             "colorbar": {
              "outlinewidth": 0,
              "ticks": ""
             }
            },
            "type": "scatter3d"
           }
          ],
          "scattercarpet": [
           {
            "marker": {
             "colorbar": {
              "outlinewidth": 0,
              "ticks": ""
             }
            },
            "type": "scattercarpet"
           }
          ],
          "scattergeo": [
           {
            "marker": {
             "colorbar": {
              "outlinewidth": 0,
              "ticks": ""
             }
            },
            "type": "scattergeo"
           }
          ],
          "scattergl": [
           {
            "marker": {
             "colorbar": {
              "outlinewidth": 0,
              "ticks": ""
             }
            },
            "type": "scattergl"
           }
          ],
          "scattermapbox": [
           {
            "marker": {
             "colorbar": {
              "outlinewidth": 0,
              "ticks": ""
             }
            },
            "type": "scattermapbox"
           }
          ],
          "scatterpolar": [
           {
            "marker": {
             "colorbar": {
              "outlinewidth": 0,
              "ticks": ""
             }
            },
            "type": "scatterpolar"
           }
          ],
          "scatterpolargl": [
           {
            "marker": {
             "colorbar": {
              "outlinewidth": 0,
              "ticks": ""
             }
            },
            "type": "scatterpolargl"
           }
          ],
          "scatterternary": [
           {
            "marker": {
             "colorbar": {
              "outlinewidth": 0,
              "ticks": ""
             }
            },
            "type": "scatterternary"
           }
          ],
          "surface": [
           {
            "colorbar": {
             "outlinewidth": 0,
             "ticks": ""
            },
            "colorscale": [
             [
              0,
              "#0d0887"
             ],
             [
              0.1111111111111111,
              "#46039f"
             ],
             [
              0.2222222222222222,
              "#7201a8"
             ],
             [
              0.3333333333333333,
              "#9c179e"
             ],
             [
              0.4444444444444444,
              "#bd3786"
             ],
             [
              0.5555555555555556,
              "#d8576b"
             ],
             [
              0.6666666666666666,
              "#ed7953"
             ],
             [
              0.7777777777777778,
              "#fb9f3a"
             ],
             [
              0.8888888888888888,
              "#fdca26"
             ],
             [
              1,
              "#f0f921"
             ]
            ],
            "type": "surface"
           }
          ],
          "table": [
           {
            "cells": {
             "fill": {
              "color": "#EBF0F8"
             },
             "line": {
              "color": "white"
             }
            },
            "header": {
             "fill": {
              "color": "#C8D4E3"
             },
             "line": {
              "color": "white"
             }
            },
            "type": "table"
           }
          ]
         },
         "layout": {
          "annotationdefaults": {
           "arrowcolor": "#2a3f5f",
           "arrowhead": 0,
           "arrowwidth": 1
          },
          "autotypenumbers": "strict",
          "coloraxis": {
           "colorbar": {
            "outlinewidth": 0,
            "ticks": ""
           }
          },
          "colorscale": {
           "diverging": [
            [
             0,
             "#8e0152"
            ],
            [
             0.1,
             "#c51b7d"
            ],
            [
             0.2,
             "#de77ae"
            ],
            [
             0.3,
             "#f1b6da"
            ],
            [
             0.4,
             "#fde0ef"
            ],
            [
             0.5,
             "#f7f7f7"
            ],
            [
             0.6,
             "#e6f5d0"
            ],
            [
             0.7,
             "#b8e186"
            ],
            [
             0.8,
             "#7fbc41"
            ],
            [
             0.9,
             "#4d9221"
            ],
            [
             1,
             "#276419"
            ]
           ],
           "sequential": [
            [
             0,
             "#0d0887"
            ],
            [
             0.1111111111111111,
             "#46039f"
            ],
            [
             0.2222222222222222,
             "#7201a8"
            ],
            [
             0.3333333333333333,
             "#9c179e"
            ],
            [
             0.4444444444444444,
             "#bd3786"
            ],
            [
             0.5555555555555556,
             "#d8576b"
            ],
            [
             0.6666666666666666,
             "#ed7953"
            ],
            [
             0.7777777777777778,
             "#fb9f3a"
            ],
            [
             0.8888888888888888,
             "#fdca26"
            ],
            [
             1,
             "#f0f921"
            ]
           ],
           "sequentialminus": [
            [
             0,
             "#0d0887"
            ],
            [
             0.1111111111111111,
             "#46039f"
            ],
            [
             0.2222222222222222,
             "#7201a8"
            ],
            [
             0.3333333333333333,
             "#9c179e"
            ],
            [
             0.4444444444444444,
             "#bd3786"
            ],
            [
             0.5555555555555556,
             "#d8576b"
            ],
            [
             0.6666666666666666,
             "#ed7953"
            ],
            [
             0.7777777777777778,
             "#fb9f3a"
            ],
            [
             0.8888888888888888,
             "#fdca26"
            ],
            [
             1,
             "#f0f921"
            ]
           ]
          },
          "colorway": [
           "#636efa",
           "#EF553B",
           "#00cc96",
           "#ab63fa",
           "#FFA15A",
           "#19d3f3",
           "#FF6692",
           "#B6E880",
           "#FF97FF",
           "#FECB52"
          ],
          "font": {
           "color": "#2a3f5f"
          },
          "geo": {
           "bgcolor": "white",
           "lakecolor": "white",
           "landcolor": "#E5ECF6",
           "showlakes": true,
           "showland": true,
           "subunitcolor": "white"
          },
          "hoverlabel": {
           "align": "left"
          },
          "hovermode": "closest",
          "mapbox": {
           "style": "light"
          },
          "paper_bgcolor": "white",
          "plot_bgcolor": "#E5ECF6",
          "polar": {
           "angularaxis": {
            "gridcolor": "white",
            "linecolor": "white",
            "ticks": ""
           },
           "bgcolor": "#E5ECF6",
           "radialaxis": {
            "gridcolor": "white",
            "linecolor": "white",
            "ticks": ""
           }
          },
          "scene": {
           "xaxis": {
            "backgroundcolor": "#E5ECF6",
            "gridcolor": "white",
            "gridwidth": 2,
            "linecolor": "white",
            "showbackground": true,
            "ticks": "",
            "zerolinecolor": "white"
           },
           "yaxis": {
            "backgroundcolor": "#E5ECF6",
            "gridcolor": "white",
            "gridwidth": 2,
            "linecolor": "white",
            "showbackground": true,
            "ticks": "",
            "zerolinecolor": "white"
           },
           "zaxis": {
            "backgroundcolor": "#E5ECF6",
            "gridcolor": "white",
            "gridwidth": 2,
            "linecolor": "white",
            "showbackground": true,
            "ticks": "",
            "zerolinecolor": "white"
           }
          },
          "shapedefaults": {
           "line": {
            "color": "#2a3f5f"
           }
          },
          "ternary": {
           "aaxis": {
            "gridcolor": "white",
            "linecolor": "white",
            "ticks": ""
           },
           "baxis": {
            "gridcolor": "white",
            "linecolor": "white",
            "ticks": ""
           },
           "bgcolor": "#E5ECF6",
           "caxis": {
            "gridcolor": "white",
            "linecolor": "white",
            "ticks": ""
           }
          },
          "title": {
           "x": 0.05
          },
          "xaxis": {
           "automargin": true,
           "gridcolor": "white",
           "linecolor": "white",
           "ticks": "",
           "title": {
            "standoff": 15
           },
           "zerolinecolor": "white",
           "zerolinewidth": 2
          },
          "yaxis": {
           "automargin": true,
           "gridcolor": "white",
           "linecolor": "white",
           "ticks": "",
           "title": {
            "standoff": 15
           },
           "zerolinecolor": "white",
           "zerolinewidth": 2
          }
         }
        },
        "title": {
         "text": "Age vs Income"
        },
        "xaxis": {
         "anchor": "y",
         "domain": [
          0,
          1
         ],
         "title": {
          "text": "Age"
         }
        },
        "yaxis": {
         "anchor": "x",
         "domain": [
          0,
          1
         ],
         "title": {
          "text": "Income"
         }
        }
       }
      }
     },
     "metadata": {},
     "output_type": "display_data"
    }
   ],
   "source": [
    "fig = px.scatter(df, x = 'Age', y = 'Income', color='Approved', title='Age vs Income')\n",
    "fig.show()"
   ]
  },
  {
   "cell_type": "code",
   "execution_count": 40,
   "metadata": {},
   "outputs": [
    {
     "data": {
      "application/vnd.plotly.v1+json": {
       "config": {
        "plotlyServerURL": "https://plot.ly"
       },
       "data": [
        {
         "alignmentgroup": "True",
         "bingroup": "x",
         "hovertemplate": "Income=%{x}<br>count=%{y}<extra></extra>",
         "legendgroup": "",
         "marker": {
          "color": "#636efa",
          "pattern": {
           "shape": ""
          }
         },
         "name": "",
         "offsetgroup": "",
         "orientation": "v",
         "showlegend": false,
         "type": "histogram",
         "x": [
          0,
          560,
          824,
          3,
          0,
          0,
          31285,
          1349,
          314,
          1442,
          0,
          200,
          0,
          2690,
          0,
          0,
          0,
          245,
          0,
          0,
          1208,
          0,
          1260,
          11,
          0,
          0,
          0,
          0,
          0,
          10000,
          0,
          0,
          5000,
          4000,
          560,
          35,
          713,
          551,
          500,
          300,
          221,
          2283,
          100,
          0,
          15,
          284,
          1236,
          300,
          0,
          0,
          0,
          0,
          5800,
          200,
          0,
          300,
          0,
          0,
          0,
          0,
          0,
          730,
          400,
          0,
          0,
          50000,
          456,
          15108,
          2954,
          500,
          0,
          0,
          0,
          0,
          2,
          0,
          0,
          0,
          20,
          0,
          0,
          0,
          0,
          0,
          0,
          0,
          0,
          0,
          0,
          27,
          0,
          0,
          0,
          100,
          225,
          0,
          1,
          0,
          0,
          500,
          400,
          0,
          38,
          5,
          0,
          130,
          0,
          0,
          0,
          5,
          0,
          147,
          0,
          0,
          210,
          0,
          5,
          11202,
          1332,
          50,
          300,
          258,
          567,
          0,
          0,
          1000,
          2510,
          809,
          610,
          0,
          0,
          150,
          51100,
          367,
          1000,
          0,
          1000,
          0,
          600,
          5000,
          0,
          247,
          375,
          278,
          827,
          2072,
          582,
          2300,
          3065,
          2200,
          6,
          1602,
          0,
          2184,
          0,
          0,
          0,
          3376,
          0,
          2000,
          7544,
          15,
          20,
          0,
          10561,
          837,
          400,
          11177,
          639,
          0,
          0,
          0,
          2028,
          0,
          0,
          1065,
          0,
          150,
          540,
          158,
          15000,
          0,
          6,
          3000,
          3257,
          1655,
          500,
          3065,
          1430,
          0,
          0,
          0,
          600,
          0,
          0,
          7,
          0,
          790,
          560,
          396,
          678,
          300,
          600,
          0,
          1187,
          6590,
          0,
          168,
          1270,
          1210,
          0,
          0,
          1000,
          742,
          0,
          0,
          0,
          8851,
          0,
          500,
          0,
          0,
          0,
          0,
          0,
          0,
          0,
          0,
          0,
          0,
          7059,
          1704,
          857,
          500,
          6700,
          2503,
          0,
          9800,
          0,
          196,
          0,
          14,
          0,
          26726,
          300,
          18027,
          2000,
          99,
          444,
          0,
          1200,
          0,
          3000,
          0,
          2010,
          13,
          0,
          0,
          1000,
          0,
          0,
          0,
          120,
          32,
          0,
          722,
          0,
          0,
          0,
          40,
          0,
          0,
          0,
          0,
          0,
          0,
          484,
          0,
          0,
          0,
          204,
          1,
          0,
          98,
          5552,
          1,
          105,
          2803,
          1,
          0,
          0,
          1,
          444,
          1,
          126,
          4,
          6,
          0,
          21,
          173,
          10,
          0,
          0,
          0,
          1,
          0,
          25,
          0,
          0,
          20,
          6,
          6,
          1,
          42,
          0,
          0,
          204,
          100000,
          1,
          113,
          8,
          0,
          44,
          2732,
          0,
          13,
          179,
          0,
          0,
          0,
          0,
          2,
          16,
          1062,
          0,
          251,
          228,
          0,
          0,
          67,
          0,
          100,
          4000,
          0,
          2,
          12,
          122,
          1210,
          0,
          3,
          1,
          0,
          4000,
          0,
          0,
          1,
          0,
          0,
          0,
          0,
          0,
          4208,
          0,
          0,
          1300,
          112,
          1000,
          0,
          16,
          2,
          0,
          1110,
          0,
          0,
          1004,
          0,
          286,
          0,
          4500,
          0,
          0,
          0,
          456,
          4,
          1212,
          0,
          67,
          0,
          0,
          0,
          0,
          0,
          0,
          1,
          195,
          0,
          1,
          87,
          17,
          0,
          184,
          140,
          0,
          0,
          0,
          0,
          18,
          2,
          6,
          8,
          146,
          22,
          0,
          0,
          55,
          0,
          70,
          1,
          500,
          60,
          0,
          7,
          0,
          0,
          0,
          0,
          50,
          5,
          3,
          0,
          4,
          1058,
          0,
          0,
          0,
          1,
          769,
          27,
          300,
          3,
          0,
          1,
          0,
          40,
          0,
          5200,
          0,
          1,
          19,
          0,
          1,
          316,
          50,
          0,
          350,
          3552,
          0,
          0,
          687,
          0,
          0,
          1950,
          0,
          18,
          53,
          10,
          41,
          33,
          0,
          0,
          5,
          100,
          100,
          1000,
          44,
          0,
          5,
          0,
          0,
          0,
          35,
          80,
          10,
          6,
          0,
          351,
          2100,
          475,
          1,
          0,
          892,
          2000,
          4607,
          0,
          0,
          2206,
          5860,
          28,
          0,
          1391,
          2279,
          0,
          100,
          7,
          0,
          5000,
          591,
          500,
          19,
          300,
          1000,
          960,
          0,
          0,
          0,
          0,
          99,
          690,
          0,
          0,
          234,
          500,
          800,
          990,
          0,
          0,
          0,
          2197,
          50,
          90,
          1,
          0,
          0,
          1,
          0,
          0,
          0,
          0,
          0,
          340,
          20,
          200,
          0,
          0,
          28,
          0,
          347,
          327,
          4071,
          0,
          109,
          1249,
          134,
          1344,
          321,
          948,
          0,
          2079,
          3000,
          2384,
          458,
          5298,
          200,
          0,
          0,
          0,
          284,
          0,
          162,
          1583,
          58,
          1,
          59,
          1400,
          1465,
          8000,
          540,
          0,
          4700,
          1097,
          3290,
          0,
          0,
          0,
          13212,
          0,
          1000,
          0,
          5777,
          5124,
          1200,
          150,
          0,
          6,
          0,
          23,
          4159,
          918,
          768,
          3000,
          500,
          1,
          0,
          0,
          0,
          0,
          0,
          0,
          0,
          0,
          4,
          1,
          283,
          7,
          0,
          108,
          9,
          1,
          68,
          375,
          10,
          0,
          0,
          1,
          0,
          0,
          0,
          1000,
          0,
          5,
          809,
          108,
          0,
          0,
          4,
          587,
          0,
          350,
          0,
          0,
          200,
          141,
          0,
          0,
          2,
          501,
          351,
          0,
          0,
          200,
          2,
          160,
          0,
          68,
          11,
          0,
          21,
          390,
          18,
          154,
          0,
          0,
          0,
          0,
          0,
          0,
          0,
          5,
          0,
          1,
          150,
          2,
          117,
          17,
          246,
          237,
          3,
          1,
          50,
          0,
          364,
          537,
          2,
          3,
          0,
          0,
          394,
          1,
          750,
          0
         ],
         "xaxis": "x",
         "yaxis": "y"
        }
       ],
       "layout": {
        "barmode": "relative",
        "legend": {
         "tracegroupgap": 0
        },
        "template": {
         "data": {
          "bar": [
           {
            "error_x": {
             "color": "#2a3f5f"
            },
            "error_y": {
             "color": "#2a3f5f"
            },
            "marker": {
             "line": {
              "color": "#E5ECF6",
              "width": 0.5
             },
             "pattern": {
              "fillmode": "overlay",
              "size": 10,
              "solidity": 0.2
             }
            },
            "type": "bar"
           }
          ],
          "barpolar": [
           {
            "marker": {
             "line": {
              "color": "#E5ECF6",
              "width": 0.5
             },
             "pattern": {
              "fillmode": "overlay",
              "size": 10,
              "solidity": 0.2
             }
            },
            "type": "barpolar"
           }
          ],
          "carpet": [
           {
            "aaxis": {
             "endlinecolor": "#2a3f5f",
             "gridcolor": "white",
             "linecolor": "white",
             "minorgridcolor": "white",
             "startlinecolor": "#2a3f5f"
            },
            "baxis": {
             "endlinecolor": "#2a3f5f",
             "gridcolor": "white",
             "linecolor": "white",
             "minorgridcolor": "white",
             "startlinecolor": "#2a3f5f"
            },
            "type": "carpet"
           }
          ],
          "choropleth": [
           {
            "colorbar": {
             "outlinewidth": 0,
             "ticks": ""
            },
            "type": "choropleth"
           }
          ],
          "contour": [
           {
            "colorbar": {
             "outlinewidth": 0,
             "ticks": ""
            },
            "colorscale": [
             [
              0,
              "#0d0887"
             ],
             [
              0.1111111111111111,
              "#46039f"
             ],
             [
              0.2222222222222222,
              "#7201a8"
             ],
             [
              0.3333333333333333,
              "#9c179e"
             ],
             [
              0.4444444444444444,
              "#bd3786"
             ],
             [
              0.5555555555555556,
              "#d8576b"
             ],
             [
              0.6666666666666666,
              "#ed7953"
             ],
             [
              0.7777777777777778,
              "#fb9f3a"
             ],
             [
              0.8888888888888888,
              "#fdca26"
             ],
             [
              1,
              "#f0f921"
             ]
            ],
            "type": "contour"
           }
          ],
          "contourcarpet": [
           {
            "colorbar": {
             "outlinewidth": 0,
             "ticks": ""
            },
            "type": "contourcarpet"
           }
          ],
          "heatmap": [
           {
            "colorbar": {
             "outlinewidth": 0,
             "ticks": ""
            },
            "colorscale": [
             [
              0,
              "#0d0887"
             ],
             [
              0.1111111111111111,
              "#46039f"
             ],
             [
              0.2222222222222222,
              "#7201a8"
             ],
             [
              0.3333333333333333,
              "#9c179e"
             ],
             [
              0.4444444444444444,
              "#bd3786"
             ],
             [
              0.5555555555555556,
              "#d8576b"
             ],
             [
              0.6666666666666666,
              "#ed7953"
             ],
             [
              0.7777777777777778,
              "#fb9f3a"
             ],
             [
              0.8888888888888888,
              "#fdca26"
             ],
             [
              1,
              "#f0f921"
             ]
            ],
            "type": "heatmap"
           }
          ],
          "heatmapgl": [
           {
            "colorbar": {
             "outlinewidth": 0,
             "ticks": ""
            },
            "colorscale": [
             [
              0,
              "#0d0887"
             ],
             [
              0.1111111111111111,
              "#46039f"
             ],
             [
              0.2222222222222222,
              "#7201a8"
             ],
             [
              0.3333333333333333,
              "#9c179e"
             ],
             [
              0.4444444444444444,
              "#bd3786"
             ],
             [
              0.5555555555555556,
              "#d8576b"
             ],
             [
              0.6666666666666666,
              "#ed7953"
             ],
             [
              0.7777777777777778,
              "#fb9f3a"
             ],
             [
              0.8888888888888888,
              "#fdca26"
             ],
             [
              1,
              "#f0f921"
             ]
            ],
            "type": "heatmapgl"
           }
          ],
          "histogram": [
           {
            "marker": {
             "pattern": {
              "fillmode": "overlay",
              "size": 10,
              "solidity": 0.2
             }
            },
            "type": "histogram"
           }
          ],
          "histogram2d": [
           {
            "colorbar": {
             "outlinewidth": 0,
             "ticks": ""
            },
            "colorscale": [
             [
              0,
              "#0d0887"
             ],
             [
              0.1111111111111111,
              "#46039f"
             ],
             [
              0.2222222222222222,
              "#7201a8"
             ],
             [
              0.3333333333333333,
              "#9c179e"
             ],
             [
              0.4444444444444444,
              "#bd3786"
             ],
             [
              0.5555555555555556,
              "#d8576b"
             ],
             [
              0.6666666666666666,
              "#ed7953"
             ],
             [
              0.7777777777777778,
              "#fb9f3a"
             ],
             [
              0.8888888888888888,
              "#fdca26"
             ],
             [
              1,
              "#f0f921"
             ]
            ],
            "type": "histogram2d"
           }
          ],
          "histogram2dcontour": [
           {
            "colorbar": {
             "outlinewidth": 0,
             "ticks": ""
            },
            "colorscale": [
             [
              0,
              "#0d0887"
             ],
             [
              0.1111111111111111,
              "#46039f"
             ],
             [
              0.2222222222222222,
              "#7201a8"
             ],
             [
              0.3333333333333333,
              "#9c179e"
             ],
             [
              0.4444444444444444,
              "#bd3786"
             ],
             [
              0.5555555555555556,
              "#d8576b"
             ],
             [
              0.6666666666666666,
              "#ed7953"
             ],
             [
              0.7777777777777778,
              "#fb9f3a"
             ],
             [
              0.8888888888888888,
              "#fdca26"
             ],
             [
              1,
              "#f0f921"
             ]
            ],
            "type": "histogram2dcontour"
           }
          ],
          "mesh3d": [
           {
            "colorbar": {
             "outlinewidth": 0,
             "ticks": ""
            },
            "type": "mesh3d"
           }
          ],
          "parcoords": [
           {
            "line": {
             "colorbar": {
              "outlinewidth": 0,
              "ticks": ""
             }
            },
            "type": "parcoords"
           }
          ],
          "pie": [
           {
            "automargin": true,
            "type": "pie"
           }
          ],
          "scatter": [
           {
            "fillpattern": {
             "fillmode": "overlay",
             "size": 10,
             "solidity": 0.2
            },
            "type": "scatter"
           }
          ],
          "scatter3d": [
           {
            "line": {
             "colorbar": {
              "outlinewidth": 0,
              "ticks": ""
             }
            },
            "marker": {
             "colorbar": {
              "outlinewidth": 0,
              "ticks": ""
             }
            },
            "type": "scatter3d"
           }
          ],
          "scattercarpet": [
           {
            "marker": {
             "colorbar": {
              "outlinewidth": 0,
              "ticks": ""
             }
            },
            "type": "scattercarpet"
           }
          ],
          "scattergeo": [
           {
            "marker": {
             "colorbar": {
              "outlinewidth": 0,
              "ticks": ""
             }
            },
            "type": "scattergeo"
           }
          ],
          "scattergl": [
           {
            "marker": {
             "colorbar": {
              "outlinewidth": 0,
              "ticks": ""
             }
            },
            "type": "scattergl"
           }
          ],
          "scattermapbox": [
           {
            "marker": {
             "colorbar": {
              "outlinewidth": 0,
              "ticks": ""
             }
            },
            "type": "scattermapbox"
           }
          ],
          "scatterpolar": [
           {
            "marker": {
             "colorbar": {
              "outlinewidth": 0,
              "ticks": ""
             }
            },
            "type": "scatterpolar"
           }
          ],
          "scatterpolargl": [
           {
            "marker": {
             "colorbar": {
              "outlinewidth": 0,
              "ticks": ""
             }
            },
            "type": "scatterpolargl"
           }
          ],
          "scatterternary": [
           {
            "marker": {
             "colorbar": {
              "outlinewidth": 0,
              "ticks": ""
             }
            },
            "type": "scatterternary"
           }
          ],
          "surface": [
           {
            "colorbar": {
             "outlinewidth": 0,
             "ticks": ""
            },
            "colorscale": [
             [
              0,
              "#0d0887"
             ],
             [
              0.1111111111111111,
              "#46039f"
             ],
             [
              0.2222222222222222,
              "#7201a8"
             ],
             [
              0.3333333333333333,
              "#9c179e"
             ],
             [
              0.4444444444444444,
              "#bd3786"
             ],
             [
              0.5555555555555556,
              "#d8576b"
             ],
             [
              0.6666666666666666,
              "#ed7953"
             ],
             [
              0.7777777777777778,
              "#fb9f3a"
             ],
             [
              0.8888888888888888,
              "#fdca26"
             ],
             [
              1,
              "#f0f921"
             ]
            ],
            "type": "surface"
           }
          ],
          "table": [
           {
            "cells": {
             "fill": {
              "color": "#EBF0F8"
             },
             "line": {
              "color": "white"
             }
            },
            "header": {
             "fill": {
              "color": "#C8D4E3"
             },
             "line": {
              "color": "white"
             }
            },
            "type": "table"
           }
          ]
         },
         "layout": {
          "annotationdefaults": {
           "arrowcolor": "#2a3f5f",
           "arrowhead": 0,
           "arrowwidth": 1
          },
          "autotypenumbers": "strict",
          "coloraxis": {
           "colorbar": {
            "outlinewidth": 0,
            "ticks": ""
           }
          },
          "colorscale": {
           "diverging": [
            [
             0,
             "#8e0152"
            ],
            [
             0.1,
             "#c51b7d"
            ],
            [
             0.2,
             "#de77ae"
            ],
            [
             0.3,
             "#f1b6da"
            ],
            [
             0.4,
             "#fde0ef"
            ],
            [
             0.5,
             "#f7f7f7"
            ],
            [
             0.6,
             "#e6f5d0"
            ],
            [
             0.7,
             "#b8e186"
            ],
            [
             0.8,
             "#7fbc41"
            ],
            [
             0.9,
             "#4d9221"
            ],
            [
             1,
             "#276419"
            ]
           ],
           "sequential": [
            [
             0,
             "#0d0887"
            ],
            [
             0.1111111111111111,
             "#46039f"
            ],
            [
             0.2222222222222222,
             "#7201a8"
            ],
            [
             0.3333333333333333,
             "#9c179e"
            ],
            [
             0.4444444444444444,
             "#bd3786"
            ],
            [
             0.5555555555555556,
             "#d8576b"
            ],
            [
             0.6666666666666666,
             "#ed7953"
            ],
            [
             0.7777777777777778,
             "#fb9f3a"
            ],
            [
             0.8888888888888888,
             "#fdca26"
            ],
            [
             1,
             "#f0f921"
            ]
           ],
           "sequentialminus": [
            [
             0,
             "#0d0887"
            ],
            [
             0.1111111111111111,
             "#46039f"
            ],
            [
             0.2222222222222222,
             "#7201a8"
            ],
            [
             0.3333333333333333,
             "#9c179e"
            ],
            [
             0.4444444444444444,
             "#bd3786"
            ],
            [
             0.5555555555555556,
             "#d8576b"
            ],
            [
             0.6666666666666666,
             "#ed7953"
            ],
            [
             0.7777777777777778,
             "#fb9f3a"
            ],
            [
             0.8888888888888888,
             "#fdca26"
            ],
            [
             1,
             "#f0f921"
            ]
           ]
          },
          "colorway": [
           "#636efa",
           "#EF553B",
           "#00cc96",
           "#ab63fa",
           "#FFA15A",
           "#19d3f3",
           "#FF6692",
           "#B6E880",
           "#FF97FF",
           "#FECB52"
          ],
          "font": {
           "color": "#2a3f5f"
          },
          "geo": {
           "bgcolor": "white",
           "lakecolor": "white",
           "landcolor": "#E5ECF6",
           "showlakes": true,
           "showland": true,
           "subunitcolor": "white"
          },
          "hoverlabel": {
           "align": "left"
          },
          "hovermode": "closest",
          "mapbox": {
           "style": "light"
          },
          "paper_bgcolor": "white",
          "plot_bgcolor": "#E5ECF6",
          "polar": {
           "angularaxis": {
            "gridcolor": "white",
            "linecolor": "white",
            "ticks": ""
           },
           "bgcolor": "#E5ECF6",
           "radialaxis": {
            "gridcolor": "white",
            "linecolor": "white",
            "ticks": ""
           }
          },
          "scene": {
           "xaxis": {
            "backgroundcolor": "#E5ECF6",
            "gridcolor": "white",
            "gridwidth": 2,
            "linecolor": "white",
            "showbackground": true,
            "ticks": "",
            "zerolinecolor": "white"
           },
           "yaxis": {
            "backgroundcolor": "#E5ECF6",
            "gridcolor": "white",
            "gridwidth": 2,
            "linecolor": "white",
            "showbackground": true,
            "ticks": "",
            "zerolinecolor": "white"
           },
           "zaxis": {
            "backgroundcolor": "#E5ECF6",
            "gridcolor": "white",
            "gridwidth": 2,
            "linecolor": "white",
            "showbackground": true,
            "ticks": "",
            "zerolinecolor": "white"
           }
          },
          "shapedefaults": {
           "line": {
            "color": "#2a3f5f"
           }
          },
          "ternary": {
           "aaxis": {
            "gridcolor": "white",
            "linecolor": "white",
            "ticks": ""
           },
           "baxis": {
            "gridcolor": "white",
            "linecolor": "white",
            "ticks": ""
           },
           "bgcolor": "#E5ECF6",
           "caxis": {
            "gridcolor": "white",
            "linecolor": "white",
            "ticks": ""
           }
          },
          "title": {
           "x": 0.05
          },
          "xaxis": {
           "automargin": true,
           "gridcolor": "white",
           "linecolor": "white",
           "ticks": "",
           "title": {
            "standoff": 15
           },
           "zerolinecolor": "white",
           "zerolinewidth": 2
          },
          "yaxis": {
           "automargin": true,
           "gridcolor": "white",
           "linecolor": "white",
           "ticks": "",
           "title": {
            "standoff": 15
           },
           "zerolinecolor": "white",
           "zerolinewidth": 2
          }
         }
        },
        "title": {
         "text": "Distribución de Income"
        },
        "xaxis": {
         "anchor": "y",
         "domain": [
          0,
          1
         ],
         "title": {
          "text": "Income"
         }
        },
        "yaxis": {
         "anchor": "x",
         "domain": [
          0,
          1
         ],
         "title": {
          "text": "count"
         }
        }
       }
      }
     },
     "metadata": {},
     "output_type": "display_data"
    }
   ],
   "source": [
    "fig = px.histogram(df, x = 'Income' , title='Distribución de Income')\n",
    "fig.show()"
   ]
  },
  {
   "cell_type": "code",
   "execution_count": 41,
   "metadata": {},
   "outputs": [
    {
     "data": {
      "application/vnd.plotly.v1+json": {
       "config": {
        "plotlyServerURL": "https://plot.ly"
       },
       "data": [
        {
         "alignmentgroup": "True",
         "hovertemplate": "Age=%{y}<extra></extra>",
         "legendgroup": "",
         "marker": {
          "color": "#636efa"
         },
         "name": "",
         "notched": false,
         "offsetgroup": "",
         "orientation": "v",
         "showlegend": false,
         "type": "box",
         "x0": " ",
         "xaxis": "x",
         "y": [
          30.83,
          58.67,
          24.5,
          27.83,
          20.17,
          32.08,
          33.17,
          22.92,
          54.42,
          42.5,
          22.08,
          29.92,
          38.25,
          48.08,
          45.83,
          36.67,
          28.25,
          23.25,
          21.83,
          19.17,
          25,
          23.25,
          47.75,
          27.42,
          41.17,
          15.83,
          47,
          56.58,
          57.42,
          42.08,
          29.25,
          42,
          49.5,
          36.75,
          22.58,
          27.83,
          27.25,
          23,
          27.75,
          54.58,
          34.17,
          28.92,
          29.67,
          39.58,
          56.42,
          54.33,
          41,
          31.92,
          41.5,
          23.92,
          25.75,
          26,
          37.42,
          34.92,
          34.25,
          23.33,
          23.17,
          44.33,
          35.17,
          43.25,
          56.75,
          31.67,
          23.42,
          20.42,
          26.67,
          34.17,
          36,
          25.5,
          19.42,
          35.17,
          32.33,
          34.83,
          38.58,
          44.25,
          44.83,
          20.67,
          34.08,
          19.17,
          21.67,
          21.5,
          49.58,
          27.67,
          39.83,
          28.46,
          27.25,
          37.17,
          28.46,
          25.67,
          34,
          49,
          62.5,
          31.42,
          28.46,
          52.33,
          28.75,
          28.58,
          23,
          28.46,
          22.5,
          28.5,
          37.5,
          35.25,
          18.67,
          25,
          27.83,
          54.83,
          28.75,
          25,
          40.92,
          19.75,
          29.17,
          24.5,
          24.58,
          33.75,
          20.67,
          25.42,
          37.75,
          52.5,
          57.83,
          20.75,
          39.92,
          25.67,
          24.75,
          44.17,
          23.5,
          34.92,
          47.67,
          22.75,
          34.42,
          28.42,
          67.75,
          20.42,
          47.42,
          36.25,
          32.67,
          48.58,
          39.92,
          33.58,
          18.83,
          26.92,
          31.25,
          56.5,
          43,
          22.33,
          27.25,
          32.83,
          23.25,
          40.33,
          30.5,
          52.83,
          46.67,
          58.33,
          37.33,
          23.08,
          32.75,
          21.67,
          28.5,
          68.67,
          28,
          34.08,
          27.67,
          44,
          25.08,
          32,
          60.58,
          40.83,
          19.33,
          32.33,
          36.67,
          37.5,
          25.08,
          41.33,
          56,
          49.83,
          22.67,
          27,
          25,
          26.08,
          18.42,
          20.17,
          47.67,
          21.25,
          20.67,
          57.08,
          22.42,
          48.75,
          40,
          40.58,
          28.67,
          33.08,
          21.33,
          42,
          41.75,
          22.67,
          34.5,
          28.25,
          33.17,
          48.17,
          27.58,
          22.58,
          24.08,
          41.33,
          24.83,
          20.75,
          36.33,
          35.42,
          71.58,
          28.67,
          35.17,
          39.5,
          39.33,
          24.33,
          60.08,
          23.08,
          26.67,
          48.17,
          41.17,
          55.92,
          53.92,
          18.92,
          50.08,
          65.42,
          17.58,
          18.83,
          37.75,
          23.25,
          18.08,
          22.5,
          19.67,
          22.08,
          25.17,
          47.42,
          33.5,
          27.67,
          58.42,
          20.67,
          26.17,
          21.33,
          42.83,
          38.17,
          20.5,
          48.25,
          28.33,
          18.75,
          18.5,
          33.17,
          45,
          19.67,
          24.5,
          21.83,
          40.25,
          41.42,
          17.83,
          23.17,
          28.46,
          18.17,
          20,
          20,
          20.75,
          24.5,
          32.75,
          52.17,
          48.17,
          20.42,
          50.75,
          17.08,
          18.33,
          32,
          59.67,
          18,
          37.58,
          32.33,
          18.08,
          38.25,
          30.67,
          18.58,
          19.17,
          18.17,
          24.58,
          16.25,
          21.17,
          23.92,
          17.67,
          16.5,
          23.25,
          17.58,
          28.46,
          29.5,
          18.83,
          21.75,
          23,
          18.25,
          25.42,
          35.75,
          16.08,
          31.92,
          69.17,
          32.92,
          16.33,
          22.17,
          57.58,
          18.25,
          23.42,
          15.92,
          24.75,
          48.75,
          23.5,
          18.58,
          27.75,
          31.75,
          24.83,
          19,
          16.33,
          18.58,
          16.25,
          23,
          21.17,
          17.5,
          19.17,
          36.75,
          21.25,
          18.08,
          33.67,
          48.58,
          33.67,
          29.5,
          30.17,
          40.83,
          34.83,
          28.46,
          20.42,
          33.25,
          34.08,
          25.25,
          34.75,
          27.67,
          47.33,
          34.83,
          33.25,
          28,
          39.08,
          42.75,
          26.92,
          33.75,
          38.92,
          62.75,
          32.25,
          26.75,
          63.33,
          27.83,
          26.17,
          22.17,
          22.5,
          30.75,
          36.67,
          16,
          41.17,
          19.5,
          32.42,
          36.75,
          30.25,
          23.08,
          26.83,
          16.92,
          24.42,
          42.83,
          22.75,
          39.42,
          23.58,
          21.42,
          33,
          26.33,
          45,
          26.25,
          28.17,
          20.83,
          28.67,
          20.67,
          34.42,
          33.58,
          43.17,
          22.67,
          24.33,
          56.83,
          22.08,
          34,
          22.58,
          21.17,
          26.67,
          22.92,
          15.17,
          39.92,
          27.42,
          24.75,
          41.17,
          33.08,
          29.83,
          23.58,
          26.17,
          31,
          20.75,
          28.92,
          51.92,
          22.67,
          34,
          69.5,
          40.33,
          19.58,
          16,
          17.08,
          31.25,
          25.17,
          22.67,
          40.58,
          22.25,
          22.25,
          22.5,
          23.58,
          38.42,
          26.58,
          35,
          20.42,
          29.42,
          26.17,
          33.67,
          24.58,
          27.67,
          37.5,
          49.17,
          33.58,
          51.83,
          22.92,
          21.83,
          25.25,
          58.58,
          19,
          19.58,
          53.33,
          27.17,
          25.92,
          23.08,
          39.58,
          30.58,
          17.25,
          17.67,
          28.46,
          16.5,
          27.33,
          31.25,
          20,
          28.46,
          39.5,
          36.5,
          29.75,
          52.42,
          36.17,
          34.58,
          29.67,
          36.17,
          25.67,
          24.5,
          24.08,
          21.92,
          36.58,
          23,
          27.58,
          31.08,
          30.42,
          22.08,
          16.33,
          21.92,
          21.08,
          17.42,
          19.17,
          20.67,
          26.75,
          23.58,
          39.17,
          22.75,
          26.5,
          16.92,
          23.5,
          17.33,
          23.75,
          34.67,
          74.83,
          28.17,
          24.5,
          18.83,
          45.33,
          47.25,
          24.17,
          39.25,
          20.5,
          18.83,
          19.17,
          25,
          20.17,
          25.75,
          20.42,
          28.46,
          39,
          64.08,
          28.25,
          28.75,
          31.33,
          18.92,
          24.75,
          30.67,
          21,
          13.75,
          46,
          44.33,
          20.25,
          22.67,
          28.46,
          60.92,
          16.08,
          28.17,
          39.17,
          20.42,
          30,
          22.83,
          22.5,
          28.58,
          45.17,
          41.58,
          57.08,
          55.75,
          43.25,
          25.33,
          24.58,
          43.17,
          40.92,
          31.83,
          33.92,
          24.92,
          35.25,
          34.25,
          80.25,
          19.42,
          42.75,
          19.67,
          36.33,
          30.08,
          44.25,
          23.58,
          23.92,
          33.17,
          48.33,
          76.75,
          51.33,
          34.75,
          38.58,
          22.42,
          41.92,
          29.58,
          32.17,
          51.42,
          22.83,
          25,
          26.75,
          23.33,
          24.42,
          42.17,
          20.83,
          23.08,
          25.17,
          43.08,
          35.75,
          59.5,
          21,
          21.92,
          65.17,
          20.33,
          32.25,
          30.17,
          25.17,
          39.17,
          39.08,
          31.67,
          41,
          48.5,
          32.67,
          28.08,
          73.42,
          64.08,
          51.58,
          26.67,
          25.33,
          30.17,
          27,
          23.17,
          34.17,
          38.67,
          25.75,
          46.08,
          21.5,
          20.08,
          20.5,
          29.5,
          42.25,
          29.83,
          20.08,
          23.42,
          29.58,
          16.17,
          32.33,
          28.46,
          47.83,
          20,
          27.58,
          22,
          19.33,
          38.33,
          29.42,
          22.67,
          32.25,
          29.58,
          18.42,
          22.17,
          22.67,
          25.58,
          18.83,
          21.58,
          23.75,
          22,
          36.08,
          29.25,
          19.58,
          22.92,
          27.25,
          38.75,
          32.42,
          23.75,
          18.17,
          40.92,
          19.5,
          28.58,
          35.58,
          34.17,
          33.17,
          31.58,
          52.5,
          36.17,
          37.33,
          20.83,
          24.08,
          25.58,
          35.17,
          48.08,
          15.83,
          22.5,
          21.5,
          23.58,
          21.08,
          25.67,
          38.92,
          15.75,
          28.58,
          22.25,
          29.83,
          23.5,
          32.08,
          31.08,
          31.83,
          21.75,
          17.92,
          30.33,
          51.83,
          47.17,
          25.83,
          50.25,
          29.5,
          37.33,
          41.58,
          30.58,
          19.42,
          17.92,
          20.08,
          19.5,
          27.83,
          17.08,
          36.42,
          40.58,
          21.08,
          22.67,
          25.25,
          17.92,
          35
         ],
         "y0": " ",
         "yaxis": "y"
        }
       ],
       "layout": {
        "boxmode": "group",
        "legend": {
         "tracegroupgap": 0
        },
        "template": {
         "data": {
          "bar": [
           {
            "error_x": {
             "color": "#2a3f5f"
            },
            "error_y": {
             "color": "#2a3f5f"
            },
            "marker": {
             "line": {
              "color": "#E5ECF6",
              "width": 0.5
             },
             "pattern": {
              "fillmode": "overlay",
              "size": 10,
              "solidity": 0.2
             }
            },
            "type": "bar"
           }
          ],
          "barpolar": [
           {
            "marker": {
             "line": {
              "color": "#E5ECF6",
              "width": 0.5
             },
             "pattern": {
              "fillmode": "overlay",
              "size": 10,
              "solidity": 0.2
             }
            },
            "type": "barpolar"
           }
          ],
          "carpet": [
           {
            "aaxis": {
             "endlinecolor": "#2a3f5f",
             "gridcolor": "white",
             "linecolor": "white",
             "minorgridcolor": "white",
             "startlinecolor": "#2a3f5f"
            },
            "baxis": {
             "endlinecolor": "#2a3f5f",
             "gridcolor": "white",
             "linecolor": "white",
             "minorgridcolor": "white",
             "startlinecolor": "#2a3f5f"
            },
            "type": "carpet"
           }
          ],
          "choropleth": [
           {
            "colorbar": {
             "outlinewidth": 0,
             "ticks": ""
            },
            "type": "choropleth"
           }
          ],
          "contour": [
           {
            "colorbar": {
             "outlinewidth": 0,
             "ticks": ""
            },
            "colorscale": [
             [
              0,
              "#0d0887"
             ],
             [
              0.1111111111111111,
              "#46039f"
             ],
             [
              0.2222222222222222,
              "#7201a8"
             ],
             [
              0.3333333333333333,
              "#9c179e"
             ],
             [
              0.4444444444444444,
              "#bd3786"
             ],
             [
              0.5555555555555556,
              "#d8576b"
             ],
             [
              0.6666666666666666,
              "#ed7953"
             ],
             [
              0.7777777777777778,
              "#fb9f3a"
             ],
             [
              0.8888888888888888,
              "#fdca26"
             ],
             [
              1,
              "#f0f921"
             ]
            ],
            "type": "contour"
           }
          ],
          "contourcarpet": [
           {
            "colorbar": {
             "outlinewidth": 0,
             "ticks": ""
            },
            "type": "contourcarpet"
           }
          ],
          "heatmap": [
           {
            "colorbar": {
             "outlinewidth": 0,
             "ticks": ""
            },
            "colorscale": [
             [
              0,
              "#0d0887"
             ],
             [
              0.1111111111111111,
              "#46039f"
             ],
             [
              0.2222222222222222,
              "#7201a8"
             ],
             [
              0.3333333333333333,
              "#9c179e"
             ],
             [
              0.4444444444444444,
              "#bd3786"
             ],
             [
              0.5555555555555556,
              "#d8576b"
             ],
             [
              0.6666666666666666,
              "#ed7953"
             ],
             [
              0.7777777777777778,
              "#fb9f3a"
             ],
             [
              0.8888888888888888,
              "#fdca26"
             ],
             [
              1,
              "#f0f921"
             ]
            ],
            "type": "heatmap"
           }
          ],
          "heatmapgl": [
           {
            "colorbar": {
             "outlinewidth": 0,
             "ticks": ""
            },
            "colorscale": [
             [
              0,
              "#0d0887"
             ],
             [
              0.1111111111111111,
              "#46039f"
             ],
             [
              0.2222222222222222,
              "#7201a8"
             ],
             [
              0.3333333333333333,
              "#9c179e"
             ],
             [
              0.4444444444444444,
              "#bd3786"
             ],
             [
              0.5555555555555556,
              "#d8576b"
             ],
             [
              0.6666666666666666,
              "#ed7953"
             ],
             [
              0.7777777777777778,
              "#fb9f3a"
             ],
             [
              0.8888888888888888,
              "#fdca26"
             ],
             [
              1,
              "#f0f921"
             ]
            ],
            "type": "heatmapgl"
           }
          ],
          "histogram": [
           {
            "marker": {
             "pattern": {
              "fillmode": "overlay",
              "size": 10,
              "solidity": 0.2
             }
            },
            "type": "histogram"
           }
          ],
          "histogram2d": [
           {
            "colorbar": {
             "outlinewidth": 0,
             "ticks": ""
            },
            "colorscale": [
             [
              0,
              "#0d0887"
             ],
             [
              0.1111111111111111,
              "#46039f"
             ],
             [
              0.2222222222222222,
              "#7201a8"
             ],
             [
              0.3333333333333333,
              "#9c179e"
             ],
             [
              0.4444444444444444,
              "#bd3786"
             ],
             [
              0.5555555555555556,
              "#d8576b"
             ],
             [
              0.6666666666666666,
              "#ed7953"
             ],
             [
              0.7777777777777778,
              "#fb9f3a"
             ],
             [
              0.8888888888888888,
              "#fdca26"
             ],
             [
              1,
              "#f0f921"
             ]
            ],
            "type": "histogram2d"
           }
          ],
          "histogram2dcontour": [
           {
            "colorbar": {
             "outlinewidth": 0,
             "ticks": ""
            },
            "colorscale": [
             [
              0,
              "#0d0887"
             ],
             [
              0.1111111111111111,
              "#46039f"
             ],
             [
              0.2222222222222222,
              "#7201a8"
             ],
             [
              0.3333333333333333,
              "#9c179e"
             ],
             [
              0.4444444444444444,
              "#bd3786"
             ],
             [
              0.5555555555555556,
              "#d8576b"
             ],
             [
              0.6666666666666666,
              "#ed7953"
             ],
             [
              0.7777777777777778,
              "#fb9f3a"
             ],
             [
              0.8888888888888888,
              "#fdca26"
             ],
             [
              1,
              "#f0f921"
             ]
            ],
            "type": "histogram2dcontour"
           }
          ],
          "mesh3d": [
           {
            "colorbar": {
             "outlinewidth": 0,
             "ticks": ""
            },
            "type": "mesh3d"
           }
          ],
          "parcoords": [
           {
            "line": {
             "colorbar": {
              "outlinewidth": 0,
              "ticks": ""
             }
            },
            "type": "parcoords"
           }
          ],
          "pie": [
           {
            "automargin": true,
            "type": "pie"
           }
          ],
          "scatter": [
           {
            "fillpattern": {
             "fillmode": "overlay",
             "size": 10,
             "solidity": 0.2
            },
            "type": "scatter"
           }
          ],
          "scatter3d": [
           {
            "line": {
             "colorbar": {
              "outlinewidth": 0,
              "ticks": ""
             }
            },
            "marker": {
             "colorbar": {
              "outlinewidth": 0,
              "ticks": ""
             }
            },
            "type": "scatter3d"
           }
          ],
          "scattercarpet": [
           {
            "marker": {
             "colorbar": {
              "outlinewidth": 0,
              "ticks": ""
             }
            },
            "type": "scattercarpet"
           }
          ],
          "scattergeo": [
           {
            "marker": {
             "colorbar": {
              "outlinewidth": 0,
              "ticks": ""
             }
            },
            "type": "scattergeo"
           }
          ],
          "scattergl": [
           {
            "marker": {
             "colorbar": {
              "outlinewidth": 0,
              "ticks": ""
             }
            },
            "type": "scattergl"
           }
          ],
          "scattermapbox": [
           {
            "marker": {
             "colorbar": {
              "outlinewidth": 0,
              "ticks": ""
             }
            },
            "type": "scattermapbox"
           }
          ],
          "scatterpolar": [
           {
            "marker": {
             "colorbar": {
              "outlinewidth": 0,
              "ticks": ""
             }
            },
            "type": "scatterpolar"
           }
          ],
          "scatterpolargl": [
           {
            "marker": {
             "colorbar": {
              "outlinewidth": 0,
              "ticks": ""
             }
            },
            "type": "scatterpolargl"
           }
          ],
          "scatterternary": [
           {
            "marker": {
             "colorbar": {
              "outlinewidth": 0,
              "ticks": ""
             }
            },
            "type": "scatterternary"
           }
          ],
          "surface": [
           {
            "colorbar": {
             "outlinewidth": 0,
             "ticks": ""
            },
            "colorscale": [
             [
              0,
              "#0d0887"
             ],
             [
              0.1111111111111111,
              "#46039f"
             ],
             [
              0.2222222222222222,
              "#7201a8"
             ],
             [
              0.3333333333333333,
              "#9c179e"
             ],
             [
              0.4444444444444444,
              "#bd3786"
             ],
             [
              0.5555555555555556,
              "#d8576b"
             ],
             [
              0.6666666666666666,
              "#ed7953"
             ],
             [
              0.7777777777777778,
              "#fb9f3a"
             ],
             [
              0.8888888888888888,
              "#fdca26"
             ],
             [
              1,
              "#f0f921"
             ]
            ],
            "type": "surface"
           }
          ],
          "table": [
           {
            "cells": {
             "fill": {
              "color": "#EBF0F8"
             },
             "line": {
              "color": "white"
             }
            },
            "header": {
             "fill": {
              "color": "#C8D4E3"
             },
             "line": {
              "color": "white"
             }
            },
            "type": "table"
           }
          ]
         },
         "layout": {
          "annotationdefaults": {
           "arrowcolor": "#2a3f5f",
           "arrowhead": 0,
           "arrowwidth": 1
          },
          "autotypenumbers": "strict",
          "coloraxis": {
           "colorbar": {
            "outlinewidth": 0,
            "ticks": ""
           }
          },
          "colorscale": {
           "diverging": [
            [
             0,
             "#8e0152"
            ],
            [
             0.1,
             "#c51b7d"
            ],
            [
             0.2,
             "#de77ae"
            ],
            [
             0.3,
             "#f1b6da"
            ],
            [
             0.4,
             "#fde0ef"
            ],
            [
             0.5,
             "#f7f7f7"
            ],
            [
             0.6,
             "#e6f5d0"
            ],
            [
             0.7,
             "#b8e186"
            ],
            [
             0.8,
             "#7fbc41"
            ],
            [
             0.9,
             "#4d9221"
            ],
            [
             1,
             "#276419"
            ]
           ],
           "sequential": [
            [
             0,
             "#0d0887"
            ],
            [
             0.1111111111111111,
             "#46039f"
            ],
            [
             0.2222222222222222,
             "#7201a8"
            ],
            [
             0.3333333333333333,
             "#9c179e"
            ],
            [
             0.4444444444444444,
             "#bd3786"
            ],
            [
             0.5555555555555556,
             "#d8576b"
            ],
            [
             0.6666666666666666,
             "#ed7953"
            ],
            [
             0.7777777777777778,
             "#fb9f3a"
            ],
            [
             0.8888888888888888,
             "#fdca26"
            ],
            [
             1,
             "#f0f921"
            ]
           ],
           "sequentialminus": [
            [
             0,
             "#0d0887"
            ],
            [
             0.1111111111111111,
             "#46039f"
            ],
            [
             0.2222222222222222,
             "#7201a8"
            ],
            [
             0.3333333333333333,
             "#9c179e"
            ],
            [
             0.4444444444444444,
             "#bd3786"
            ],
            [
             0.5555555555555556,
             "#d8576b"
            ],
            [
             0.6666666666666666,
             "#ed7953"
            ],
            [
             0.7777777777777778,
             "#fb9f3a"
            ],
            [
             0.8888888888888888,
             "#fdca26"
            ],
            [
             1,
             "#f0f921"
            ]
           ]
          },
          "colorway": [
           "#636efa",
           "#EF553B",
           "#00cc96",
           "#ab63fa",
           "#FFA15A",
           "#19d3f3",
           "#FF6692",
           "#B6E880",
           "#FF97FF",
           "#FECB52"
          ],
          "font": {
           "color": "#2a3f5f"
          },
          "geo": {
           "bgcolor": "white",
           "lakecolor": "white",
           "landcolor": "#E5ECF6",
           "showlakes": true,
           "showland": true,
           "subunitcolor": "white"
          },
          "hoverlabel": {
           "align": "left"
          },
          "hovermode": "closest",
          "mapbox": {
           "style": "light"
          },
          "paper_bgcolor": "white",
          "plot_bgcolor": "#E5ECF6",
          "polar": {
           "angularaxis": {
            "gridcolor": "white",
            "linecolor": "white",
            "ticks": ""
           },
           "bgcolor": "#E5ECF6",
           "radialaxis": {
            "gridcolor": "white",
            "linecolor": "white",
            "ticks": ""
           }
          },
          "scene": {
           "xaxis": {
            "backgroundcolor": "#E5ECF6",
            "gridcolor": "white",
            "gridwidth": 2,
            "linecolor": "white",
            "showbackground": true,
            "ticks": "",
            "zerolinecolor": "white"
           },
           "yaxis": {
            "backgroundcolor": "#E5ECF6",
            "gridcolor": "white",
            "gridwidth": 2,
            "linecolor": "white",
            "showbackground": true,
            "ticks": "",
            "zerolinecolor": "white"
           },
           "zaxis": {
            "backgroundcolor": "#E5ECF6",
            "gridcolor": "white",
            "gridwidth": 2,
            "linecolor": "white",
            "showbackground": true,
            "ticks": "",
            "zerolinecolor": "white"
           }
          },
          "shapedefaults": {
           "line": {
            "color": "#2a3f5f"
           }
          },
          "ternary": {
           "aaxis": {
            "gridcolor": "white",
            "linecolor": "white",
            "ticks": ""
           },
           "baxis": {
            "gridcolor": "white",
            "linecolor": "white",
            "ticks": ""
           },
           "bgcolor": "#E5ECF6",
           "caxis": {
            "gridcolor": "white",
            "linecolor": "white",
            "ticks": ""
           }
          },
          "title": {
           "x": 0.05
          },
          "xaxis": {
           "automargin": true,
           "gridcolor": "white",
           "linecolor": "white",
           "ticks": "",
           "title": {
            "standoff": 15
           },
           "zerolinecolor": "white",
           "zerolinewidth": 2
          },
          "yaxis": {
           "automargin": true,
           "gridcolor": "white",
           "linecolor": "white",
           "ticks": "",
           "title": {
            "standoff": 15
           },
           "zerolinecolor": "white",
           "zerolinewidth": 2
          }
         }
        },
        "title": {
         "text": "Distribution of Age"
        },
        "xaxis": {
         "anchor": "y",
         "domain": [
          0,
          1
         ]
        },
        "yaxis": {
         "anchor": "x",
         "domain": [
          0,
          1
         ],
         "title": {
          "text": "Age"
         }
        }
       }
      }
     },
     "metadata": {},
     "output_type": "display_data"
    },
    {
     "data": {
      "application/vnd.plotly.v1+json": {
       "config": {
        "plotlyServerURL": "https://plot.ly"
       },
       "data": [
        {
         "alignmentgroup": "True",
         "hovertemplate": "Debt=%{y}<extra></extra>",
         "legendgroup": "",
         "marker": {
          "color": "#636efa"
         },
         "name": "",
         "notched": false,
         "offsetgroup": "",
         "orientation": "v",
         "showlegend": false,
         "type": "box",
         "x0": " ",
         "xaxis": "x",
         "y": [
          0,
          4.46,
          0.5,
          1.54,
          5.625,
          4,
          1.04,
          11.585,
          0.5,
          4.915,
          0.83,
          1.835,
          6,
          6.04,
          10.5,
          4.415,
          0.875,
          5.875,
          0.25,
          8.585,
          11.25,
          1,
          8,
          14.5,
          6.5,
          0.585,
          13,
          18.5,
          8.5,
          1.04,
          14.79,
          9.79,
          7.585,
          5.125,
          10.75,
          1.5,
          1.585,
          11.75,
          0.585,
          9.415,
          9.17,
          15,
          1.415,
          13.915,
          28,
          6.75,
          2.04,
          4.46,
          1.54,
          0.665,
          0.5,
          1,
          2.04,
          2.5,
          3,
          11.625,
          0,
          0.5,
          4.5,
          3,
          12.25,
          16.165,
          0.79,
          0.835,
          4.25,
          1.54,
          1,
          0.375,
          6.5,
          25.125,
          7.5,
          4,
          5,
          0.5,
          7,
          5.29,
          6.5,
          0.585,
          1.165,
          9.75,
          19,
          1.5,
          0.5,
          3.5,
          0.625,
          4,
          0.375,
          2.21,
          4.5,
          1.5,
          12.75,
          15.5,
          5,
          1.375,
          1.5,
          3.54,
          0.625,
          0.5,
          11,
          1,
          1.75,
          16.5,
          5,
          12,
          4,
          15.5,
          1.165,
          11,
          2.25,
          0.75,
          3.5,
          1.04,
          12.5,
          0.75,
          1.25,
          1.125,
          7,
          6.5,
          7.04,
          10.335,
          6.21,
          12.5,
          12.5,
          6.665,
          9,
          5,
          2.5,
          11,
          4.25,
          3.5,
          5.5,
          1.835,
          8,
          5,
          5.5,
          6.5,
          0.54,
          2.75,
          9.5,
          13.5,
          3.75,
          16,
          0.29,
          11,
          1.665,
          2.5,
          1.5,
          7.54,
          6.5,
          15,
          0.46,
          10,
          6.5,
          2.5,
          1.5,
          11.5,
          3.04,
          15,
          2,
          0.08,
          2,
          2,
          1.71,
          1.75,
          16.5,
          10,
          9.5,
          0.54,
          3.25,
          1.125,
          2.54,
          0,
          12.5,
          13.585,
          10.5,
          1.5,
          12.5,
          8.665,
          9.25,
          8.17,
          0.29,
          2.335,
          3,
          19.5,
          5.665,
          8.5,
          6.5,
          5,
          1.04,
          4.625,
          10.5,
          0.205,
          0.96,
          1.585,
          4.04,
          5.04,
          3.165,
          7.625,
          2.04,
          10.04,
          0.5,
          1,
          2.75,
          10.25,
          2.125,
          12,
          0,
          9.335,
          2.5,
          4.25,
          5.875,
          6.625,
          14.5,
          11.5,
          2.71,
          3.5,
          4.04,
          11.5,
          9.625,
          9.25,
          12.54,
          11,
          9,
          9.54,
          5.5,
          4,
          5.5,
          8.46,
          0.375,
          11,
          3.5,
          3,
          1.75,
          13.75,
          21,
          1.835,
          0.25,
          7.5,
          4.625,
          10.125,
          10,
          25.085,
          5,
          7.5,
          2,
          3.04,
          8.5,
          0.21,
          12.75,
          11,
          21.5,
          5,
          11,
          11.125,
          0.625,
          10.25,
          11.045,
          0,
          9.54,
          1.75,
          2.335,
          0,
          1.335,
          10.5,
          0.585,
          0.085,
          1.21,
          6,
          1.54,
          0.165,
          0,
          2.5,
          6.75,
          10.125,
          2.5,
          5.71,
          5.415,
          10,
          13.5,
          0.835,
          0.875,
          0.585,
          4.46,
          1.25,
          12.625,
          10,
          1.5,
          0.58,
          0.415,
          1.75,
          0.75,
          10,
          0.54,
          2.415,
          0.335,
          3.125,
          9,
          2.5,
          2.75,
          12.125,
          2,
          0.165,
          1,
          2.875,
          13.665,
          26.335,
          2.75,
          10.29,
          1.29,
          3,
          4.5,
          1.75,
          0.21,
          10,
          0,
          0.75,
          0.25,
          22,
          0,
          0.125,
          1.5,
          0.375,
          0.375,
          0.205,
          1.25,
          1.085,
          1.085,
          3.5,
          2.5,
          4,
          0,
          2.5,
          2.5,
          12.5,
          2.5,
          0.75,
          6.5,
          1.25,
          3,
          3,
          4,
          4.085,
          2.25,
          2.75,
          1.75,
          7,
          1.5,
          4.5,
          0.54,
          1.5,
          2,
          0.585,
          11.5,
          1.585,
          2,
          0.165,
          1.335,
          0.165,
          3,
          4.71,
          5.5,
          2.5,
          0.54,
          0.335,
          2,
          1.25,
          6.165,
          1.71,
          11.5,
          0.75,
          2.5,
          13,
          4.585,
          1.54,
          0.585,
          0.5,
          14.5,
          0.835,
          1.335,
          0.25,
          5,
          7,
          2.5,
          4.25,
          11.46,
          5.5,
          1.5,
          0,
          14.585,
          0.17,
          7,
          5,
          12.5,
          0.54,
          1.25,
          1.625,
          2.04,
          0.585,
          12.5,
          2.085,
          5.085,
          0.375,
          6.5,
          0.335,
          5.085,
          6,
          8.125,
          0.665,
          3.125,
          0.25,
          2.835,
          3,
          0.79,
          1.5,
          0.46,
          1.25,
          0.125,
          1.79,
          0.705,
          2.54,
          2.5,
          1.085,
          1.25,
          0.835,
          2.165,
          1.25,
          2.04,
          0.835,
          2.29,
          0.335,
          3,
          3.165,
          1.54,
          1,
          2.71,
          0,
          0.585,
          0.165,
          1.25,
          0.875,
          0,
          5,
          2.71,
          3,
          0,
          11.25,
          0.125,
          1.665,
          1.125,
          7,
          3,
          1.625,
          4.25,
          0.665,
          1.5,
          18.125,
          0,
          0.75,
          5.5,
          0.29,
          2.415,
          0.875,
          0.5,
          0.29,
          1.835,
          3,
          3.085,
          1.375,
          2.335,
          4.085,
          11.665,
          4.125,
          6.5,
          4,
          0.415,
          2,
          0.835,
          2.5,
          11.5,
          2.71,
          0.5,
          3.165,
          9.5,
          0.415,
          1.08,
          19,
          0.125,
          13.335,
          3.54,
          1,
          0.75,
          0.875,
          9.5,
          11.835,
          4.415,
          9.5,
          0.875,
          9.25,
          0.5,
          7,
          4,
          5,
          0.165,
          5.125,
          3.75,
          19.5,
          9,
          3,
          12,
          4.79,
          4,
          4,
          0,
          9.96,
          2.54,
          10.5,
          5,
          0.75,
          0.375,
          1.71,
          7.5,
          5.29,
          3,
          8.5,
          1.665,
          1.5,
          1.75,
          0.335,
          7.08,
          25.21,
          2.085,
          0.67,
          2.25,
          0.835,
          2.5,
          1.585,
          1.25,
          3.165,
          1.75,
          5.5,
          1.5,
          3,
          10,
          3.79,
          1.04,
          11,
          0.46,
          1.5,
          1,
          12,
          22.29,
          10,
          15,
          3.335,
          11.25,
          0.42,
          4.5,
          1.46,
          0.04,
          2.29,
          12.33,
          1.125,
          1.5,
          12.335,
          5.04,
          3,
          11.5,
          2.875,
          0.375,
          0.915,
          2.75,
          3,
          0.54,
          14,
          10,
          0.165,
          0.5,
          6,
          1.625,
          6,
          0.83,
          0.04,
          4.25,
          9,
          15,
          17.75,
          20,
          15,
          1.75,
          0.58,
          6.5,
          0.75,
          0,
          5.25,
          0.21,
          0.75,
          3,
          6,
          0.125,
          2.415,
          0.46,
          1.75,
          1.25,
          0.25,
          0.585,
          1.75,
          0.04,
          3.5,
          0.04,
          4.165,
          1.25,
          3.25,
          0.79,
          10.915,
          4.415,
          1.25,
          0.75,
          14,
          4.75,
          10.415,
          2.25,
          0.165,
          0,
          0,
          0.79,
          12,
          7.835,
          2.54,
          13,
          0.665,
          1.25,
          0.29,
          1.5,
          2.165,
          0.71,
          2.46,
          0.5,
          9.585,
          3.625,
          0.75,
          2.75,
          2.25,
          0.75,
          7,
          0.42,
          2.665,
          8.5,
          9,
          0.335,
          3.75,
          3.75,
          7.625,
          0.415,
          11.5,
          0.83,
          5,
          3.25,
          1.665,
          0.375,
          3.75,
          9,
          3.5,
          1.5,
          4,
          1.5,
          0.04,
          11.75,
          0.54,
          0.5,
          2.04,
          5.835,
          12.835,
          0.835,
          2,
          2.5,
          1.04,
          10.665,
          7.25,
          10.21,
          1.25,
          0.29,
          1,
          3.29,
          0.75,
          3.29,
          10.085,
          0.75,
          13.5,
          0.205,
          3.375
         ],
         "y0": " ",
         "yaxis": "y"
        }
       ],
       "layout": {
        "boxmode": "group",
        "legend": {
         "tracegroupgap": 0
        },
        "template": {
         "data": {
          "bar": [
           {
            "error_x": {
             "color": "#2a3f5f"
            },
            "error_y": {
             "color": "#2a3f5f"
            },
            "marker": {
             "line": {
              "color": "#E5ECF6",
              "width": 0.5
             },
             "pattern": {
              "fillmode": "overlay",
              "size": 10,
              "solidity": 0.2
             }
            },
            "type": "bar"
           }
          ],
          "barpolar": [
           {
            "marker": {
             "line": {
              "color": "#E5ECF6",
              "width": 0.5
             },
             "pattern": {
              "fillmode": "overlay",
              "size": 10,
              "solidity": 0.2
             }
            },
            "type": "barpolar"
           }
          ],
          "carpet": [
           {
            "aaxis": {
             "endlinecolor": "#2a3f5f",
             "gridcolor": "white",
             "linecolor": "white",
             "minorgridcolor": "white",
             "startlinecolor": "#2a3f5f"
            },
            "baxis": {
             "endlinecolor": "#2a3f5f",
             "gridcolor": "white",
             "linecolor": "white",
             "minorgridcolor": "white",
             "startlinecolor": "#2a3f5f"
            },
            "type": "carpet"
           }
          ],
          "choropleth": [
           {
            "colorbar": {
             "outlinewidth": 0,
             "ticks": ""
            },
            "type": "choropleth"
           }
          ],
          "contour": [
           {
            "colorbar": {
             "outlinewidth": 0,
             "ticks": ""
            },
            "colorscale": [
             [
              0,
              "#0d0887"
             ],
             [
              0.1111111111111111,
              "#46039f"
             ],
             [
              0.2222222222222222,
              "#7201a8"
             ],
             [
              0.3333333333333333,
              "#9c179e"
             ],
             [
              0.4444444444444444,
              "#bd3786"
             ],
             [
              0.5555555555555556,
              "#d8576b"
             ],
             [
              0.6666666666666666,
              "#ed7953"
             ],
             [
              0.7777777777777778,
              "#fb9f3a"
             ],
             [
              0.8888888888888888,
              "#fdca26"
             ],
             [
              1,
              "#f0f921"
             ]
            ],
            "type": "contour"
           }
          ],
          "contourcarpet": [
           {
            "colorbar": {
             "outlinewidth": 0,
             "ticks": ""
            },
            "type": "contourcarpet"
           }
          ],
          "heatmap": [
           {
            "colorbar": {
             "outlinewidth": 0,
             "ticks": ""
            },
            "colorscale": [
             [
              0,
              "#0d0887"
             ],
             [
              0.1111111111111111,
              "#46039f"
             ],
             [
              0.2222222222222222,
              "#7201a8"
             ],
             [
              0.3333333333333333,
              "#9c179e"
             ],
             [
              0.4444444444444444,
              "#bd3786"
             ],
             [
              0.5555555555555556,
              "#d8576b"
             ],
             [
              0.6666666666666666,
              "#ed7953"
             ],
             [
              0.7777777777777778,
              "#fb9f3a"
             ],
             [
              0.8888888888888888,
              "#fdca26"
             ],
             [
              1,
              "#f0f921"
             ]
            ],
            "type": "heatmap"
           }
          ],
          "heatmapgl": [
           {
            "colorbar": {
             "outlinewidth": 0,
             "ticks": ""
            },
            "colorscale": [
             [
              0,
              "#0d0887"
             ],
             [
              0.1111111111111111,
              "#46039f"
             ],
             [
              0.2222222222222222,
              "#7201a8"
             ],
             [
              0.3333333333333333,
              "#9c179e"
             ],
             [
              0.4444444444444444,
              "#bd3786"
             ],
             [
              0.5555555555555556,
              "#d8576b"
             ],
             [
              0.6666666666666666,
              "#ed7953"
             ],
             [
              0.7777777777777778,
              "#fb9f3a"
             ],
             [
              0.8888888888888888,
              "#fdca26"
             ],
             [
              1,
              "#f0f921"
             ]
            ],
            "type": "heatmapgl"
           }
          ],
          "histogram": [
           {
            "marker": {
             "pattern": {
              "fillmode": "overlay",
              "size": 10,
              "solidity": 0.2
             }
            },
            "type": "histogram"
           }
          ],
          "histogram2d": [
           {
            "colorbar": {
             "outlinewidth": 0,
             "ticks": ""
            },
            "colorscale": [
             [
              0,
              "#0d0887"
             ],
             [
              0.1111111111111111,
              "#46039f"
             ],
             [
              0.2222222222222222,
              "#7201a8"
             ],
             [
              0.3333333333333333,
              "#9c179e"
             ],
             [
              0.4444444444444444,
              "#bd3786"
             ],
             [
              0.5555555555555556,
              "#d8576b"
             ],
             [
              0.6666666666666666,
              "#ed7953"
             ],
             [
              0.7777777777777778,
              "#fb9f3a"
             ],
             [
              0.8888888888888888,
              "#fdca26"
             ],
             [
              1,
              "#f0f921"
             ]
            ],
            "type": "histogram2d"
           }
          ],
          "histogram2dcontour": [
           {
            "colorbar": {
             "outlinewidth": 0,
             "ticks": ""
            },
            "colorscale": [
             [
              0,
              "#0d0887"
             ],
             [
              0.1111111111111111,
              "#46039f"
             ],
             [
              0.2222222222222222,
              "#7201a8"
             ],
             [
              0.3333333333333333,
              "#9c179e"
             ],
             [
              0.4444444444444444,
              "#bd3786"
             ],
             [
              0.5555555555555556,
              "#d8576b"
             ],
             [
              0.6666666666666666,
              "#ed7953"
             ],
             [
              0.7777777777777778,
              "#fb9f3a"
             ],
             [
              0.8888888888888888,
              "#fdca26"
             ],
             [
              1,
              "#f0f921"
             ]
            ],
            "type": "histogram2dcontour"
           }
          ],
          "mesh3d": [
           {
            "colorbar": {
             "outlinewidth": 0,
             "ticks": ""
            },
            "type": "mesh3d"
           }
          ],
          "parcoords": [
           {
            "line": {
             "colorbar": {
              "outlinewidth": 0,
              "ticks": ""
             }
            },
            "type": "parcoords"
           }
          ],
          "pie": [
           {
            "automargin": true,
            "type": "pie"
           }
          ],
          "scatter": [
           {
            "fillpattern": {
             "fillmode": "overlay",
             "size": 10,
             "solidity": 0.2
            },
            "type": "scatter"
           }
          ],
          "scatter3d": [
           {
            "line": {
             "colorbar": {
              "outlinewidth": 0,
              "ticks": ""
             }
            },
            "marker": {
             "colorbar": {
              "outlinewidth": 0,
              "ticks": ""
             }
            },
            "type": "scatter3d"
           }
          ],
          "scattercarpet": [
           {
            "marker": {
             "colorbar": {
              "outlinewidth": 0,
              "ticks": ""
             }
            },
            "type": "scattercarpet"
           }
          ],
          "scattergeo": [
           {
            "marker": {
             "colorbar": {
              "outlinewidth": 0,
              "ticks": ""
             }
            },
            "type": "scattergeo"
           }
          ],
          "scattergl": [
           {
            "marker": {
             "colorbar": {
              "outlinewidth": 0,
              "ticks": ""
             }
            },
            "type": "scattergl"
           }
          ],
          "scattermapbox": [
           {
            "marker": {
             "colorbar": {
              "outlinewidth": 0,
              "ticks": ""
             }
            },
            "type": "scattermapbox"
           }
          ],
          "scatterpolar": [
           {
            "marker": {
             "colorbar": {
              "outlinewidth": 0,
              "ticks": ""
             }
            },
            "type": "scatterpolar"
           }
          ],
          "scatterpolargl": [
           {
            "marker": {
             "colorbar": {
              "outlinewidth": 0,
              "ticks": ""
             }
            },
            "type": "scatterpolargl"
           }
          ],
          "scatterternary": [
           {
            "marker": {
             "colorbar": {
              "outlinewidth": 0,
              "ticks": ""
             }
            },
            "type": "scatterternary"
           }
          ],
          "surface": [
           {
            "colorbar": {
             "outlinewidth": 0,
             "ticks": ""
            },
            "colorscale": [
             [
              0,
              "#0d0887"
             ],
             [
              0.1111111111111111,
              "#46039f"
             ],
             [
              0.2222222222222222,
              "#7201a8"
             ],
             [
              0.3333333333333333,
              "#9c179e"
             ],
             [
              0.4444444444444444,
              "#bd3786"
             ],
             [
              0.5555555555555556,
              "#d8576b"
             ],
             [
              0.6666666666666666,
              "#ed7953"
             ],
             [
              0.7777777777777778,
              "#fb9f3a"
             ],
             [
              0.8888888888888888,
              "#fdca26"
             ],
             [
              1,
              "#f0f921"
             ]
            ],
            "type": "surface"
           }
          ],
          "table": [
           {
            "cells": {
             "fill": {
              "color": "#EBF0F8"
             },
             "line": {
              "color": "white"
             }
            },
            "header": {
             "fill": {
              "color": "#C8D4E3"
             },
             "line": {
              "color": "white"
             }
            },
            "type": "table"
           }
          ]
         },
         "layout": {
          "annotationdefaults": {
           "arrowcolor": "#2a3f5f",
           "arrowhead": 0,
           "arrowwidth": 1
          },
          "autotypenumbers": "strict",
          "coloraxis": {
           "colorbar": {
            "outlinewidth": 0,
            "ticks": ""
           }
          },
          "colorscale": {
           "diverging": [
            [
             0,
             "#8e0152"
            ],
            [
             0.1,
             "#c51b7d"
            ],
            [
             0.2,
             "#de77ae"
            ],
            [
             0.3,
             "#f1b6da"
            ],
            [
             0.4,
             "#fde0ef"
            ],
            [
             0.5,
             "#f7f7f7"
            ],
            [
             0.6,
             "#e6f5d0"
            ],
            [
             0.7,
             "#b8e186"
            ],
            [
             0.8,
             "#7fbc41"
            ],
            [
             0.9,
             "#4d9221"
            ],
            [
             1,
             "#276419"
            ]
           ],
           "sequential": [
            [
             0,
             "#0d0887"
            ],
            [
             0.1111111111111111,
             "#46039f"
            ],
            [
             0.2222222222222222,
             "#7201a8"
            ],
            [
             0.3333333333333333,
             "#9c179e"
            ],
            [
             0.4444444444444444,
             "#bd3786"
            ],
            [
             0.5555555555555556,
             "#d8576b"
            ],
            [
             0.6666666666666666,
             "#ed7953"
            ],
            [
             0.7777777777777778,
             "#fb9f3a"
            ],
            [
             0.8888888888888888,
             "#fdca26"
            ],
            [
             1,
             "#f0f921"
            ]
           ],
           "sequentialminus": [
            [
             0,
             "#0d0887"
            ],
            [
             0.1111111111111111,
             "#46039f"
            ],
            [
             0.2222222222222222,
             "#7201a8"
            ],
            [
             0.3333333333333333,
             "#9c179e"
            ],
            [
             0.4444444444444444,
             "#bd3786"
            ],
            [
             0.5555555555555556,
             "#d8576b"
            ],
            [
             0.6666666666666666,
             "#ed7953"
            ],
            [
             0.7777777777777778,
             "#fb9f3a"
            ],
            [
             0.8888888888888888,
             "#fdca26"
            ],
            [
             1,
             "#f0f921"
            ]
           ]
          },
          "colorway": [
           "#636efa",
           "#EF553B",
           "#00cc96",
           "#ab63fa",
           "#FFA15A",
           "#19d3f3",
           "#FF6692",
           "#B6E880",
           "#FF97FF",
           "#FECB52"
          ],
          "font": {
           "color": "#2a3f5f"
          },
          "geo": {
           "bgcolor": "white",
           "lakecolor": "white",
           "landcolor": "#E5ECF6",
           "showlakes": true,
           "showland": true,
           "subunitcolor": "white"
          },
          "hoverlabel": {
           "align": "left"
          },
          "hovermode": "closest",
          "mapbox": {
           "style": "light"
          },
          "paper_bgcolor": "white",
          "plot_bgcolor": "#E5ECF6",
          "polar": {
           "angularaxis": {
            "gridcolor": "white",
            "linecolor": "white",
            "ticks": ""
           },
           "bgcolor": "#E5ECF6",
           "radialaxis": {
            "gridcolor": "white",
            "linecolor": "white",
            "ticks": ""
           }
          },
          "scene": {
           "xaxis": {
            "backgroundcolor": "#E5ECF6",
            "gridcolor": "white",
            "gridwidth": 2,
            "linecolor": "white",
            "showbackground": true,
            "ticks": "",
            "zerolinecolor": "white"
           },
           "yaxis": {
            "backgroundcolor": "#E5ECF6",
            "gridcolor": "white",
            "gridwidth": 2,
            "linecolor": "white",
            "showbackground": true,
            "ticks": "",
            "zerolinecolor": "white"
           },
           "zaxis": {
            "backgroundcolor": "#E5ECF6",
            "gridcolor": "white",
            "gridwidth": 2,
            "linecolor": "white",
            "showbackground": true,
            "ticks": "",
            "zerolinecolor": "white"
           }
          },
          "shapedefaults": {
           "line": {
            "color": "#2a3f5f"
           }
          },
          "ternary": {
           "aaxis": {
            "gridcolor": "white",
            "linecolor": "white",
            "ticks": ""
           },
           "baxis": {
            "gridcolor": "white",
            "linecolor": "white",
            "ticks": ""
           },
           "bgcolor": "#E5ECF6",
           "caxis": {
            "gridcolor": "white",
            "linecolor": "white",
            "ticks": ""
           }
          },
          "title": {
           "x": 0.05
          },
          "xaxis": {
           "automargin": true,
           "gridcolor": "white",
           "linecolor": "white",
           "ticks": "",
           "title": {
            "standoff": 15
           },
           "zerolinecolor": "white",
           "zerolinewidth": 2
          },
          "yaxis": {
           "automargin": true,
           "gridcolor": "white",
           "linecolor": "white",
           "ticks": "",
           "title": {
            "standoff": 15
           },
           "zerolinecolor": "white",
           "zerolinewidth": 2
          }
         }
        },
        "title": {
         "text": "Distribution of Debt"
        },
        "xaxis": {
         "anchor": "y",
         "domain": [
          0,
          1
         ]
        },
        "yaxis": {
         "anchor": "x",
         "domain": [
          0,
          1
         ],
         "title": {
          "text": "Debt"
         }
        }
       }
      }
     },
     "metadata": {},
     "output_type": "display_data"
    },
    {
     "data": {
      "application/vnd.plotly.v1+json": {
       "config": {
        "plotlyServerURL": "https://plot.ly"
       },
       "data": [
        {
         "alignmentgroup": "True",
         "hovertemplate": "YearsEmployed=%{y}<extra></extra>",
         "legendgroup": "",
         "marker": {
          "color": "#636efa"
         },
         "name": "",
         "notched": false,
         "offsetgroup": "",
         "orientation": "v",
         "showlegend": false,
         "type": "box",
         "x0": " ",
         "xaxis": "x",
         "y": [
          1.25,
          3.04,
          1.5,
          3.75,
          1.71,
          2.5,
          6.5,
          0.04,
          3.96,
          3.165,
          2.165,
          4.335,
          1,
          0.04,
          5,
          0.25,
          0.96,
          3.17,
          0.665,
          0.75,
          2.5,
          0.835,
          7.875,
          3.085,
          0.5,
          1.5,
          5.165,
          15,
          7,
          5,
          5.04,
          7.96,
          7.585,
          5,
          0.415,
          2,
          1.835,
          0.5,
          0.25,
          14.415,
          4.5,
          5.335,
          0.75,
          8.625,
          28.5,
          2.625,
          0.125,
          6.04,
          3.5,
          0.165,
          0.875,
          1.75,
          0.04,
          0,
          7.415,
          0.835,
          0.085,
          5,
          5.75,
          6,
          1.25,
          3,
          1.5,
          1.585,
          4.29,
          1.54,
          2,
          0.25,
          1.46,
          1.625,
          1.585,
          12.5,
          13.5,
          10.75,
          1.625,
          0.375,
          0.125,
          0.585,
          2.5,
          0.25,
          0,
          2,
          0.25,
          3,
          0.455,
          5,
          0.875,
          4,
          1,
          0,
          5,
          0.5,
          8.5,
          9.46,
          1.5,
          0.5,
          0.125,
          0.835,
          3,
          1,
          0.25,
          4,
          0.375,
          2.25,
          5.75,
          0,
          0.5,
          4.5,
          10,
          0.795,
          3.5,
          0.5,
          0.875,
          1,
          1.375,
          1.29,
          11.5,
          6.29,
          14,
          0.335,
          0.04,
          1.21,
          1.5,
          7.375,
          8.5,
          7.5,
          2.5,
          2.5,
          3.25,
          0.835,
          13,
          2.25,
          6.5,
          2.5,
          5.5,
          6,
          0.5,
          4.25,
          1.625,
          5,
          0.625,
          0,
          1.75,
          2,
          5.085,
          2.75,
          2.375,
          8,
          4,
          5.5,
          0.415,
          4,
          4.25,
          1.085,
          5.5,
          0,
          2.54,
          0,
          4.165,
          0.04,
          1,
          1.75,
          1.665,
          0.04,
          11,
          1.75,
          1,
          0.04,
          9,
          1.5,
          0.25,
          15,
          8,
          8.5,
          1.335,
          0.375,
          3,
          1.415,
          1.21,
          1.96,
          15,
          0.5,
          0.165,
          5.5,
          2.585,
          12.5,
          3.5,
          5,
          2.5,
          1.625,
          3,
          5.125,
          2.5,
          3.085,
          8.5,
          1.5,
          3.165,
          15.5,
          2,
          0.04,
          1.25,
          2.25,
          2.25,
          0.71,
          0.085,
          14,
          0,
          5.665,
          4.5,
          6.5,
          10,
          5.5,
          18,
          3.5,
          5.25,
          3.5,
          7,
          5,
          8.665,
          1,
          2.29,
          20,
          1.375,
          0.085,
          0.125,
          0.25,
          0.5,
          2.46,
          2,
          0.665,
          0.625,
          13.875,
          4.5,
          5.75,
          10,
          2.085,
          0,
          1.415,
          4.58,
          2.5,
          2.5,
          1.75,
          11,
          2.71,
          1.5,
          2.04,
          14,
          0.29,
          4.75,
          0.29,
          20,
          5,
          1,
          0.46,
          0.25,
          1.085,
          2,
          0.5,
          0.04,
          0.165,
          5.75,
          0,
          0.335,
          0,
          0,
          0.04,
          0,
          1.25,
          0.125,
          0.21,
          0,
          1.25,
          0.04,
          0.125,
          2.25,
          0.54,
          0.29,
          0.165,
          0,
          0.085,
          0.25,
          0.125,
          0.25,
          0.25,
          0.125,
          0.165,
          0,
          0.29,
          0.165,
          0,
          0.5,
          1,
          0.165,
          0.125,
          0,
          3.04,
          4,
          1.75,
          0.665,
          3.335,
          6.5,
          0.25,
          0.5,
          0.085,
          1.5,
          0,
          4.5,
          0.415,
          0.25,
          0,
          1,
          2.335,
          0.125,
          0.415,
          0.25,
          0.5,
          0.25,
          0,
          0,
          1.5,
          1.5,
          10,
          0.375,
          0.25,
          1.165,
          1,
          0.04,
          0.5,
          3,
          0.085,
          0,
          2.5,
          1,
          1,
          0.5,
          0.165,
          1,
          0.5,
          2,
          0.75,
          3,
          0.04,
          0.5,
          0,
          0.5,
          0,
          0.25,
          2.5,
          0.585,
          2.25,
          0,
          0,
          1.5,
          0.585,
          0.25,
          1,
          0.165,
          0.04,
          0.165,
          0,
          5.5,
          0.085,
          0,
          0.29,
          0.165,
          13.875,
          0.165,
          0.165,
          3,
          0.75,
          7,
          0,
          1,
          0.125,
          0.04,
          1,
          0.125,
          2,
          0.125,
          4,
          2.25,
          0.165,
          4.5,
          5,
          1.585,
          1.5,
          0.54,
          0.5,
          0,
          0.085,
          1,
          0.21,
          0.25,
          1,
          0.25,
          0.54,
          0.04,
          0.125,
          1.25,
          0.085,
          0.29,
          0.29,
          3.085,
          0.75,
          1.085,
          0,
          0.165,
          1,
          0.085,
          0.335,
          0,
          1.25,
          0.085,
          0,
          0.125,
          3.25,
          0.125,
          0.54,
          0.375,
          0,
          1,
          1.5,
          1.75,
          1.165,
          1.5,
          0.25,
          0.25,
          0.04,
          0.29,
          0.085,
          1.5,
          0.165,
          0.085,
          0.5,
          2.415,
          0,
          0,
          0,
          0,
          0.375,
          1,
          0,
          0.125,
          0.04,
          0,
          0,
          0.165,
          0,
          0,
          0.5,
          7,
          1.5,
          3.5,
          0.25,
          3.75,
          0.085,
          0,
          0.04,
          5,
          1.5,
          0,
          0.085,
          0.125,
          0,
          0,
          2.79,
          2.5,
          0.04,
          0.75,
          0.415,
          0.085,
          0.04,
          0.125,
          1,
          0.125,
          0.75,
          0.085,
          10,
          0.415,
          0.085,
          0.165,
          0.415,
          1.75,
          0.04,
          1.165,
          0.04,
          0.085,
          0.04,
          0,
          0.125,
          2.75,
          4.625,
          6.5,
          6,
          3,
          1.5,
          1.04,
          1.665,
          1.46,
          1.625,
          5,
          3.5,
          0,
          4.75,
          1.085,
          7,
          0.75,
          1.835,
          2,
          2.25,
          1.75,
          0,
          2.5,
          0,
          2.585,
          6.5,
          4,
          1.75,
          0.585,
          0.125,
          1.5,
          2.25,
          1.29,
          1.75,
          2.415,
          2.5,
          0.21,
          1,
          6.75,
          0.21,
          2.75,
          1.75,
          0.75,
          0,
          7.5,
          0,
          0,
          3.75,
          0.25,
          0.54,
          2,
          1,
          0.835,
          1.165,
          0.5,
          1.5,
          2.625,
          1.875,
          0.75,
          16,
          12.75,
          0,
          5.375,
          4,
          0.75,
          0.21,
          7.5,
          1.085,
          0.04,
          2.29,
          3.5,
          1.25,
          1.415,
          1.585,
          12.75,
          0.04,
          2.125,
          0.875,
          0.375,
          0.75,
          1.75,
          1.085,
          0.04,
          0,
          1,
          3.25,
          1.75,
          1,
          1.5,
          1.29,
          1.335,
          0.04,
          0.125,
          5.25,
          0,
          0,
          17.5,
          8.5,
          1,
          0.29,
          3.125,
          4.25,
          0,
          0.085,
          0.085,
          0.25,
          2.375,
          2.5,
          1,
          2,
          0.54,
          0,
          0.25,
          0.125,
          0.085,
          1.25,
          0.04,
          0.5,
          4.25,
          0.085,
          0.125,
          5.085,
          0.29,
          0.585,
          0.125,
          0.25,
          1.585,
          0,
          2,
          0.125,
          0.125,
          2.25,
          0,
          0.665,
          0.665,
          2.085,
          0.165,
          0,
          0.5,
          1.665,
          0.25,
          0.125,
          0,
          0,
          0.25,
          0.96,
          0.5,
          0.79,
          0.25,
          1.5,
          2.5,
          3.5,
          3.5,
          3,
          0.29,
          0.165,
          0.165,
          0.25,
          3.5,
          0,
          1,
          0.125,
          0.335,
          0.5,
          0.415,
          0,
          2.29,
          0.25,
          1,
          0.25,
          0.085,
          0.165,
          0.875,
          1.5,
          0.04,
          0.04,
          0.25,
          1.75,
          0.085,
          1.5,
          5.5,
          0.5,
          0.5,
          2,
          0.21,
          0.665,
          0.085,
          0.04,
          0,
          0,
          0.29,
          3,
          0.335,
          0.585,
          3.5,
          1.25,
          2,
          2,
          0.04,
          8.29
         ],
         "y0": " ",
         "yaxis": "y"
        }
       ],
       "layout": {
        "boxmode": "group",
        "legend": {
         "tracegroupgap": 0
        },
        "template": {
         "data": {
          "bar": [
           {
            "error_x": {
             "color": "#2a3f5f"
            },
            "error_y": {
             "color": "#2a3f5f"
            },
            "marker": {
             "line": {
              "color": "#E5ECF6",
              "width": 0.5
             },
             "pattern": {
              "fillmode": "overlay",
              "size": 10,
              "solidity": 0.2
             }
            },
            "type": "bar"
           }
          ],
          "barpolar": [
           {
            "marker": {
             "line": {
              "color": "#E5ECF6",
              "width": 0.5
             },
             "pattern": {
              "fillmode": "overlay",
              "size": 10,
              "solidity": 0.2
             }
            },
            "type": "barpolar"
           }
          ],
          "carpet": [
           {
            "aaxis": {
             "endlinecolor": "#2a3f5f",
             "gridcolor": "white",
             "linecolor": "white",
             "minorgridcolor": "white",
             "startlinecolor": "#2a3f5f"
            },
            "baxis": {
             "endlinecolor": "#2a3f5f",
             "gridcolor": "white",
             "linecolor": "white",
             "minorgridcolor": "white",
             "startlinecolor": "#2a3f5f"
            },
            "type": "carpet"
           }
          ],
          "choropleth": [
           {
            "colorbar": {
             "outlinewidth": 0,
             "ticks": ""
            },
            "type": "choropleth"
           }
          ],
          "contour": [
           {
            "colorbar": {
             "outlinewidth": 0,
             "ticks": ""
            },
            "colorscale": [
             [
              0,
              "#0d0887"
             ],
             [
              0.1111111111111111,
              "#46039f"
             ],
             [
              0.2222222222222222,
              "#7201a8"
             ],
             [
              0.3333333333333333,
              "#9c179e"
             ],
             [
              0.4444444444444444,
              "#bd3786"
             ],
             [
              0.5555555555555556,
              "#d8576b"
             ],
             [
              0.6666666666666666,
              "#ed7953"
             ],
             [
              0.7777777777777778,
              "#fb9f3a"
             ],
             [
              0.8888888888888888,
              "#fdca26"
             ],
             [
              1,
              "#f0f921"
             ]
            ],
            "type": "contour"
           }
          ],
          "contourcarpet": [
           {
            "colorbar": {
             "outlinewidth": 0,
             "ticks": ""
            },
            "type": "contourcarpet"
           }
          ],
          "heatmap": [
           {
            "colorbar": {
             "outlinewidth": 0,
             "ticks": ""
            },
            "colorscale": [
             [
              0,
              "#0d0887"
             ],
             [
              0.1111111111111111,
              "#46039f"
             ],
             [
              0.2222222222222222,
              "#7201a8"
             ],
             [
              0.3333333333333333,
              "#9c179e"
             ],
             [
              0.4444444444444444,
              "#bd3786"
             ],
             [
              0.5555555555555556,
              "#d8576b"
             ],
             [
              0.6666666666666666,
              "#ed7953"
             ],
             [
              0.7777777777777778,
              "#fb9f3a"
             ],
             [
              0.8888888888888888,
              "#fdca26"
             ],
             [
              1,
              "#f0f921"
             ]
            ],
            "type": "heatmap"
           }
          ],
          "heatmapgl": [
           {
            "colorbar": {
             "outlinewidth": 0,
             "ticks": ""
            },
            "colorscale": [
             [
              0,
              "#0d0887"
             ],
             [
              0.1111111111111111,
              "#46039f"
             ],
             [
              0.2222222222222222,
              "#7201a8"
             ],
             [
              0.3333333333333333,
              "#9c179e"
             ],
             [
              0.4444444444444444,
              "#bd3786"
             ],
             [
              0.5555555555555556,
              "#d8576b"
             ],
             [
              0.6666666666666666,
              "#ed7953"
             ],
             [
              0.7777777777777778,
              "#fb9f3a"
             ],
             [
              0.8888888888888888,
              "#fdca26"
             ],
             [
              1,
              "#f0f921"
             ]
            ],
            "type": "heatmapgl"
           }
          ],
          "histogram": [
           {
            "marker": {
             "pattern": {
              "fillmode": "overlay",
              "size": 10,
              "solidity": 0.2
             }
            },
            "type": "histogram"
           }
          ],
          "histogram2d": [
           {
            "colorbar": {
             "outlinewidth": 0,
             "ticks": ""
            },
            "colorscale": [
             [
              0,
              "#0d0887"
             ],
             [
              0.1111111111111111,
              "#46039f"
             ],
             [
              0.2222222222222222,
              "#7201a8"
             ],
             [
              0.3333333333333333,
              "#9c179e"
             ],
             [
              0.4444444444444444,
              "#bd3786"
             ],
             [
              0.5555555555555556,
              "#d8576b"
             ],
             [
              0.6666666666666666,
              "#ed7953"
             ],
             [
              0.7777777777777778,
              "#fb9f3a"
             ],
             [
              0.8888888888888888,
              "#fdca26"
             ],
             [
              1,
              "#f0f921"
             ]
            ],
            "type": "histogram2d"
           }
          ],
          "histogram2dcontour": [
           {
            "colorbar": {
             "outlinewidth": 0,
             "ticks": ""
            },
            "colorscale": [
             [
              0,
              "#0d0887"
             ],
             [
              0.1111111111111111,
              "#46039f"
             ],
             [
              0.2222222222222222,
              "#7201a8"
             ],
             [
              0.3333333333333333,
              "#9c179e"
             ],
             [
              0.4444444444444444,
              "#bd3786"
             ],
             [
              0.5555555555555556,
              "#d8576b"
             ],
             [
              0.6666666666666666,
              "#ed7953"
             ],
             [
              0.7777777777777778,
              "#fb9f3a"
             ],
             [
              0.8888888888888888,
              "#fdca26"
             ],
             [
              1,
              "#f0f921"
             ]
            ],
            "type": "histogram2dcontour"
           }
          ],
          "mesh3d": [
           {
            "colorbar": {
             "outlinewidth": 0,
             "ticks": ""
            },
            "type": "mesh3d"
           }
          ],
          "parcoords": [
           {
            "line": {
             "colorbar": {
              "outlinewidth": 0,
              "ticks": ""
             }
            },
            "type": "parcoords"
           }
          ],
          "pie": [
           {
            "automargin": true,
            "type": "pie"
           }
          ],
          "scatter": [
           {
            "fillpattern": {
             "fillmode": "overlay",
             "size": 10,
             "solidity": 0.2
            },
            "type": "scatter"
           }
          ],
          "scatter3d": [
           {
            "line": {
             "colorbar": {
              "outlinewidth": 0,
              "ticks": ""
             }
            },
            "marker": {
             "colorbar": {
              "outlinewidth": 0,
              "ticks": ""
             }
            },
            "type": "scatter3d"
           }
          ],
          "scattercarpet": [
           {
            "marker": {
             "colorbar": {
              "outlinewidth": 0,
              "ticks": ""
             }
            },
            "type": "scattercarpet"
           }
          ],
          "scattergeo": [
           {
            "marker": {
             "colorbar": {
              "outlinewidth": 0,
              "ticks": ""
             }
            },
            "type": "scattergeo"
           }
          ],
          "scattergl": [
           {
            "marker": {
             "colorbar": {
              "outlinewidth": 0,
              "ticks": ""
             }
            },
            "type": "scattergl"
           }
          ],
          "scattermapbox": [
           {
            "marker": {
             "colorbar": {
              "outlinewidth": 0,
              "ticks": ""
             }
            },
            "type": "scattermapbox"
           }
          ],
          "scatterpolar": [
           {
            "marker": {
             "colorbar": {
              "outlinewidth": 0,
              "ticks": ""
             }
            },
            "type": "scatterpolar"
           }
          ],
          "scatterpolargl": [
           {
            "marker": {
             "colorbar": {
              "outlinewidth": 0,
              "ticks": ""
             }
            },
            "type": "scatterpolargl"
           }
          ],
          "scatterternary": [
           {
            "marker": {
             "colorbar": {
              "outlinewidth": 0,
              "ticks": ""
             }
            },
            "type": "scatterternary"
           }
          ],
          "surface": [
           {
            "colorbar": {
             "outlinewidth": 0,
             "ticks": ""
            },
            "colorscale": [
             [
              0,
              "#0d0887"
             ],
             [
              0.1111111111111111,
              "#46039f"
             ],
             [
              0.2222222222222222,
              "#7201a8"
             ],
             [
              0.3333333333333333,
              "#9c179e"
             ],
             [
              0.4444444444444444,
              "#bd3786"
             ],
             [
              0.5555555555555556,
              "#d8576b"
             ],
             [
              0.6666666666666666,
              "#ed7953"
             ],
             [
              0.7777777777777778,
              "#fb9f3a"
             ],
             [
              0.8888888888888888,
              "#fdca26"
             ],
             [
              1,
              "#f0f921"
             ]
            ],
            "type": "surface"
           }
          ],
          "table": [
           {
            "cells": {
             "fill": {
              "color": "#EBF0F8"
             },
             "line": {
              "color": "white"
             }
            },
            "header": {
             "fill": {
              "color": "#C8D4E3"
             },
             "line": {
              "color": "white"
             }
            },
            "type": "table"
           }
          ]
         },
         "layout": {
          "annotationdefaults": {
           "arrowcolor": "#2a3f5f",
           "arrowhead": 0,
           "arrowwidth": 1
          },
          "autotypenumbers": "strict",
          "coloraxis": {
           "colorbar": {
            "outlinewidth": 0,
            "ticks": ""
           }
          },
          "colorscale": {
           "diverging": [
            [
             0,
             "#8e0152"
            ],
            [
             0.1,
             "#c51b7d"
            ],
            [
             0.2,
             "#de77ae"
            ],
            [
             0.3,
             "#f1b6da"
            ],
            [
             0.4,
             "#fde0ef"
            ],
            [
             0.5,
             "#f7f7f7"
            ],
            [
             0.6,
             "#e6f5d0"
            ],
            [
             0.7,
             "#b8e186"
            ],
            [
             0.8,
             "#7fbc41"
            ],
            [
             0.9,
             "#4d9221"
            ],
            [
             1,
             "#276419"
            ]
           ],
           "sequential": [
            [
             0,
             "#0d0887"
            ],
            [
             0.1111111111111111,
             "#46039f"
            ],
            [
             0.2222222222222222,
             "#7201a8"
            ],
            [
             0.3333333333333333,
             "#9c179e"
            ],
            [
             0.4444444444444444,
             "#bd3786"
            ],
            [
             0.5555555555555556,
             "#d8576b"
            ],
            [
             0.6666666666666666,
             "#ed7953"
            ],
            [
             0.7777777777777778,
             "#fb9f3a"
            ],
            [
             0.8888888888888888,
             "#fdca26"
            ],
            [
             1,
             "#f0f921"
            ]
           ],
           "sequentialminus": [
            [
             0,
             "#0d0887"
            ],
            [
             0.1111111111111111,
             "#46039f"
            ],
            [
             0.2222222222222222,
             "#7201a8"
            ],
            [
             0.3333333333333333,
             "#9c179e"
            ],
            [
             0.4444444444444444,
             "#bd3786"
            ],
            [
             0.5555555555555556,
             "#d8576b"
            ],
            [
             0.6666666666666666,
             "#ed7953"
            ],
            [
             0.7777777777777778,
             "#fb9f3a"
            ],
            [
             0.8888888888888888,
             "#fdca26"
            ],
            [
             1,
             "#f0f921"
            ]
           ]
          },
          "colorway": [
           "#636efa",
           "#EF553B",
           "#00cc96",
           "#ab63fa",
           "#FFA15A",
           "#19d3f3",
           "#FF6692",
           "#B6E880",
           "#FF97FF",
           "#FECB52"
          ],
          "font": {
           "color": "#2a3f5f"
          },
          "geo": {
           "bgcolor": "white",
           "lakecolor": "white",
           "landcolor": "#E5ECF6",
           "showlakes": true,
           "showland": true,
           "subunitcolor": "white"
          },
          "hoverlabel": {
           "align": "left"
          },
          "hovermode": "closest",
          "mapbox": {
           "style": "light"
          },
          "paper_bgcolor": "white",
          "plot_bgcolor": "#E5ECF6",
          "polar": {
           "angularaxis": {
            "gridcolor": "white",
            "linecolor": "white",
            "ticks": ""
           },
           "bgcolor": "#E5ECF6",
           "radialaxis": {
            "gridcolor": "white",
            "linecolor": "white",
            "ticks": ""
           }
          },
          "scene": {
           "xaxis": {
            "backgroundcolor": "#E5ECF6",
            "gridcolor": "white",
            "gridwidth": 2,
            "linecolor": "white",
            "showbackground": true,
            "ticks": "",
            "zerolinecolor": "white"
           },
           "yaxis": {
            "backgroundcolor": "#E5ECF6",
            "gridcolor": "white",
            "gridwidth": 2,
            "linecolor": "white",
            "showbackground": true,
            "ticks": "",
            "zerolinecolor": "white"
           },
           "zaxis": {
            "backgroundcolor": "#E5ECF6",
            "gridcolor": "white",
            "gridwidth": 2,
            "linecolor": "white",
            "showbackground": true,
            "ticks": "",
            "zerolinecolor": "white"
           }
          },
          "shapedefaults": {
           "line": {
            "color": "#2a3f5f"
           }
          },
          "ternary": {
           "aaxis": {
            "gridcolor": "white",
            "linecolor": "white",
            "ticks": ""
           },
           "baxis": {
            "gridcolor": "white",
            "linecolor": "white",
            "ticks": ""
           },
           "bgcolor": "#E5ECF6",
           "caxis": {
            "gridcolor": "white",
            "linecolor": "white",
            "ticks": ""
           }
          },
          "title": {
           "x": 0.05
          },
          "xaxis": {
           "automargin": true,
           "gridcolor": "white",
           "linecolor": "white",
           "ticks": "",
           "title": {
            "standoff": 15
           },
           "zerolinecolor": "white",
           "zerolinewidth": 2
          },
          "yaxis": {
           "automargin": true,
           "gridcolor": "white",
           "linecolor": "white",
           "ticks": "",
           "title": {
            "standoff": 15
           },
           "zerolinecolor": "white",
           "zerolinewidth": 2
          }
         }
        },
        "title": {
         "text": "Distribution of YearsEmployed"
        },
        "xaxis": {
         "anchor": "y",
         "domain": [
          0,
          1
         ]
        },
        "yaxis": {
         "anchor": "x",
         "domain": [
          0,
          1
         ],
         "title": {
          "text": "YearsEmployed"
         }
        }
       }
      }
     },
     "metadata": {},
     "output_type": "display_data"
    },
    {
     "data": {
      "application/vnd.plotly.v1+json": {
       "config": {
        "plotlyServerURL": "https://plot.ly"
       },
       "data": [
        {
         "alignmentgroup": "True",
         "hovertemplate": "CreditScore=%{y}<extra></extra>",
         "legendgroup": "",
         "marker": {
          "color": "#636efa"
         },
         "name": "",
         "notched": false,
         "offsetgroup": "",
         "orientation": "v",
         "showlegend": false,
         "type": "box",
         "x0": " ",
         "xaxis": "x",
         "y": [
          1,
          6,
          0,
          5,
          0,
          0,
          0,
          0,
          0,
          0,
          0,
          0,
          0,
          0,
          7,
          10,
          3,
          10,
          0,
          7,
          17,
          0,
          6,
          1,
          3,
          2,
          9,
          17,
          3,
          6,
          5,
          8,
          15,
          0,
          5,
          11,
          12,
          2,
          2,
          11,
          12,
          11,
          1,
          6,
          40,
          11,
          23,
          3,
          0,
          0,
          0,
          0,
          0,
          0,
          0,
          0,
          0,
          0,
          0,
          11,
          4,
          9,
          2,
          1,
          1,
          1,
          11,
          3,
          7,
          1,
          0,
          0,
          0,
          0,
          0,
          1,
          0,
          0,
          1,
          0,
          1,
          0,
          0,
          0,
          0,
          0,
          0,
          0,
          0,
          0,
          0,
          0,
          0,
          0,
          0,
          0,
          0,
          0,
          0,
          2,
          0,
          0,
          2,
          2,
          2,
          20,
          0,
          0,
          0,
          5,
          3,
          3,
          0,
          3,
          3,
          2,
          7,
          15,
          6,
          1,
          1,
          67,
          12,
          3,
          5,
          6,
          12,
          7,
          2,
          0,
          1,
          1,
          6,
          6,
          12,
          0,
          3,
          6,
          6,
          2,
          9,
          15,
          8,
          1,
          9,
          6,
          3,
          14,
          7,
          14,
          11,
          14,
          12,
          11,
          3,
          11,
          1,
          14,
          2,
          1,
          4,
          2,
          1,
          0,
          0,
          0,
          0,
          0,
          0,
          0,
          0,
          0,
          0,
          0,
          0,
          0,
          0,
          0,
          4,
          14,
          20,
          4,
          3,
          7,
          7,
          9,
          1,
          7,
          5,
          2,
          0,
          0,
          0,
          6,
          7,
          8,
          3,
          12,
          3,
          9,
          1,
          0,
          6,
          2,
          1,
          8,
          0,
          6,
          7,
          16,
          14,
          0,
          15,
          9,
          1,
          0,
          8,
          5,
          5,
          4,
          3,
          7,
          0,
          0,
          0,
          0,
          0,
          0,
          2,
          0,
          7,
          2,
          4,
          0,
          13,
          5,
          0,
          1,
          0,
          6,
          0,
          3,
          0,
          5,
          2,
          1,
          1,
          11,
          2,
          6,
          11,
          6,
          11,
          1,
          0,
          0,
          0,
          0,
          0,
          0,
          0,
          0,
          0,
          0,
          0,
          0,
          0,
          0,
          0,
          0,
          0,
          0,
          0,
          0,
          0,
          0,
          0,
          0,
          0,
          0,
          0,
          0,
          0,
          1,
          2,
          1,
          2,
          1,
          1,
          0,
          0,
          1,
          1,
          2,
          1,
          2,
          1,
          2,
          1,
          2,
          1,
          0,
          0,
          0,
          0,
          0,
          0,
          0,
          0,
          0,
          0,
          0,
          0,
          0,
          0,
          0,
          0,
          0,
          0,
          0,
          0,
          0,
          0,
          11,
          0,
          0,
          0,
          0,
          0,
          0,
          0,
          0,
          0,
          0,
          0,
          0,
          0,
          0,
          0,
          0,
          0,
          0,
          0,
          0,
          0,
          0,
          0,
          0,
          3,
          1,
          0,
          0,
          0,
          0,
          0,
          2,
          0,
          0,
          0,
          0,
          0,
          0,
          0,
          0,
          2,
          1,
          0,
          0,
          0,
          0,
          0,
          0,
          0,
          0,
          0,
          0,
          0,
          0,
          0,
          0,
          0,
          0,
          0,
          0,
          0,
          0,
          0,
          0,
          0,
          0,
          0,
          0,
          0,
          0,
          0,
          0,
          0,
          0,
          0,
          0,
          0,
          0,
          0,
          0,
          0,
          0,
          2,
          1,
          1,
          4,
          5,
          1,
          0,
          0,
          0,
          0,
          0,
          0,
          2,
          0,
          0,
          0,
          0,
          0,
          0,
          0,
          0,
          0,
          0,
          0,
          0,
          0,
          0,
          0,
          0,
          4,
          3,
          0,
          1,
          2,
          11,
          2,
          0,
          0,
          0,
          0,
          0,
          0,
          1,
          0,
          0,
          0,
          0,
          0,
          0,
          0,
          0,
          0,
          0,
          0,
          0,
          4,
          0,
          10,
          1,
          1,
          2,
          3,
          0,
          0,
          0,
          0,
          0,
          0,
          0,
          0,
          0,
          0,
          0,
          0,
          6,
          1,
          10,
          2,
          0,
          2,
          0,
          0,
          0,
          0,
          1,
          2,
          14,
          0,
          0,
          0,
          0,
          3,
          5,
          3,
          3,
          10,
          1,
          2,
          1,
          16,
          2,
          19,
          1,
          1,
          2,
          0,
          0,
          0,
          0,
          0,
          4,
          5,
          4,
          5,
          1,
          5,
          1,
          10,
          0,
          0,
          0,
          0,
          3,
          1,
          0,
          0,
          0,
          0,
          0,
          0,
          0,
          0,
          0,
          0,
          0,
          0,
          0,
          0,
          10,
          0,
          6,
          6,
          7,
          0,
          1,
          11,
          9,
          14,
          4,
          6,
          2,
          16,
          0,
          7,
          6,
          0,
          0,
          0,
          0,
          0,
          11,
          0,
          8,
          4,
          5,
          8,
          1,
          11,
          4,
          1,
          11,
          3,
          10,
          5,
          8,
          1,
          0,
          0,
          0,
          0,
          9,
          9,
          5,
          7,
          8,
          3,
          0,
          0,
          0,
          0,
          8,
          3,
          1,
          11,
          4,
          0,
          0,
          0,
          0,
          0,
          0,
          0,
          0,
          0,
          0,
          2,
          1,
          2,
          0,
          2,
          1,
          2,
          1,
          0,
          0,
          0,
          0,
          0,
          0,
          0,
          0,
          0,
          0,
          0,
          0,
          1,
          0,
          0,
          1,
          2,
          0,
          0,
          0,
          0,
          0,
          0,
          0,
          0,
          0,
          0,
          0,
          0,
          0,
          6,
          0,
          1,
          0,
          0,
          1,
          0,
          1,
          0,
          0,
          1,
          0,
          0,
          0,
          0,
          0,
          0,
          0,
          1,
          0,
          0,
          0,
          0,
          0,
          0,
          0,
          0,
          12,
          1,
          0,
          0,
          0,
          0,
          0,
          0,
          0,
          0,
          2,
          1,
          0,
          0
         ],
         "y0": " ",
         "yaxis": "y"
        }
       ],
       "layout": {
        "boxmode": "group",
        "legend": {
         "tracegroupgap": 0
        },
        "template": {
         "data": {
          "bar": [
           {
            "error_x": {
             "color": "#2a3f5f"
            },
            "error_y": {
             "color": "#2a3f5f"
            },
            "marker": {
             "line": {
              "color": "#E5ECF6",
              "width": 0.5
             },
             "pattern": {
              "fillmode": "overlay",
              "size": 10,
              "solidity": 0.2
             }
            },
            "type": "bar"
           }
          ],
          "barpolar": [
           {
            "marker": {
             "line": {
              "color": "#E5ECF6",
              "width": 0.5
             },
             "pattern": {
              "fillmode": "overlay",
              "size": 10,
              "solidity": 0.2
             }
            },
            "type": "barpolar"
           }
          ],
          "carpet": [
           {
            "aaxis": {
             "endlinecolor": "#2a3f5f",
             "gridcolor": "white",
             "linecolor": "white",
             "minorgridcolor": "white",
             "startlinecolor": "#2a3f5f"
            },
            "baxis": {
             "endlinecolor": "#2a3f5f",
             "gridcolor": "white",
             "linecolor": "white",
             "minorgridcolor": "white",
             "startlinecolor": "#2a3f5f"
            },
            "type": "carpet"
           }
          ],
          "choropleth": [
           {
            "colorbar": {
             "outlinewidth": 0,
             "ticks": ""
            },
            "type": "choropleth"
           }
          ],
          "contour": [
           {
            "colorbar": {
             "outlinewidth": 0,
             "ticks": ""
            },
            "colorscale": [
             [
              0,
              "#0d0887"
             ],
             [
              0.1111111111111111,
              "#46039f"
             ],
             [
              0.2222222222222222,
              "#7201a8"
             ],
             [
              0.3333333333333333,
              "#9c179e"
             ],
             [
              0.4444444444444444,
              "#bd3786"
             ],
             [
              0.5555555555555556,
              "#d8576b"
             ],
             [
              0.6666666666666666,
              "#ed7953"
             ],
             [
              0.7777777777777778,
              "#fb9f3a"
             ],
             [
              0.8888888888888888,
              "#fdca26"
             ],
             [
              1,
              "#f0f921"
             ]
            ],
            "type": "contour"
           }
          ],
          "contourcarpet": [
           {
            "colorbar": {
             "outlinewidth": 0,
             "ticks": ""
            },
            "type": "contourcarpet"
           }
          ],
          "heatmap": [
           {
            "colorbar": {
             "outlinewidth": 0,
             "ticks": ""
            },
            "colorscale": [
             [
              0,
              "#0d0887"
             ],
             [
              0.1111111111111111,
              "#46039f"
             ],
             [
              0.2222222222222222,
              "#7201a8"
             ],
             [
              0.3333333333333333,
              "#9c179e"
             ],
             [
              0.4444444444444444,
              "#bd3786"
             ],
             [
              0.5555555555555556,
              "#d8576b"
             ],
             [
              0.6666666666666666,
              "#ed7953"
             ],
             [
              0.7777777777777778,
              "#fb9f3a"
             ],
             [
              0.8888888888888888,
              "#fdca26"
             ],
             [
              1,
              "#f0f921"
             ]
            ],
            "type": "heatmap"
           }
          ],
          "heatmapgl": [
           {
            "colorbar": {
             "outlinewidth": 0,
             "ticks": ""
            },
            "colorscale": [
             [
              0,
              "#0d0887"
             ],
             [
              0.1111111111111111,
              "#46039f"
             ],
             [
              0.2222222222222222,
              "#7201a8"
             ],
             [
              0.3333333333333333,
              "#9c179e"
             ],
             [
              0.4444444444444444,
              "#bd3786"
             ],
             [
              0.5555555555555556,
              "#d8576b"
             ],
             [
              0.6666666666666666,
              "#ed7953"
             ],
             [
              0.7777777777777778,
              "#fb9f3a"
             ],
             [
              0.8888888888888888,
              "#fdca26"
             ],
             [
              1,
              "#f0f921"
             ]
            ],
            "type": "heatmapgl"
           }
          ],
          "histogram": [
           {
            "marker": {
             "pattern": {
              "fillmode": "overlay",
              "size": 10,
              "solidity": 0.2
             }
            },
            "type": "histogram"
           }
          ],
          "histogram2d": [
           {
            "colorbar": {
             "outlinewidth": 0,
             "ticks": ""
            },
            "colorscale": [
             [
              0,
              "#0d0887"
             ],
             [
              0.1111111111111111,
              "#46039f"
             ],
             [
              0.2222222222222222,
              "#7201a8"
             ],
             [
              0.3333333333333333,
              "#9c179e"
             ],
             [
              0.4444444444444444,
              "#bd3786"
             ],
             [
              0.5555555555555556,
              "#d8576b"
             ],
             [
              0.6666666666666666,
              "#ed7953"
             ],
             [
              0.7777777777777778,
              "#fb9f3a"
             ],
             [
              0.8888888888888888,
              "#fdca26"
             ],
             [
              1,
              "#f0f921"
             ]
            ],
            "type": "histogram2d"
           }
          ],
          "histogram2dcontour": [
           {
            "colorbar": {
             "outlinewidth": 0,
             "ticks": ""
            },
            "colorscale": [
             [
              0,
              "#0d0887"
             ],
             [
              0.1111111111111111,
              "#46039f"
             ],
             [
              0.2222222222222222,
              "#7201a8"
             ],
             [
              0.3333333333333333,
              "#9c179e"
             ],
             [
              0.4444444444444444,
              "#bd3786"
             ],
             [
              0.5555555555555556,
              "#d8576b"
             ],
             [
              0.6666666666666666,
              "#ed7953"
             ],
             [
              0.7777777777777778,
              "#fb9f3a"
             ],
             [
              0.8888888888888888,
              "#fdca26"
             ],
             [
              1,
              "#f0f921"
             ]
            ],
            "type": "histogram2dcontour"
           }
          ],
          "mesh3d": [
           {
            "colorbar": {
             "outlinewidth": 0,
             "ticks": ""
            },
            "type": "mesh3d"
           }
          ],
          "parcoords": [
           {
            "line": {
             "colorbar": {
              "outlinewidth": 0,
              "ticks": ""
             }
            },
            "type": "parcoords"
           }
          ],
          "pie": [
           {
            "automargin": true,
            "type": "pie"
           }
          ],
          "scatter": [
           {
            "fillpattern": {
             "fillmode": "overlay",
             "size": 10,
             "solidity": 0.2
            },
            "type": "scatter"
           }
          ],
          "scatter3d": [
           {
            "line": {
             "colorbar": {
              "outlinewidth": 0,
              "ticks": ""
             }
            },
            "marker": {
             "colorbar": {
              "outlinewidth": 0,
              "ticks": ""
             }
            },
            "type": "scatter3d"
           }
          ],
          "scattercarpet": [
           {
            "marker": {
             "colorbar": {
              "outlinewidth": 0,
              "ticks": ""
             }
            },
            "type": "scattercarpet"
           }
          ],
          "scattergeo": [
           {
            "marker": {
             "colorbar": {
              "outlinewidth": 0,
              "ticks": ""
             }
            },
            "type": "scattergeo"
           }
          ],
          "scattergl": [
           {
            "marker": {
             "colorbar": {
              "outlinewidth": 0,
              "ticks": ""
             }
            },
            "type": "scattergl"
           }
          ],
          "scattermapbox": [
           {
            "marker": {
             "colorbar": {
              "outlinewidth": 0,
              "ticks": ""
             }
            },
            "type": "scattermapbox"
           }
          ],
          "scatterpolar": [
           {
            "marker": {
             "colorbar": {
              "outlinewidth": 0,
              "ticks": ""
             }
            },
            "type": "scatterpolar"
           }
          ],
          "scatterpolargl": [
           {
            "marker": {
             "colorbar": {
              "outlinewidth": 0,
              "ticks": ""
             }
            },
            "type": "scatterpolargl"
           }
          ],
          "scatterternary": [
           {
            "marker": {
             "colorbar": {
              "outlinewidth": 0,
              "ticks": ""
             }
            },
            "type": "scatterternary"
           }
          ],
          "surface": [
           {
            "colorbar": {
             "outlinewidth": 0,
             "ticks": ""
            },
            "colorscale": [
             [
              0,
              "#0d0887"
             ],
             [
              0.1111111111111111,
              "#46039f"
             ],
             [
              0.2222222222222222,
              "#7201a8"
             ],
             [
              0.3333333333333333,
              "#9c179e"
             ],
             [
              0.4444444444444444,
              "#bd3786"
             ],
             [
              0.5555555555555556,
              "#d8576b"
             ],
             [
              0.6666666666666666,
              "#ed7953"
             ],
             [
              0.7777777777777778,
              "#fb9f3a"
             ],
             [
              0.8888888888888888,
              "#fdca26"
             ],
             [
              1,
              "#f0f921"
             ]
            ],
            "type": "surface"
           }
          ],
          "table": [
           {
            "cells": {
             "fill": {
              "color": "#EBF0F8"
             },
             "line": {
              "color": "white"
             }
            },
            "header": {
             "fill": {
              "color": "#C8D4E3"
             },
             "line": {
              "color": "white"
             }
            },
            "type": "table"
           }
          ]
         },
         "layout": {
          "annotationdefaults": {
           "arrowcolor": "#2a3f5f",
           "arrowhead": 0,
           "arrowwidth": 1
          },
          "autotypenumbers": "strict",
          "coloraxis": {
           "colorbar": {
            "outlinewidth": 0,
            "ticks": ""
           }
          },
          "colorscale": {
           "diverging": [
            [
             0,
             "#8e0152"
            ],
            [
             0.1,
             "#c51b7d"
            ],
            [
             0.2,
             "#de77ae"
            ],
            [
             0.3,
             "#f1b6da"
            ],
            [
             0.4,
             "#fde0ef"
            ],
            [
             0.5,
             "#f7f7f7"
            ],
            [
             0.6,
             "#e6f5d0"
            ],
            [
             0.7,
             "#b8e186"
            ],
            [
             0.8,
             "#7fbc41"
            ],
            [
             0.9,
             "#4d9221"
            ],
            [
             1,
             "#276419"
            ]
           ],
           "sequential": [
            [
             0,
             "#0d0887"
            ],
            [
             0.1111111111111111,
             "#46039f"
            ],
            [
             0.2222222222222222,
             "#7201a8"
            ],
            [
             0.3333333333333333,
             "#9c179e"
            ],
            [
             0.4444444444444444,
             "#bd3786"
            ],
            [
             0.5555555555555556,
             "#d8576b"
            ],
            [
             0.6666666666666666,
             "#ed7953"
            ],
            [
             0.7777777777777778,
             "#fb9f3a"
            ],
            [
             0.8888888888888888,
             "#fdca26"
            ],
            [
             1,
             "#f0f921"
            ]
           ],
           "sequentialminus": [
            [
             0,
             "#0d0887"
            ],
            [
             0.1111111111111111,
             "#46039f"
            ],
            [
             0.2222222222222222,
             "#7201a8"
            ],
            [
             0.3333333333333333,
             "#9c179e"
            ],
            [
             0.4444444444444444,
             "#bd3786"
            ],
            [
             0.5555555555555556,
             "#d8576b"
            ],
            [
             0.6666666666666666,
             "#ed7953"
            ],
            [
             0.7777777777777778,
             "#fb9f3a"
            ],
            [
             0.8888888888888888,
             "#fdca26"
            ],
            [
             1,
             "#f0f921"
            ]
           ]
          },
          "colorway": [
           "#636efa",
           "#EF553B",
           "#00cc96",
           "#ab63fa",
           "#FFA15A",
           "#19d3f3",
           "#FF6692",
           "#B6E880",
           "#FF97FF",
           "#FECB52"
          ],
          "font": {
           "color": "#2a3f5f"
          },
          "geo": {
           "bgcolor": "white",
           "lakecolor": "white",
           "landcolor": "#E5ECF6",
           "showlakes": true,
           "showland": true,
           "subunitcolor": "white"
          },
          "hoverlabel": {
           "align": "left"
          },
          "hovermode": "closest",
          "mapbox": {
           "style": "light"
          },
          "paper_bgcolor": "white",
          "plot_bgcolor": "#E5ECF6",
          "polar": {
           "angularaxis": {
            "gridcolor": "white",
            "linecolor": "white",
            "ticks": ""
           },
           "bgcolor": "#E5ECF6",
           "radialaxis": {
            "gridcolor": "white",
            "linecolor": "white",
            "ticks": ""
           }
          },
          "scene": {
           "xaxis": {
            "backgroundcolor": "#E5ECF6",
            "gridcolor": "white",
            "gridwidth": 2,
            "linecolor": "white",
            "showbackground": true,
            "ticks": "",
            "zerolinecolor": "white"
           },
           "yaxis": {
            "backgroundcolor": "#E5ECF6",
            "gridcolor": "white",
            "gridwidth": 2,
            "linecolor": "white",
            "showbackground": true,
            "ticks": "",
            "zerolinecolor": "white"
           },
           "zaxis": {
            "backgroundcolor": "#E5ECF6",
            "gridcolor": "white",
            "gridwidth": 2,
            "linecolor": "white",
            "showbackground": true,
            "ticks": "",
            "zerolinecolor": "white"
           }
          },
          "shapedefaults": {
           "line": {
            "color": "#2a3f5f"
           }
          },
          "ternary": {
           "aaxis": {
            "gridcolor": "white",
            "linecolor": "white",
            "ticks": ""
           },
           "baxis": {
            "gridcolor": "white",
            "linecolor": "white",
            "ticks": ""
           },
           "bgcolor": "#E5ECF6",
           "caxis": {
            "gridcolor": "white",
            "linecolor": "white",
            "ticks": ""
           }
          },
          "title": {
           "x": 0.05
          },
          "xaxis": {
           "automargin": true,
           "gridcolor": "white",
           "linecolor": "white",
           "ticks": "",
           "title": {
            "standoff": 15
           },
           "zerolinecolor": "white",
           "zerolinewidth": 2
          },
          "yaxis": {
           "automargin": true,
           "gridcolor": "white",
           "linecolor": "white",
           "ticks": "",
           "title": {
            "standoff": 15
           },
           "zerolinecolor": "white",
           "zerolinewidth": 2
          }
         }
        },
        "title": {
         "text": "Distribution of CreditScore"
        },
        "xaxis": {
         "anchor": "y",
         "domain": [
          0,
          1
         ]
        },
        "yaxis": {
         "anchor": "x",
         "domain": [
          0,
          1
         ],
         "title": {
          "text": "CreditScore"
         }
        }
       }
      }
     },
     "metadata": {},
     "output_type": "display_data"
    },
    {
     "data": {
      "application/vnd.plotly.v1+json": {
       "config": {
        "plotlyServerURL": "https://plot.ly"
       },
       "data": [
        {
         "alignmentgroup": "True",
         "hovertemplate": "Income=%{y}<extra></extra>",
         "legendgroup": "",
         "marker": {
          "color": "#636efa"
         },
         "name": "",
         "notched": false,
         "offsetgroup": "",
         "orientation": "v",
         "showlegend": false,
         "type": "box",
         "x0": " ",
         "xaxis": "x",
         "y": [
          0,
          560,
          824,
          3,
          0,
          0,
          31285,
          1349,
          314,
          1442,
          0,
          200,
          0,
          2690,
          0,
          0,
          0,
          245,
          0,
          0,
          1208,
          0,
          1260,
          11,
          0,
          0,
          0,
          0,
          0,
          10000,
          0,
          0,
          5000,
          4000,
          560,
          35,
          713,
          551,
          500,
          300,
          221,
          2283,
          100,
          0,
          15,
          284,
          1236,
          300,
          0,
          0,
          0,
          0,
          5800,
          200,
          0,
          300,
          0,
          0,
          0,
          0,
          0,
          730,
          400,
          0,
          0,
          50000,
          456,
          15108,
          2954,
          500,
          0,
          0,
          0,
          0,
          2,
          0,
          0,
          0,
          20,
          0,
          0,
          0,
          0,
          0,
          0,
          0,
          0,
          0,
          0,
          27,
          0,
          0,
          0,
          100,
          225,
          0,
          1,
          0,
          0,
          500,
          400,
          0,
          38,
          5,
          0,
          130,
          0,
          0,
          0,
          5,
          0,
          147,
          0,
          0,
          210,
          0,
          5,
          11202,
          1332,
          50,
          300,
          258,
          567,
          0,
          0,
          1000,
          2510,
          809,
          610,
          0,
          0,
          150,
          51100,
          367,
          1000,
          0,
          1000,
          0,
          600,
          5000,
          0,
          247,
          375,
          278,
          827,
          2072,
          582,
          2300,
          3065,
          2200,
          6,
          1602,
          0,
          2184,
          0,
          0,
          0,
          3376,
          0,
          2000,
          7544,
          15,
          20,
          0,
          10561,
          837,
          400,
          11177,
          639,
          0,
          0,
          0,
          2028,
          0,
          0,
          1065,
          0,
          150,
          540,
          158,
          15000,
          0,
          6,
          3000,
          3257,
          1655,
          500,
          3065,
          1430,
          0,
          0,
          0,
          600,
          0,
          0,
          7,
          0,
          790,
          560,
          396,
          678,
          300,
          600,
          0,
          1187,
          6590,
          0,
          168,
          1270,
          1210,
          0,
          0,
          1000,
          742,
          0,
          0,
          0,
          8851,
          0,
          500,
          0,
          0,
          0,
          0,
          0,
          0,
          0,
          0,
          0,
          0,
          7059,
          1704,
          857,
          500,
          6700,
          2503,
          0,
          9800,
          0,
          196,
          0,
          14,
          0,
          26726,
          300,
          18027,
          2000,
          99,
          444,
          0,
          1200,
          0,
          3000,
          0,
          2010,
          13,
          0,
          0,
          1000,
          0,
          0,
          0,
          120,
          32,
          0,
          722,
          0,
          0,
          0,
          40,
          0,
          0,
          0,
          0,
          0,
          0,
          484,
          0,
          0,
          0,
          204,
          1,
          0,
          98,
          5552,
          1,
          105,
          2803,
          1,
          0,
          0,
          1,
          444,
          1,
          126,
          4,
          6,
          0,
          21,
          173,
          10,
          0,
          0,
          0,
          1,
          0,
          25,
          0,
          0,
          20,
          6,
          6,
          1,
          42,
          0,
          0,
          204,
          100000,
          1,
          113,
          8,
          0,
          44,
          2732,
          0,
          13,
          179,
          0,
          0,
          0,
          0,
          2,
          16,
          1062,
          0,
          251,
          228,
          0,
          0,
          67,
          0,
          100,
          4000,
          0,
          2,
          12,
          122,
          1210,
          0,
          3,
          1,
          0,
          4000,
          0,
          0,
          1,
          0,
          0,
          0,
          0,
          0,
          4208,
          0,
          0,
          1300,
          112,
          1000,
          0,
          16,
          2,
          0,
          1110,
          0,
          0,
          1004,
          0,
          286,
          0,
          4500,
          0,
          0,
          0,
          456,
          4,
          1212,
          0,
          67,
          0,
          0,
          0,
          0,
          0,
          0,
          1,
          195,
          0,
          1,
          87,
          17,
          0,
          184,
          140,
          0,
          0,
          0,
          0,
          18,
          2,
          6,
          8,
          146,
          22,
          0,
          0,
          55,
          0,
          70,
          1,
          500,
          60,
          0,
          7,
          0,
          0,
          0,
          0,
          50,
          5,
          3,
          0,
          4,
          1058,
          0,
          0,
          0,
          1,
          769,
          27,
          300,
          3,
          0,
          1,
          0,
          40,
          0,
          5200,
          0,
          1,
          19,
          0,
          1,
          316,
          50,
          0,
          350,
          3552,
          0,
          0,
          687,
          0,
          0,
          1950,
          0,
          18,
          53,
          10,
          41,
          33,
          0,
          0,
          5,
          100,
          100,
          1000,
          44,
          0,
          5,
          0,
          0,
          0,
          35,
          80,
          10,
          6,
          0,
          351,
          2100,
          475,
          1,
          0,
          892,
          2000,
          4607,
          0,
          0,
          2206,
          5860,
          28,
          0,
          1391,
          2279,
          0,
          100,
          7,
          0,
          5000,
          591,
          500,
          19,
          300,
          1000,
          960,
          0,
          0,
          0,
          0,
          99,
          690,
          0,
          0,
          234,
          500,
          800,
          990,
          0,
          0,
          0,
          2197,
          50,
          90,
          1,
          0,
          0,
          1,
          0,
          0,
          0,
          0,
          0,
          340,
          20,
          200,
          0,
          0,
          28,
          0,
          347,
          327,
          4071,
          0,
          109,
          1249,
          134,
          1344,
          321,
          948,
          0,
          2079,
          3000,
          2384,
          458,
          5298,
          200,
          0,
          0,
          0,
          284,
          0,
          162,
          1583,
          58,
          1,
          59,
          1400,
          1465,
          8000,
          540,
          0,
          4700,
          1097,
          3290,
          0,
          0,
          0,
          13212,
          0,
          1000,
          0,
          5777,
          5124,
          1200,
          150,
          0,
          6,
          0,
          23,
          4159,
          918,
          768,
          3000,
          500,
          1,
          0,
          0,
          0,
          0,
          0,
          0,
          0,
          0,
          4,
          1,
          283,
          7,
          0,
          108,
          9,
          1,
          68,
          375,
          10,
          0,
          0,
          1,
          0,
          0,
          0,
          1000,
          0,
          5,
          809,
          108,
          0,
          0,
          4,
          587,
          0,
          350,
          0,
          0,
          200,
          141,
          0,
          0,
          2,
          501,
          351,
          0,
          0,
          200,
          2,
          160,
          0,
          68,
          11,
          0,
          21,
          390,
          18,
          154,
          0,
          0,
          0,
          0,
          0,
          0,
          0,
          5,
          0,
          1,
          150,
          2,
          117,
          17,
          246,
          237,
          3,
          1,
          50,
          0,
          364,
          537,
          2,
          3,
          0,
          0,
          394,
          1,
          750,
          0
         ],
         "y0": " ",
         "yaxis": "y"
        }
       ],
       "layout": {
        "boxmode": "group",
        "legend": {
         "tracegroupgap": 0
        },
        "template": {
         "data": {
          "bar": [
           {
            "error_x": {
             "color": "#2a3f5f"
            },
            "error_y": {
             "color": "#2a3f5f"
            },
            "marker": {
             "line": {
              "color": "#E5ECF6",
              "width": 0.5
             },
             "pattern": {
              "fillmode": "overlay",
              "size": 10,
              "solidity": 0.2
             }
            },
            "type": "bar"
           }
          ],
          "barpolar": [
           {
            "marker": {
             "line": {
              "color": "#E5ECF6",
              "width": 0.5
             },
             "pattern": {
              "fillmode": "overlay",
              "size": 10,
              "solidity": 0.2
             }
            },
            "type": "barpolar"
           }
          ],
          "carpet": [
           {
            "aaxis": {
             "endlinecolor": "#2a3f5f",
             "gridcolor": "white",
             "linecolor": "white",
             "minorgridcolor": "white",
             "startlinecolor": "#2a3f5f"
            },
            "baxis": {
             "endlinecolor": "#2a3f5f",
             "gridcolor": "white",
             "linecolor": "white",
             "minorgridcolor": "white",
             "startlinecolor": "#2a3f5f"
            },
            "type": "carpet"
           }
          ],
          "choropleth": [
           {
            "colorbar": {
             "outlinewidth": 0,
             "ticks": ""
            },
            "type": "choropleth"
           }
          ],
          "contour": [
           {
            "colorbar": {
             "outlinewidth": 0,
             "ticks": ""
            },
            "colorscale": [
             [
              0,
              "#0d0887"
             ],
             [
              0.1111111111111111,
              "#46039f"
             ],
             [
              0.2222222222222222,
              "#7201a8"
             ],
             [
              0.3333333333333333,
              "#9c179e"
             ],
             [
              0.4444444444444444,
              "#bd3786"
             ],
             [
              0.5555555555555556,
              "#d8576b"
             ],
             [
              0.6666666666666666,
              "#ed7953"
             ],
             [
              0.7777777777777778,
              "#fb9f3a"
             ],
             [
              0.8888888888888888,
              "#fdca26"
             ],
             [
              1,
              "#f0f921"
             ]
            ],
            "type": "contour"
           }
          ],
          "contourcarpet": [
           {
            "colorbar": {
             "outlinewidth": 0,
             "ticks": ""
            },
            "type": "contourcarpet"
           }
          ],
          "heatmap": [
           {
            "colorbar": {
             "outlinewidth": 0,
             "ticks": ""
            },
            "colorscale": [
             [
              0,
              "#0d0887"
             ],
             [
              0.1111111111111111,
              "#46039f"
             ],
             [
              0.2222222222222222,
              "#7201a8"
             ],
             [
              0.3333333333333333,
              "#9c179e"
             ],
             [
              0.4444444444444444,
              "#bd3786"
             ],
             [
              0.5555555555555556,
              "#d8576b"
             ],
             [
              0.6666666666666666,
              "#ed7953"
             ],
             [
              0.7777777777777778,
              "#fb9f3a"
             ],
             [
              0.8888888888888888,
              "#fdca26"
             ],
             [
              1,
              "#f0f921"
             ]
            ],
            "type": "heatmap"
           }
          ],
          "heatmapgl": [
           {
            "colorbar": {
             "outlinewidth": 0,
             "ticks": ""
            },
            "colorscale": [
             [
              0,
              "#0d0887"
             ],
             [
              0.1111111111111111,
              "#46039f"
             ],
             [
              0.2222222222222222,
              "#7201a8"
             ],
             [
              0.3333333333333333,
              "#9c179e"
             ],
             [
              0.4444444444444444,
              "#bd3786"
             ],
             [
              0.5555555555555556,
              "#d8576b"
             ],
             [
              0.6666666666666666,
              "#ed7953"
             ],
             [
              0.7777777777777778,
              "#fb9f3a"
             ],
             [
              0.8888888888888888,
              "#fdca26"
             ],
             [
              1,
              "#f0f921"
             ]
            ],
            "type": "heatmapgl"
           }
          ],
          "histogram": [
           {
            "marker": {
             "pattern": {
              "fillmode": "overlay",
              "size": 10,
              "solidity": 0.2
             }
            },
            "type": "histogram"
           }
          ],
          "histogram2d": [
           {
            "colorbar": {
             "outlinewidth": 0,
             "ticks": ""
            },
            "colorscale": [
             [
              0,
              "#0d0887"
             ],
             [
              0.1111111111111111,
              "#46039f"
             ],
             [
              0.2222222222222222,
              "#7201a8"
             ],
             [
              0.3333333333333333,
              "#9c179e"
             ],
             [
              0.4444444444444444,
              "#bd3786"
             ],
             [
              0.5555555555555556,
              "#d8576b"
             ],
             [
              0.6666666666666666,
              "#ed7953"
             ],
             [
              0.7777777777777778,
              "#fb9f3a"
             ],
             [
              0.8888888888888888,
              "#fdca26"
             ],
             [
              1,
              "#f0f921"
             ]
            ],
            "type": "histogram2d"
           }
          ],
          "histogram2dcontour": [
           {
            "colorbar": {
             "outlinewidth": 0,
             "ticks": ""
            },
            "colorscale": [
             [
              0,
              "#0d0887"
             ],
             [
              0.1111111111111111,
              "#46039f"
             ],
             [
              0.2222222222222222,
              "#7201a8"
             ],
             [
              0.3333333333333333,
              "#9c179e"
             ],
             [
              0.4444444444444444,
              "#bd3786"
             ],
             [
              0.5555555555555556,
              "#d8576b"
             ],
             [
              0.6666666666666666,
              "#ed7953"
             ],
             [
              0.7777777777777778,
              "#fb9f3a"
             ],
             [
              0.8888888888888888,
              "#fdca26"
             ],
             [
              1,
              "#f0f921"
             ]
            ],
            "type": "histogram2dcontour"
           }
          ],
          "mesh3d": [
           {
            "colorbar": {
             "outlinewidth": 0,
             "ticks": ""
            },
            "type": "mesh3d"
           }
          ],
          "parcoords": [
           {
            "line": {
             "colorbar": {
              "outlinewidth": 0,
              "ticks": ""
             }
            },
            "type": "parcoords"
           }
          ],
          "pie": [
           {
            "automargin": true,
            "type": "pie"
           }
          ],
          "scatter": [
           {
            "fillpattern": {
             "fillmode": "overlay",
             "size": 10,
             "solidity": 0.2
            },
            "type": "scatter"
           }
          ],
          "scatter3d": [
           {
            "line": {
             "colorbar": {
              "outlinewidth": 0,
              "ticks": ""
             }
            },
            "marker": {
             "colorbar": {
              "outlinewidth": 0,
              "ticks": ""
             }
            },
            "type": "scatter3d"
           }
          ],
          "scattercarpet": [
           {
            "marker": {
             "colorbar": {
              "outlinewidth": 0,
              "ticks": ""
             }
            },
            "type": "scattercarpet"
           }
          ],
          "scattergeo": [
           {
            "marker": {
             "colorbar": {
              "outlinewidth": 0,
              "ticks": ""
             }
            },
            "type": "scattergeo"
           }
          ],
          "scattergl": [
           {
            "marker": {
             "colorbar": {
              "outlinewidth": 0,
              "ticks": ""
             }
            },
            "type": "scattergl"
           }
          ],
          "scattermapbox": [
           {
            "marker": {
             "colorbar": {
              "outlinewidth": 0,
              "ticks": ""
             }
            },
            "type": "scattermapbox"
           }
          ],
          "scatterpolar": [
           {
            "marker": {
             "colorbar": {
              "outlinewidth": 0,
              "ticks": ""
             }
            },
            "type": "scatterpolar"
           }
          ],
          "scatterpolargl": [
           {
            "marker": {
             "colorbar": {
              "outlinewidth": 0,
              "ticks": ""
             }
            },
            "type": "scatterpolargl"
           }
          ],
          "scatterternary": [
           {
            "marker": {
             "colorbar": {
              "outlinewidth": 0,
              "ticks": ""
             }
            },
            "type": "scatterternary"
           }
          ],
          "surface": [
           {
            "colorbar": {
             "outlinewidth": 0,
             "ticks": ""
            },
            "colorscale": [
             [
              0,
              "#0d0887"
             ],
             [
              0.1111111111111111,
              "#46039f"
             ],
             [
              0.2222222222222222,
              "#7201a8"
             ],
             [
              0.3333333333333333,
              "#9c179e"
             ],
             [
              0.4444444444444444,
              "#bd3786"
             ],
             [
              0.5555555555555556,
              "#d8576b"
             ],
             [
              0.6666666666666666,
              "#ed7953"
             ],
             [
              0.7777777777777778,
              "#fb9f3a"
             ],
             [
              0.8888888888888888,
              "#fdca26"
             ],
             [
              1,
              "#f0f921"
             ]
            ],
            "type": "surface"
           }
          ],
          "table": [
           {
            "cells": {
             "fill": {
              "color": "#EBF0F8"
             },
             "line": {
              "color": "white"
             }
            },
            "header": {
             "fill": {
              "color": "#C8D4E3"
             },
             "line": {
              "color": "white"
             }
            },
            "type": "table"
           }
          ]
         },
         "layout": {
          "annotationdefaults": {
           "arrowcolor": "#2a3f5f",
           "arrowhead": 0,
           "arrowwidth": 1
          },
          "autotypenumbers": "strict",
          "coloraxis": {
           "colorbar": {
            "outlinewidth": 0,
            "ticks": ""
           }
          },
          "colorscale": {
           "diverging": [
            [
             0,
             "#8e0152"
            ],
            [
             0.1,
             "#c51b7d"
            ],
            [
             0.2,
             "#de77ae"
            ],
            [
             0.3,
             "#f1b6da"
            ],
            [
             0.4,
             "#fde0ef"
            ],
            [
             0.5,
             "#f7f7f7"
            ],
            [
             0.6,
             "#e6f5d0"
            ],
            [
             0.7,
             "#b8e186"
            ],
            [
             0.8,
             "#7fbc41"
            ],
            [
             0.9,
             "#4d9221"
            ],
            [
             1,
             "#276419"
            ]
           ],
           "sequential": [
            [
             0,
             "#0d0887"
            ],
            [
             0.1111111111111111,
             "#46039f"
            ],
            [
             0.2222222222222222,
             "#7201a8"
            ],
            [
             0.3333333333333333,
             "#9c179e"
            ],
            [
             0.4444444444444444,
             "#bd3786"
            ],
            [
             0.5555555555555556,
             "#d8576b"
            ],
            [
             0.6666666666666666,
             "#ed7953"
            ],
            [
             0.7777777777777778,
             "#fb9f3a"
            ],
            [
             0.8888888888888888,
             "#fdca26"
            ],
            [
             1,
             "#f0f921"
            ]
           ],
           "sequentialminus": [
            [
             0,
             "#0d0887"
            ],
            [
             0.1111111111111111,
             "#46039f"
            ],
            [
             0.2222222222222222,
             "#7201a8"
            ],
            [
             0.3333333333333333,
             "#9c179e"
            ],
            [
             0.4444444444444444,
             "#bd3786"
            ],
            [
             0.5555555555555556,
             "#d8576b"
            ],
            [
             0.6666666666666666,
             "#ed7953"
            ],
            [
             0.7777777777777778,
             "#fb9f3a"
            ],
            [
             0.8888888888888888,
             "#fdca26"
            ],
            [
             1,
             "#f0f921"
            ]
           ]
          },
          "colorway": [
           "#636efa",
           "#EF553B",
           "#00cc96",
           "#ab63fa",
           "#FFA15A",
           "#19d3f3",
           "#FF6692",
           "#B6E880",
           "#FF97FF",
           "#FECB52"
          ],
          "font": {
           "color": "#2a3f5f"
          },
          "geo": {
           "bgcolor": "white",
           "lakecolor": "white",
           "landcolor": "#E5ECF6",
           "showlakes": true,
           "showland": true,
           "subunitcolor": "white"
          },
          "hoverlabel": {
           "align": "left"
          },
          "hovermode": "closest",
          "mapbox": {
           "style": "light"
          },
          "paper_bgcolor": "white",
          "plot_bgcolor": "#E5ECF6",
          "polar": {
           "angularaxis": {
            "gridcolor": "white",
            "linecolor": "white",
            "ticks": ""
           },
           "bgcolor": "#E5ECF6",
           "radialaxis": {
            "gridcolor": "white",
            "linecolor": "white",
            "ticks": ""
           }
          },
          "scene": {
           "xaxis": {
            "backgroundcolor": "#E5ECF6",
            "gridcolor": "white",
            "gridwidth": 2,
            "linecolor": "white",
            "showbackground": true,
            "ticks": "",
            "zerolinecolor": "white"
           },
           "yaxis": {
            "backgroundcolor": "#E5ECF6",
            "gridcolor": "white",
            "gridwidth": 2,
            "linecolor": "white",
            "showbackground": true,
            "ticks": "",
            "zerolinecolor": "white"
           },
           "zaxis": {
            "backgroundcolor": "#E5ECF6",
            "gridcolor": "white",
            "gridwidth": 2,
            "linecolor": "white",
            "showbackground": true,
            "ticks": "",
            "zerolinecolor": "white"
           }
          },
          "shapedefaults": {
           "line": {
            "color": "#2a3f5f"
           }
          },
          "ternary": {
           "aaxis": {
            "gridcolor": "white",
            "linecolor": "white",
            "ticks": ""
           },
           "baxis": {
            "gridcolor": "white",
            "linecolor": "white",
            "ticks": ""
           },
           "bgcolor": "#E5ECF6",
           "caxis": {
            "gridcolor": "white",
            "linecolor": "white",
            "ticks": ""
           }
          },
          "title": {
           "x": 0.05
          },
          "xaxis": {
           "automargin": true,
           "gridcolor": "white",
           "linecolor": "white",
           "ticks": "",
           "title": {
            "standoff": 15
           },
           "zerolinecolor": "white",
           "zerolinewidth": 2
          },
          "yaxis": {
           "automargin": true,
           "gridcolor": "white",
           "linecolor": "white",
           "ticks": "",
           "title": {
            "standoff": 15
           },
           "zerolinecolor": "white",
           "zerolinewidth": 2
          }
         }
        },
        "title": {
         "text": "Distribution of Income"
        },
        "xaxis": {
         "anchor": "y",
         "domain": [
          0,
          1
         ]
        },
        "yaxis": {
         "anchor": "x",
         "domain": [
          0,
          1
         ],
         "title": {
          "text": "Income"
         }
        }
       }
      }
     },
     "metadata": {},
     "output_type": "display_data"
    }
   ],
   "source": [
    "# Creating box plots to check for outliers\n",
    "\n",
    "# Using plotly to create box plots\n",
    "df_selected = df[['Age', 'Debt', 'YearsEmployed', 'CreditScore', 'Income']]\n",
    "for column in df_selected.columns:\n",
    "    fig = px.box(df, y=column, title=f'Distribution of {column}')\n",
    "    fig.show()"
   ]
  },
  {
   "cell_type": "markdown",
   "metadata": {},
   "source": [
    "1. Age\n",
    "\n",
    "The distribution of Age shows that most individuals fall between 20 and 40 years old, with a median range of 28.46. However, there are a few outliers with very high values, reaching a maximum age of 80.25. I will retain these outliers to ensure the model captures all relevant patterns.\n",
    "\n",
    "2. Debt\n",
    "\n",
    "The Debt variable has most values concentrated below 10, with a median of 2.75. However, there are notable outliers above the upper fence of 16.5, with a maximum value of 28. I will use apropriate methods to handle these outliers.\n",
    "\n",
    "3. YearsEmployed\n",
    "\n",
    "The YearsEmployed variable demostrates that most individuals have less than 6 years of employment, with a median of 1 year. There is an extreme outlier at 28.5 years, this can represent a long career. I will cap this to avoid skewing the model.\n",
    "\n",
    "4. CreditScore\n",
    "\n",
    "Shows that most individuals have a score of 0 to 3, with a median of 0. There are outliers beyond the upper fence of 7, reaching a maximum value of 67. These scores may represent unusual cases. I will use appropriate methods to handle these outliers.\n",
    "\n",
    "5. Income\n",
    "\n",
    "The income variable shows a highly skewed distribution, whith most indivuals earning less than 20000 and a median of 5. I will use logarithmic transformation to handle this skewness."
   ]
  },
  {
   "cell_type": "code",
   "execution_count": 42,
   "metadata": {},
   "outputs": [
    {
     "name": "stdout",
     "output_type": "stream",
     "text": [
      "Skewness of Debt: 1.4855746179702647\n"
     ]
    }
   ],
   "source": [
    "# Starting with Debt\n",
    "# Checking the type of sesgo\n",
    "from scipy.stats import skew\n",
    "\n",
    "debt_skew = skew(df['Debt'])\n",
    "print(f'Skewness of Debt: {debt_skew}')\n"
   ]
  },
  {
   "cell_type": "markdown",
   "metadata": {},
   "source": [
    "Interpretation:\n",
    "\n",
    "- Positive skewness (right-skewed, > 0) → The right tail is longer (higher extreme values). Requires logarithmic transformation.\n",
    "- Negative skewness (left-skewed, < 0) → The left tail is longer (lower extreme values).\n",
    "- Symmetric distribution (~ 0) → No need to correct the skewness."
   ]
  },
  {
   "cell_type": "code",
   "execution_count": 43,
   "metadata": {},
   "outputs": [],
   "source": [
    "# The skewness is more than 0, which means the data is skewed to the right.\n",
    "# I will use log transformation to correct this\n",
    "import numpy as np\n",
    "df['Debt'] = np.log1p(df['Debt'])"
   ]
  },
  {
   "cell_type": "code",
   "execution_count": 44,
   "metadata": {},
   "outputs": [
    {
     "name": "stdout",
     "output_type": "stream",
     "text": [
      "Skewness of Debt: 0.1721318192512319\n"
     ]
    }
   ],
   "source": [
    "# Now I will check the skewness again\n",
    "debt_skew = skew(df['Debt'])\n",
    "print(f'Skewness of Debt: {debt_skew}')"
   ]
  },
  {
   "cell_type": "code",
   "execution_count": 45,
   "metadata": {},
   "outputs": [],
   "source": [
    "# You can see that the skewness is much closer to 0\n",
    "# That means that the data is more normal\n",
    "# Now with YearsEmployed\n",
    "upper_limit = df['YearsEmployed'].quantile(0.95)\n",
    "df['YearsEmployed'] = df['YearsEmployed'].apply(lambda x: min(x, upper_limit))"
   ]
  },
  {
   "cell_type": "markdown",
   "metadata": {},
   "source": [
    "Capping is a technique used to handle outliers by setting upper and/or lower limits on a variable. Instead of removing extreme values, they are replaced with a defined threshold, usually based on percentiles.\n",
    "\n",
    "In this case, I applied upper capping to YearsEmployed by limiting values above the 95th percentile. This helps reduce the impact of extreme values while preserving the overall distribution of the data. Capping ensures that outliers do not distort the model while keeping meaningful information."
   ]
  },
  {
   "cell_type": "code",
   "execution_count": 46,
   "metadata": {},
   "outputs": [],
   "source": [
    "# I will use capping again for CreditScore\n",
    "upper_limit = df['CreditScore'].quantile(0.95)\n",
    "df['CreditScore'] = df['CreditScore'].apply(lambda x: min(x, upper_limit))"
   ]
  },
  {
   "cell_type": "code",
   "execution_count": 47,
   "metadata": {},
   "outputs": [
    {
     "name": "stdout",
     "output_type": "stream",
     "text": [
      "Skewness of Income: 13.112071105201627\n"
     ]
    }
   ],
   "source": [
    "# I will check the skewness for Income\n",
    "income_skew = skew(df['Income'])\n",
    "print(f'Skewness of Income: {income_skew}')"
   ]
  },
  {
   "cell_type": "code",
   "execution_count": 48,
   "metadata": {},
   "outputs": [],
   "source": [
    "# Is more than 0, so I will use log transformation\n",
    "df['Income'] = np.log1p(df['Income'])"
   ]
  },
  {
   "cell_type": "code",
   "execution_count": 49,
   "metadata": {},
   "outputs": [
    {
     "name": "stdout",
     "output_type": "stream",
     "text": [
      "Skewness of Income: 0.5092877667184338\n"
     ]
    }
   ],
   "source": [
    "income_skew = skew(df['Income'])\n",
    "print(f'Skewness of Income: {income_skew}')"
   ]
  },
  {
   "cell_type": "code",
   "execution_count": 50,
   "metadata": {},
   "outputs": [],
   "source": [
    "# You can see that the skewness is much closer to 0\n",
    "# That means that the data is more normal"
   ]
  },
  {
   "cell_type": "markdown",
   "metadata": {},
   "source": [
    "# Data Preparation for Machine Learning "
   ]
  },
  {
   "cell_type": "code",
   "execution_count": 51,
   "metadata": {},
   "outputs": [],
   "source": [
    "from sklearn.model_selection import train_test_split\n",
    "from sklearn.pipeline import Pipeline\n",
    "from sklearn.impute import SimpleImputer\n",
    "from sklearn.preprocessing import StandardScaler, OneHotEncoder\n",
    "from sklearn.compose import ColumnTransformer\n",
    "\n",
    "df1 = df\n",
    "\n",
    "#Selecting the target variable and separating it\n",
    "X = df1.drop('Approved', axis = 1) # Select all columns except 'Approved'\n",
    "y = df1['Approved'] # This is the target variable   \n",
    "\n",
    "# Splitting the dataset into training and test sets\n",
    "X_train, X_test, y_train, y_test = train_test_split(X, y, test_size=0.2, random_state=42)\n",
    "\n",
    "# Creating the pipeline.\n",
    "num_columns = X.select_dtypes(include=['float64', 'int64']).columns\n",
    "cat_columns = X.select_dtypes(include=['object', 'bool']).columns\n",
    "\n",
    "# Pipeline for numerical features\n",
    "numeric_transformer = Pipeline(steps=[\n",
    "    ('imputer', SimpleImputer(strategy='median')),\n",
    "    ('scaler', StandardScaler())\n",
    "])\n",
    "\n",
    "# Pipeline for categorical features\n",
    "categorical_transformer = Pipeline(steps =[\n",
    "    ('imputer', SimpleImputer(strategy='most_frequent')),\n",
    "    ('onehot', OneHotEncoder(handle_unknown='ignore') )\n",
    "])\n",
    "\n",
    "# Applying transformations based on feature types\n",
    "preprocessor = ColumnTransformer(\n",
    "    transformers=[\n",
    "        ('num', numeric_transformer, num_columns),\n",
    "        ('cat', categorical_transformer, cat_columns)\n",
    "    ]\n",
    ")\n",
    "\n",
    "# Creating the full pipeline\n",
    "pipeline = Pipeline(steps=[\n",
    "    ('preprocessor', preprocessor)\n",
    "])"
   ]
  },
  {
   "cell_type": "markdown",
   "metadata": {},
   "source": [
    "# Model Implementation"
   ]
  },
  {
   "cell_type": "code",
   "execution_count": 52,
   "metadata": {},
   "outputs": [
    {
     "name": "stdout",
     "output_type": "stream",
     "text": [
      "Reporte del modelo Logistic Regression:\n",
      "              precision    recall  f1-score   support\n",
      "\n",
      "           0       0.83      0.84      0.83        68\n",
      "           1       0.84      0.83      0.83        70\n",
      "\n",
      "    accuracy                           0.83       138\n",
      "   macro avg       0.83      0.83      0.83       138\n",
      "weighted avg       0.83      0.83      0.83       138\n",
      "\n",
      "Reporte del modelo K-Nearest Neighbors:\n",
      "              precision    recall  f1-score   support\n",
      "\n",
      "           0       0.83      0.94      0.88        68\n",
      "           1       0.93      0.81      0.87        70\n",
      "\n",
      "    accuracy                           0.88       138\n",
      "   macro avg       0.88      0.88      0.88       138\n",
      "weighted avg       0.88      0.88      0.88       138\n",
      "\n",
      "Reporte del modelo Decision Tree:\n",
      "              precision    recall  f1-score   support\n",
      "\n",
      "           0       0.72      0.79      0.76        68\n",
      "           1       0.78      0.70      0.74        70\n",
      "\n",
      "    accuracy                           0.75       138\n",
      "   macro avg       0.75      0.75      0.75       138\n",
      "weighted avg       0.75      0.75      0.75       138\n",
      "\n",
      "Reporte del modelo Random Forest:\n",
      "              precision    recall  f1-score   support\n",
      "\n",
      "           0       0.85      0.88      0.86        68\n",
      "           1       0.88      0.84      0.86        70\n",
      "\n",
      "    accuracy                           0.86       138\n",
      "   macro avg       0.86      0.86      0.86       138\n",
      "weighted avg       0.86      0.86      0.86       138\n",
      "\n",
      "Reporte del modelo XGBoost:\n",
      "              precision    recall  f1-score   support\n",
      "\n",
      "           0       0.79      0.88      0.83        68\n",
      "           1       0.87      0.77      0.82        70\n",
      "\n",
      "    accuracy                           0.83       138\n",
      "   macro avg       0.83      0.83      0.83       138\n",
      "weighted avg       0.83      0.83      0.83       138\n",
      "\n",
      "                 Model  Accuracy\n",
      "0  Logistic Regression  0.833333\n",
      "1                  KNN  0.876812\n",
      "2        Decision Tree  0.746377\n",
      "3        Random Forest  0.862319\n",
      "4              XGBoost  0.826087\n"
     ]
    }
   ],
   "source": [
    "from sklearn.linear_model import LogisticRegression\n",
    "from sklearn.neighbors import KNeighborsClassifier\n",
    "from sklearn.tree import DecisionTreeClassifier\n",
    "from sklearn.ensemble import RandomForestClassifier\n",
    "from xgboost import XGBClassifier\n",
    "from sklearn.metrics import classification_report, accuracy_score\n",
    "\n",
    "# Creating the models\n",
    "pipeline_LR = Pipeline(steps=[\n",
    "    ('preprocessor', preprocessor), # Calling the preprocessing pipeline created above\n",
    "    ('classifier', LogisticRegression())\n",
    "])\n",
    "\n",
    "pipeline_KNN = Pipeline(steps=[\n",
    "    ('preprocessor', preprocessor),\n",
    "    ('classifier', KNeighborsClassifier(n_neighbors=5)) \n",
    "])\n",
    "\n",
    "pipeline_DT = Pipeline(steps=[\n",
    "    ('preprocessor', preprocessor),\n",
    "    ('classifier', DecisionTreeClassifier(criterion='gini', max_depth=None, random_state=42))\n",
    "])\n",
    "\n",
    "pipeline_RF = Pipeline(steps=[\n",
    "    ('preprocessor', preprocessor),\n",
    "    ('classifier', RandomForestClassifier(n_estimators=100, criterion='gini', max_depth=None, random_state=42))\n",
    "])\n",
    "\n",
    "pipeline_XGB = Pipeline(steps=[\n",
    "    ('preprocessor', preprocessor),\n",
    "    ('classifier', XGBClassifier(eval_metric='logloss', random_state=42))\n",
    "])\n",
    "\n",
    "# Training the models\n",
    "pipeline_LR.fit(X_train, y_train)\n",
    "pipeline_KNN.fit(X_train, y_train)\n",
    "pipeline_DT.fit(X_train, y_train)\n",
    "pipeline_RF.fit(X_train, y_train)\n",
    "pipeline_XGB.fit(X_train, y_train)\n",
    "\n",
    "# Making predictions\n",
    "y_pred_LR = pipeline_LR.predict(X_test)\n",
    "y_pred_KNN = pipeline_KNN.predict(X_test)\n",
    "y_pred_DT = pipeline_DT.predict(X_test)\n",
    "y_pred_RF = pipeline_RF.predict(X_test)\n",
    "y_pred_XGB = pipeline_XGB.predict(X_test)\n",
    "\n",
    "# Evaluating the models\n",
    "print(f'Reporte del modelo Logistic Regression:')\n",
    "print(classification_report(y_test, y_pred_LR))\n",
    "\n",
    "print(f'Reporte del modelo K-Nearest Neighbors:')\n",
    "print(classification_report(y_test, y_pred_KNN))\n",
    "\n",
    "print(f'Reporte del modelo Decision Tree:')\n",
    "print(classification_report(y_test, y_pred_DT))\n",
    "\n",
    "print(f'Reporte del modelo Random Forest:')\n",
    "print(classification_report(y_test, y_pred_RF))\n",
    "\n",
    "print(f'Reporte del modelo XGBoost:')\n",
    "print(classification_report(y_test, y_pred_XGB))\n",
    "\n",
    "# Comparing the accuracy of each model\n",
    "accuracy_LR = accuracy_score(y_test, y_pred_LR)\n",
    "accuracy_KNN = accuracy_score(y_test, y_pred_KNN)\n",
    "accuracy_DT = accuracy_score(y_test, y_pred_DT)\n",
    "accuracy_RF = accuracy_score(y_test, y_pred_RF)\n",
    "accuracy_XGB = accuracy_score(y_test, y_pred_XGB)\n",
    "\n",
    "# Creating a dictionary to display results easily\n",
    "results = {\n",
    "    'Model':[\"Logistic Regression\", \"KNN\", \"Decision Tree\", \"Random Forest\", \"XGBoost\"],\n",
    "    \"Accuracy\": [accuracy_LR, accuracy_KNN, accuracy_DT, accuracy_RF, accuracy_XGB]\n",
    "}\n",
    "\n",
    "results_df = pd.DataFrame(results)\n",
    "print(results_df)"
   ]
  },
  {
   "cell_type": "markdown",
   "metadata": {},
   "source": [
    "# Interpretación de los resultados\n",
    "Viendo los reportes de clasificación, puedo analizar el rendimiento de cada modelo en términos de precisión, recall, F1-score y accuracy.\n",
    "\n",
    "Comparando los modelos puedo decir que:\n",
    "- KNN obtuvo un mejor rendimiento con una precisión del 88%.\n",
    "- El árbol de decisión tuvo el peor desempeño con un 75%.\n",
    "- Random Forest y XGBoost también muestran buenos resultados con más del 82 % de precisión.\n",
    "\n",
    "Ahora voy a tratar de optimizar los modelos utilizando GridSearchCV.\n",
    "\n",
    "# Interpretation of the Results\n",
    "Based on the classification reports, I can analyze the performance of each model in terms of precision, recall, F1-score, and accuracy.\n",
    "\n",
    "Model Comparison\n",
    "- KNN achieved the best performance with an accuracy of 88%.\n",
    "- Decision Tree had the worst performance with a 75%.\n",
    "- Random Forest and XGBoost also performed wll, both above 82% accuracy.\n",
    "\n",
    "Now I will try to optimize the models using GridSearchCV."
   ]
  },
  {
   "cell_type": "code",
   "execution_count": 53,
   "metadata": {},
   "outputs": [
    {
     "name": "stdout",
     "output_type": "stream",
     "text": [
      "Best parameters for K-Nearest Neighbors: {'classifier__metric': 'manhattan', 'classifier__n_neighbors': 3, 'classifier__weights': 'distance'}\n",
      "Best cross-validated accuracy for K-Nearest Neighbors: 0.8605\n",
      "Best parameters for Random Forest: {'classifier__criterion': 'gini', 'classifier__max_depth': 10, 'classifier__min_samples_split': 10, 'classifier__n_estimators': 100}\n",
      "Best cross-validated accuracy for Random Forest: 0.8804\n",
      "Best parameters for XGBoost: {'classifier__learning_rate': 0.2, 'classifier__max_depth': 6, 'classifier__n_estimators': 50, 'classifier__subsample': 0.6}\n",
      "Best cross-validated accuracy for XGBoost: 0.8858\n"
     ]
    }
   ],
   "source": [
    "# I will try to improve the accuracy of the models (KNN, Random Forest, XGBoost)\n",
    "from sklearn.model_selection import GridSearchCV\n",
    "# Parameters \n",
    "param_grid_KNN = {\n",
    "    'classifier__n_neighbors': [3, 5, 7, 9],\n",
    "    'classifier__weights': ['uniform', 'distance'],\n",
    "    'classifier__metric': ['euclidean', 'manhattan']\n",
    "}\n",
    "\n",
    "param_grid_RF = {\n",
    "    'classifier__n_estimators': [50, 100, 200],\n",
    "    'classifier__max_depth': [None, 10, 20, 30],\n",
    "    'classifier__criterion': ['gini', 'entropy'],\n",
    "    'classifier__min_samples_split': [2, 5, 10]\n",
    "}\n",
    "\n",
    "param_grid_XGB = {\n",
    "    'classifier__n_estimators': [50, 100, 200],\n",
    "    'classifier__max_depth': [3, 6, 9],\n",
    "    'classifier__learning_rate': [0.01, 0.1, 0.2],\n",
    "    'classifier__subsample': [0.6, 0.8, 1.0]\n",
    "}\n",
    "\n",
    "# GridSearch for each model\n",
    "grid_KNN = GridSearchCV(pipeline_KNN, param_grid_KNN, cv=5, scoring='accuracy', n_jobs=-1)\n",
    "grid_RF = GridSearchCV(pipeline_RF, param_grid_RF, cv=5, scoring='accuracy', n_jobs=-1)\n",
    "grid_XGB = GridSearchCV(pipeline_XGB, param_grid_XGB, cv=5, scoring='accuracy', n_jobs=-1)\n",
    "\n",
    "# Training the models\n",
    "grid_KNN.fit(X_train, y_train)\n",
    "grid_RF.fit(X_train, y_train)\n",
    "grid_XGB.fit(X_train, y_train)\n",
    "\n",
    "# Best parameters\n",
    "print(\"Best parameters for K-Nearest Neighbors:\", grid_KNN.best_params_)\n",
    "print(\"Best cross-validated accuracy for K-Nearest Neighbors:\", round(grid_KNN.best_score_, 4))\n",
    "\n",
    "print(\"Best parameters for Random Forest:\", grid_RF.best_params_)\n",
    "print(\"Best cross-validated accuracy for Random Forest:\", round(grid_RF.best_score_, 4))\n",
    "\n",
    "print(\"Best parameters for XGBoost:\", grid_XGB.best_params_)\n",
    "print(\"Best cross-validated accuracy for XGBoost:\", round(grid_XGB.best_score_, 4))"
   ]
  },
  {
   "cell_type": "code",
   "execution_count": 54,
   "metadata": {},
   "outputs": [
    {
     "name": "stdout",
     "output_type": "stream",
     "text": [
      "\n",
      "Final Accuracy on Test Set:\n",
      "KNN: 0.8333333333333334\n",
      "Random Forest: 0.8623188405797102\n",
      "XGBoost: 0.8260869565217391\n"
     ]
    }
   ],
   "source": [
    "# Evaluating the best models\n",
    "best_KNN = grid_KNN.best_estimator_\n",
    "best_RF = grid_RF.best_estimator_\n",
    "best_XGB = grid_XGB.best_estimator_\n",
    "\n",
    "y_pred_KNN = best_KNN.predict(X_test)\n",
    "y_pred_RF = best_RF.predict(X_test)\n",
    "y_pred_XGB = best_XGB.predict(X_test)\n",
    "\n",
    "print(\"\\nFinal Accuracy on Test Set:\")\n",
    "print(\"KNN:\", accuracy_score(y_test, y_pred_KNN))\n",
    "print(\"Random Forest:\", accuracy_score(y_test, y_pred_RF))\n",
    "print(\"XGBoost:\", accuracy_score(y_test, y_pred_XGB))\n"
   ]
  },
  {
   "cell_type": "markdown",
   "metadata": {},
   "source": [
    "# Conclusión de la optimización\n",
    "- Para Random Forest y XGBoost, la optimización no tuvo impacto en X_Test, lo que indica que el modelo ya estaba bien configurado con los valores por defecto.\n",
    "- Para KNN, la optimización redujo la precisión en X_test, lo que nos dice que los hiperparámetros seleccionados pueden haber reducido su capacidad de generalización.\n",
    "- Random Forest es el modelo más consistente, con una precisión estable del 86.23 %.\n",
    "\n",
    "# Conclusion of the Optimization\n",
    "- For Random Forest and XGBoost, the optimization had no impact on X_test, indicating that the model was already well-configured with the default values.\n",
    "- For KNN, the optimization reduced accuracy on X_test, suggesting that the selected hyperparameters may have decreased its generalization ability.\n",
    "- Random Forest is the most consistent model, maintaining a stable accuracy of 86.23%."
   ]
  },
  {
   "cell_type": "code",
   "execution_count": 56,
   "metadata": {},
   "outputs": [
    {
     "data": {
      "image/png": "[encoded data removed]",
      "text/plain": [
       "<Figure size 800x600 with 2 Axes>"
      ]
     },
     "metadata": {},
     "output_type": "display_data"
    }
   ],
   "source": [
    "from sklearn.metrics import confusion_matrix\n",
    "# Confusion matrix for KNN\n",
    "cm_KNN = confusion_matrix(y_test, y_pred_KNN)\n",
    "\n",
    "# Visualize confusion matrix\n",
    "plt.figure(figsize=(8, 6))\n",
    "sns.heatmap(cm_KNN, annot=True, fmt='d', cmap='Blues', xticklabels=['Not Approved', 'Approved'], yticklabels=['Not Approved', 'Approved'])\n",
    "plt.xlabel('Prediction')\n",
    "plt.ylabel('True Label')\n",
    "plt.title('Confusion Matrix - KNN')\n",
    "plt.show()\n"
   ]
  },
  {
   "cell_type": "markdown",
   "metadata": {},
   "source": [
    "# Interpretación de la matriz de confusión de KNN\n",
    "- El modelo predijo correctamente 62 casos de 'Not Approved'.\n",
    "- Predijo correctamente 53 casos de 'Approved' (Verdaderos Positivos).\n",
    "\n",
    "Puedo decir que:\n",
    "- El modelo está fallando más al identificar casos de aprobación (17 falsos negativos).\n",
    "- El modelo rara vez aprueba erróneamente un caso que debería ser rechazado.\n",
    "\n",
    "# Interpretation of the KNN Confusion Matrix\n",
    "- The model correctly predicted 62 cases of 'Not Approved'.\n",
    "- It correctly predicted 53 cases of 'Approved' (True Positives).\n",
    "\n",
    "I can also say that:\n",
    "- The model is failing more when identifying approval cases (17 false negatives).\n",
    "- The model rarely approves a case that should have been rejected."
   ]
  },
  {
   "cell_type": "code",
   "execution_count": 58,
   "metadata": {},
   "outputs": [
    {
     "data": {
      "image/png": "[encoded data removed]",
      "text/plain": [
       "<Figure size 800x600 with 2 Axes>"
      ]
     },
     "metadata": {},
     "output_type": "display_data"
    }
   ],
   "source": [
    "from sklearn.metrics import confusion_matrix\n",
    "# Confusion matrix for Random Forest\n",
    "cm_RF = confusion_matrix(y_test, y_pred_RF)\n",
    "\n",
    "# Visualize confusion matrix\n",
    "plt.figure(figsize=(8, 6))\n",
    "sns.heatmap(cm_RF, annot=True, fmt='d', cmap='Blues', xticklabels=['Not Approved', 'Approved'], yticklabels=['Not Approved', 'Approved'])\n",
    "plt.xlabel('Prediction')\n",
    "plt.ylabel('True Label')\n",
    "plt.title('Confusion Matrix - RF')\n",
    "plt.show()"
   ]
  },
  {
   "cell_type": "code",
   "execution_count": 60,
   "metadata": {},
   "outputs": [
    {
     "data": {
      "image/png": "[encoded data removed]",
      "text/plain": [
       "<Figure size 800x600 with 1 Axes>"
      ]
     },
     "metadata": {},
     "output_type": "display_data"
    },
    {
     "name": "stdout",
     "output_type": "stream",
     "text": [
      "AUC for KNN: 0.8936974789915966\n",
      "AUC for Random Forest: 0.9096638655462185\n"
     ]
    }
   ],
   "source": [
    "from sklearn.metrics import roc_curve, roc_auc_score\n",
    "import matplotlib.pyplot as plt\n",
    "\n",
    "# Obtain prediction probabilities for KNN and Random Forest\n",
    "y_pred_prob_KNN = pipeline_KNN.predict_proba(X_test)[:, 1]  \n",
    "y_pred_prob_RF = pipeline_RF.predict_proba(X_test)[:, 1] \n",
    "\n",
    "# Compute the ROC Curve and AUC for both models\n",
    "fpr_KNN, tpr_KNN, _ = roc_curve(y_test, y_pred_prob_KNN)\n",
    "fpr_RF, tpr_RF, _ = roc_curve(y_test, y_pred_prob_RF)\n",
    "\n",
    "auc_KNN = roc_auc_score(y_test, y_pred_prob_KNN)\n",
    "auc_RF = roc_auc_score(y_test, y_pred_prob_RF)\n",
    "\n",
    "# Graph Settings\n",
    "plt.figure(figsize=(8, 6))\n",
    "plt.plot(fpr_KNN, tpr_KNN, label='KNN (AUC = %0.2f)' % auc_KNN, color='blue')\n",
    "plt.plot(fpr_RF, tpr_RF, label='Random Forest (AUC = %0.2f)' % auc_RF, color='red')\n",
    "plt.plot([0, 1], [0, 1], 'k--', label='Random Classifier')\n",
    "plt.xlim([0.0, 1.0])\n",
    "plt.ylim([0.0, 1.05])\n",
    "plt.xlabel('False Positive Rate')\n",
    "plt.ylabel('True Positive Rate')\n",
    "plt.title('ROC Curve Comparison - KNN vs Random Forest')\n",
    "plt.legend(loc=\"lower right\")\n",
    "plt.show()\n",
    "\n",
    "# Print AUC values\n",
    "print(\"AUC for KNN:\", auc_KNN)\n",
    "print(\"AUC for Random Forest:\", auc_RF)\n"
   ]
  },
  {
   "cell_type": "markdown",
   "metadata": {},
   "source": [
    "# Conclusión 1\n",
    "Si vemos el área bajo la curva:\n",
    "- Random Forest tiene un AUC de 0.91, que es superior a KNN (0.89). Lo que dice que Random Forest separa mejor las clases y tiene mejor capacidad de discriminación entre 'Approved' y 'Not Approved'\n",
    "\n",
    "Si vemos la matriz de confusión:\n",
    "- Random Forest tiene más verdaderos Positivos (58 vs 53) que KNN, lo que significa que aprueba más casos correctamente.\n",
    "- Random Forest tiene menos falsos negativos, lo que indica que comete menos errores al rechazar aprobaciones.\n",
    "- KNN tiene menos falsos positivos, pero la diferencia es mínima (6 vs 7)\n",
    "\n",
    "Entonces:\n",
    "- El mejor modelo es Random Forest.\n",
    "\n",
    "# Conclusion 1\n",
    "If we analyze the area under the curve (AUC):\n",
    "\n",
    "- Random Forest has an AUC of 0.91, which is higher than KNN (0.89). This indicates that Random Forest separates the classes better and has a stronger ability to discriminate between 'Approved' and 'Not Approved'.\n",
    "\n",
    "If we analyze the confusion matrix:\n",
    "- Random Forest has more True Positives (58 vs. 53 in KNN), meaning it correctly approves more cases.\n",
    "- Random Forest has fewer False Negatives, indicating it makes fewer mistakes when rejecting approvals.\n",
    "- KNN has fewer False Positives, but the difference is minimal (6 vs. 7).\n",
    "\n",
    "Therefore:\n",
    "- The best model is Random Forest."
   ]
  },
  {
   "cell_type": "markdown",
   "metadata": {},
   "source": [
    "# Neuronal Network Implementation"
   ]
  },
  {
   "cell_type": "code",
   "execution_count": 65,
   "metadata": {},
   "outputs": [
    {
     "name": "stdout",
     "output_type": "stream",
     "text": [
      "Epoch 1/100\n"
     ]
    },
    {
     "name": "stderr",
     "output_type": "stream",
     "text": [
      "/Users/mathiorti/Library/Python/3.9/lib/python/site-packages/keras/src/layers/core/dense.py:87: UserWarning:\n",
      "\n",
      "Do not pass an `input_shape`/`input_dim` argument to a layer. When using Sequential models, prefer using an `Input(shape)` object as the first layer in the model instead.\n",
      "\n"
     ]
    },
    {
     "name": "stdout",
     "output_type": "stream",
     "text": [
      "\u001b[1m14/14\u001b[0m \u001b[32m━━━━━━━━━━━━━━━━━━━━\u001b[0m\u001b[37m\u001b[0m \u001b[1m0s\u001b[0m 8ms/step - accuracy: 0.4862 - loss: 0.7356 - val_accuracy: 0.7387 - val_loss: 0.5831\n",
      "Epoch 2/100\n",
      "\u001b[1m14/14\u001b[0m \u001b[32m━━━━━━━━━━━━━━━━━━━━\u001b[0m\u001b[37m\u001b[0m \u001b[1m0s\u001b[0m 3ms/step - accuracy: 0.6197 - loss: 0.6340 - val_accuracy: 0.8018 - val_loss: 0.5473\n",
      "Epoch 3/100\n",
      "\u001b[1m14/14\u001b[0m \u001b[32m━━━━━━━━━━━━━━━━━━━━\u001b[0m\u001b[37m\u001b[0m \u001b[1m0s\u001b[0m 3ms/step - accuracy: 0.7100 - loss: 0.5876 - val_accuracy: 0.8378 - val_loss: 0.5137\n",
      "Epoch 4/100\n",
      "\u001b[1m14/14\u001b[0m \u001b[32m━━━━━━━━━━━━━━━━━━━━\u001b[0m\u001b[37m\u001b[0m \u001b[1m0s\u001b[0m 3ms/step - accuracy: 0.7042 - loss: 0.5997 - val_accuracy: 0.8378 - val_loss: 0.4786\n",
      "Epoch 5/100\n",
      "\u001b[1m14/14\u001b[0m \u001b[32m━━━━━━━━━━━━━━━━━━━━\u001b[0m\u001b[37m\u001b[0m \u001b[1m0s\u001b[0m 6ms/step - accuracy: 0.7825 - loss: 0.5080 - val_accuracy: 0.8468 - val_loss: 0.4477\n",
      "Epoch 6/100\n",
      "\u001b[1m14/14\u001b[0m \u001b[32m━━━━━━━━━━━━━━━━━━━━\u001b[0m\u001b[37m\u001b[0m \u001b[1m0s\u001b[0m 3ms/step - accuracy: 0.7675 - loss: 0.5163 - val_accuracy: 0.8108 - val_loss: 0.4214\n",
      "Epoch 7/100\n",
      "\u001b[1m14/14\u001b[0m \u001b[32m━━━━━━━━━━━━━━━━━━━━\u001b[0m\u001b[37m\u001b[0m \u001b[1m0s\u001b[0m 3ms/step - accuracy: 0.8025 - loss: 0.4615 - val_accuracy: 0.8198 - val_loss: 0.3971\n",
      "Epoch 8/100\n",
      "\u001b[1m14/14\u001b[0m \u001b[32m━━━━━━━━━━━━━━━━━━━━\u001b[0m\u001b[37m\u001b[0m \u001b[1m0s\u001b[0m 3ms/step - accuracy: 0.8200 - loss: 0.4134 - val_accuracy: 0.8378 - val_loss: 0.3812\n",
      "Epoch 9/100\n",
      "\u001b[1m14/14\u001b[0m \u001b[32m━━━━━━━━━━━━━━━━━━━━\u001b[0m\u001b[37m\u001b[0m \u001b[1m0s\u001b[0m 3ms/step - accuracy: 0.8292 - loss: 0.3930 - val_accuracy: 0.8378 - val_loss: 0.3708\n",
      "Epoch 10/100\n",
      "\u001b[1m14/14\u001b[0m \u001b[32m━━━━━━━━━━━━━━━━━━━━\u001b[0m\u001b[37m\u001b[0m \u001b[1m0s\u001b[0m 3ms/step - accuracy: 0.8408 - loss: 0.4047 - val_accuracy: 0.8559 - val_loss: 0.3634\n",
      "Epoch 11/100\n",
      "\u001b[1m14/14\u001b[0m \u001b[32m━━━━━━━━━━━━━━━━━━━━\u001b[0m\u001b[37m\u001b[0m \u001b[1m0s\u001b[0m 3ms/step - accuracy: 0.8540 - loss: 0.3893 - val_accuracy: 0.8559 - val_loss: 0.3585\n",
      "Epoch 12/100\n",
      "\u001b[1m14/14\u001b[0m \u001b[32m━━━━━━━━━━━━━━━━━━━━\u001b[0m\u001b[37m\u001b[0m \u001b[1m0s\u001b[0m 3ms/step - accuracy: 0.8096 - loss: 0.4228 - val_accuracy: 0.8559 - val_loss: 0.3552\n",
      "Epoch 13/100\n",
      "\u001b[1m14/14\u001b[0m \u001b[32m━━━━━━━━━━━━━━━━━━━━\u001b[0m\u001b[37m\u001b[0m \u001b[1m0s\u001b[0m 3ms/step - accuracy: 0.8729 - loss: 0.3385 - val_accuracy: 0.8649 - val_loss: 0.3497\n",
      "Epoch 14/100\n",
      "\u001b[1m14/14\u001b[0m \u001b[32m━━━━━━━━━━━━━━━━━━━━\u001b[0m\u001b[37m\u001b[0m \u001b[1m0s\u001b[0m 3ms/step - accuracy: 0.8577 - loss: 0.3342 - val_accuracy: 0.8739 - val_loss: 0.3460\n",
      "Epoch 15/100\n",
      "\u001b[1m14/14\u001b[0m \u001b[32m━━━━━━━━━━━━━━━━━━━━\u001b[0m\u001b[37m\u001b[0m \u001b[1m0s\u001b[0m 3ms/step - accuracy: 0.8762 - loss: 0.3189 - val_accuracy: 0.8739 - val_loss: 0.3431\n",
      "Epoch 16/100\n",
      "\u001b[1m14/14\u001b[0m \u001b[32m━━━━━━━━━━━━━━━━━━━━\u001b[0m\u001b[37m\u001b[0m \u001b[1m0s\u001b[0m 3ms/step - accuracy: 0.8788 - loss: 0.3092 - val_accuracy: 0.8739 - val_loss: 0.3433\n",
      "Epoch 17/100\n",
      "\u001b[1m14/14\u001b[0m \u001b[32m━━━━━━━━━━━━━━━━━━━━\u001b[0m\u001b[37m\u001b[0m \u001b[1m0s\u001b[0m 3ms/step - accuracy: 0.8726 - loss: 0.2923 - val_accuracy: 0.8739 - val_loss: 0.3442\n",
      "Epoch 18/100\n",
      "\u001b[1m14/14\u001b[0m \u001b[32m━━━━━━━━━━━━━━━━━━━━\u001b[0m\u001b[37m\u001b[0m \u001b[1m0s\u001b[0m 4ms/step - accuracy: 0.8883 - loss: 0.3141 - val_accuracy: 0.8739 - val_loss: 0.3472\n",
      "Epoch 19/100\n",
      "\u001b[1m14/14\u001b[0m \u001b[32m━━━━━━━━━━━━━━━━━━━━\u001b[0m\u001b[37m\u001b[0m \u001b[1m0s\u001b[0m 2ms/step - accuracy: 0.8480 - loss: 0.3096 - val_accuracy: 0.8739 - val_loss: 0.3474\n",
      "Epoch 20/100\n",
      "\u001b[1m14/14\u001b[0m \u001b[32m━━━━━━━━━━━━━━━━━━━━\u001b[0m\u001b[37m\u001b[0m \u001b[1m0s\u001b[0m 3ms/step - accuracy: 0.8585 - loss: 0.2843 - val_accuracy: 0.8739 - val_loss: 0.3492\n",
      "\u001b[1m5/5\u001b[0m \u001b[32m━━━━━━━━━━━━━━━━━━━━\u001b[0m\u001b[37m\u001b[0m \u001b[1m0s\u001b[0m 3ms/step - accuracy: 0.8177 - loss: 0.4875 \n",
      "Test accuracy: 0.8333\n"
     ]
    }
   ],
   "source": [
    "import tensorflow as tf\n",
    "from tensorflow.keras.models import Sequential\n",
    "from tensorflow.keras.layers import Dense, Dropout\n",
    "from tensorflow.keras.callbacks import EarlyStopping\n",
    "from sklearn.model_selection import train_test_split\n",
    "\n",
    "df2 = df.copy()\n",
    "\n",
    "X = df2.drop('Approved', axis = 1) # Select all columns except 'Approved'\n",
    "y = df2['Approved'] # This is the target variable\n",
    "\n",
    "# Split the data into numerical and categorical variables\n",
    "num_columns = X.select_dtypes(include=['float64', 'int64']).columns\n",
    "cat_columns = X.select_dtypes(include=['object', 'bool']).columns\n",
    "\n",
    "# Convert categorical variables to numerical using one-hot encoding\n",
    "X = pd.get_dummies(X, columns=cat_columns, drop_first=True)\n",
    "\n",
    "# Split the data into training and testing sets\n",
    "X_train, X_test, y_train, y_test = train_test_split(X, y, test_size=0.2, random_state=42)\n",
    "\n",
    "# Normalize the data\n",
    "scaler = StandardScaler()\n",
    "X_train = scaler.fit_transform(X_train)\n",
    "X_test = scaler.transform(X_test)\n",
    "\n",
    "# Define the MLP model\n",
    "model = Sequential([\n",
    "    Dense(64, activation='relu', input_shape=(X_train.shape[1],)), # Input layer with 64 neurons\n",
    "    Dropout(0.4), # Dropout layer with 40% dropout rate\n",
    "    Dense(32, activation='relu'), # Hidden layer with 32 neurons\n",
    "    Dropout(0.4), # Dropout layer with 40% dropout rate\n",
    "    Dense(1, activation='sigmoid')  # Output layer for binary classification with sigmoid activation\n",
    "])\n",
    "\n",
    "# Compile the model\n",
    "model.compile(optimizer='adam', loss='binary_crossentropy', metrics=['accuracy'])\n",
    "\n",
    "# Define Early Stopping to avoid overfitting\n",
    "early_stopping = EarlyStopping(monitor='val_loss', patience=5, restore_best_weights=True)\n",
    "\n",
    "# Train the model\n",
    "history = model.fit(X_train, y_train, epochs=100, batch_size=32, validation_split=0.2, callbacks=[early_stopping])\n",
    "\n",
    "# Evaluate the model on the test set\n",
    "test_loss, test_acc = model.evaluate(X_test, y_test)\n",
    "print(f'Test accuracy: {test_acc:.4f}')"
   ]
  },
  {
   "cell_type": "markdown",
   "metadata": {},
   "source": [
    "# Model Evaluation"
   ]
  },
  {
   "cell_type": "code",
   "execution_count": 66,
   "metadata": {},
   "outputs": [
    {
     "data": {
      "image/png": "[encoded data removed]",
      "text/plain": [
       "<Figure size 1200x600 with 1 Axes>"
      ]
     },
     "metadata": {},
     "output_type": "display_data"
    },
    {
     "data": {
      "image/png": "[encoded data removed]",
      "text/plain": [
       "<Figure size 1200x600 with 1 Axes>"
      ]
     },
     "metadata": {},
     "output_type": "display_data"
    }
   ],
   "source": [
    "import matplotlib.pyplot as plt\n",
    "# Plot the loss curve for training and validation\n",
    "plt.figure(figsize=(12, 6))\n",
    "plt.plot(history.history['loss'], label='Training Loss')\n",
    "plt.plot(history.history['val_loss'], label='Validation Loss')\n",
    "plt.title('Loss Curve During Training')\n",
    "plt.xlabel('Epoch')\n",
    "plt.ylabel('Loss')\n",
    "plt.legend()\n",
    "plt.grid(True)\n",
    "plt.show()\n",
    "\n",
    "# Plot the accuracy curve for training and validation\n",
    "plt.figure(figsize=(12, 6))\n",
    "plt.plot(history.history['accuracy'], label='Training Accuracy')\n",
    "plt.plot(history.history['val_accuracy'], label='Validation Accuracy')\n",
    "plt.title('Accuracy Curve During Training')\n",
    "plt.xlabel('Epoch')\n",
    "plt.ylabel('Accuracy')\n",
    "plt.legend()\n",
    "plt.grid(True)\n",
    "plt.show()"
   ]
  },
  {
   "cell_type": "markdown",
   "metadata": {},
   "source": [
    "# Análisis de la curva de pérdida \n",
    "- La pérdida de entrenamiento disminuye de forma constante, esto indica que el modelo está aprendiendo bien.\n",
    "- La pérdida de validación se estabiliza después de algunas épocas, lo que sugiere que el modelo no está sobreajustando demasiado.\n",
    "- Como se puede ver, al final, la pérdida de validación empieza a aumentar, esto puede indicar que el modelo ha alcanzado su punto óptimo y seguir entrenando no aportaría mejoras.\n",
    "\n",
    "# Análisis de la curva de precisión\n",
    "- La precisión en entrenamiento mejora constantemente.\n",
    "- La precisión en validación también va mejorando, pero se mantiene en torno al 86 %.\n",
    "- Una pequeña brecha entre ambas curvas sugiere que hay un ligero sobreajuste.\n",
    "\n",
    "# Loss Curve Analysis\n",
    "- The training loss decreases steadily, indicating that the model is learning well.\n",
    "- The validation loss stabilizes after a few epochs, suggesting that the model is not overfitting excessively.\n",
    "- As seen at the end, the validation loss starts to increase, which may indicate that the model has reached its optimal point, and continuing training would not bring further improvements.\n",
    "\n",
    "# Accuracy Curve Analysis\n",
    "- The training accuracy improves consistently.\n",
    "- The validation accuracy also improves but stabilizes around 86%.\n",
    "- A small gap between both curves suggests a slight overfitting."
   ]
  },
  {
   "cell_type": "code",
   "execution_count": 68,
   "metadata": {},
   "outputs": [
    {
     "name": "stdout",
     "output_type": "stream",
     "text": [
      "\u001b[1m5/5\u001b[0m \u001b[32m━━━━━━━━━━━━━━━━━━━━\u001b[0m\u001b[37m\u001b[0m \u001b[1m0s\u001b[0m 3ms/step \n"
     ]
    },
    {
     "data": {
      "image/png": "[encoded data removed]",
      "text/plain": [
       "<Figure size 800x600 with 2 Axes>"
      ]
     },
     "metadata": {},
     "output_type": "display_data"
    },
    {
     "name": "stdout",
     "output_type": "stream",
     "text": [
      "Classification Report:\n",
      "              precision    recall  f1-score   support\n",
      "\n",
      "Not Approved       0.78      0.91      0.84        68\n",
      "    Approved       0.90      0.76      0.82        70\n",
      "\n",
      "    accuracy                           0.83       138\n",
      "   macro avg       0.84      0.83      0.83       138\n",
      "weighted avg       0.84      0.83      0.83       138\n",
      "\n"
     ]
    }
   ],
   "source": [
    "from sklearn.metrics import classification_report, confusion_matrix\n",
    "import seaborn as sns\n",
    "\n",
    "# Generate predictions\n",
    "y_pred_prob = model.predict(X_test)\n",
    "y_pred = (y_pred_prob > 0.5).astype(int)\n",
    "\n",
    "# Generate confusion matrix\n",
    "conf_matrix = confusion_matrix(y_test, y_pred)\n",
    "\n",
    "# Visualize confusion matrix\n",
    "plt.figure(figsize=(8, 6))\n",
    "sns.heatmap(conf_matrix, annot=True, fmt='d', cmap='Blues', xticklabels=['Not Approved', 'Approved'], yticklabels=['Not Approved', 'Approved'])\n",
    "plt.xlabel('Prediction')\n",
    "plt.ylabel('True Label')\n",
    "plt.title('Confusion Matrix')\n",
    "plt.show()\n",
    "\n",
    "# Generate classification report\n",
    "report = classification_report(y_test, y_pred, target_names=['Not Approved', 'Approved'])\n",
    "print(\"Classification Report:\")\n",
    "print(report)"
   ]
  },
  {
   "cell_type": "markdown",
   "metadata": {},
   "source": [
    "# Análisis de la matriz de Confusión\n",
    "- 62 Verdaderos Negativos, 6 Falsos Positivos.\n",
    "- 53 Verdaderos Positivos, 17 Falsos Negativos.\n",
    "Puedo decir que:\n",
    "\n",
    "- El modelo comete más errores al rechazar casos válidos que al aprobar incorrectamente.\n",
    "- Tiene baja cantidad de falsos positivos, lo que indica que no aprueba muchas solicituces incorrectamente.\n",
    "# Confusion Matrix Analysis\n",
    "- 62 True Negatives, 6 False Positives.\n",
    "- 53 True Positives, 17 False Negatives.\n",
    "I can conclude that:\n",
    "\n",
    "- The model makes more mistakes rejecting valid cases than incorrectly approving them.\n",
    "- It has a low number of false positives, indicating that it does not approve many applications incorrectly."
   ]
  },
  {
   "cell_type": "markdown",
   "metadata": {},
   "source": [
    "# Conclusión Final\n",
    "- Random Forest supera a la Red Neuronal en precisión, eso me dice que generaliza mejor.\n",
    "- Random Forest tiene más verdaderos positivos y menos falsos negativos que la Red Neuronal. Esto sugiere que Random Forest es más confiable al aprobar solicitudes, sin rechazar tantas válidas como la Red Neuronal.\n",
    "- La Red Neuronal muestra pequeños signos de sobreajuste. Random Forest, mantiene una precisión estable. Me dice que Random Forest es más robusto y no requiere ajustes adicionales.\n",
    "\n",
    "El mejor modelo para este problema es el Random Forest.\n",
    "\n",
    "# Final Conclusion\n",
    "- Random Forest outperforms the Neural Network in accuracy, indicating that it generalizes better.\n",
    "- Random Forest has more true positives and fewer false negatives than the Neural Network. This suggests that Random Forest is more reliable in approving applications, rejecting fewer valid ones compared to the Neural Network.\n",
    "- The Neural Network shows slight signs of overfitting, while Random Forest maintains stable accuracy. This indicates that Random Forest is more robust and does not require additional adjustments.\n",
    "\n",
    "The best model for this problem is Random Forest."
   ]
  }
 ],
 "metadata": {
  "kernelspec": {
   "display_name": "Python 3",
   "language": "python",
   "name": "python3"
  },
  "language_info": {
   "codemirror_mode": {
    "name": "ipython",
    "version": 3
   },
   "file_extension": ".py",
   "mimetype": "text/x-python",
   "name": "python",
   "nbconvert_exporter": "python",
   "pygments_lexer": "ipython3",
   "version": "3.9.6"
  }
 },
 "nbformat": 4,
 "nbformat_minor": 2
}
